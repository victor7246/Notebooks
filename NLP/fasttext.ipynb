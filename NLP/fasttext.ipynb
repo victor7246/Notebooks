{
 "cells": [
  {
   "cell_type": "markdown",
   "metadata": {},
   "source": [
    "### Fasttext\n",
    "\n",
    "Fasttext is developed by Facebook. It is written in C++, which is very fast and allows multithreadin. Fasttext implementation allows various different tasks -\n",
    "\n",
    "* Unsupervised pretraining - skipgram and CBOW\n",
    "* Supervised text classification\n",
    "* Word embedding extraction\n",
    "* Query\n",
    "* Relationship building (analogy)\n",
    "\n",
    "The implementation also supports word2vec functionalities like - \n",
    "\n",
    "* Negative sampling\n",
    "* Hierarchical softmax\n",
    "\n",
    "The core logic behind fasttext is choosing character n-gram for each word and learning their seperate embeddings. Below we train a Bengali corpus to extract the embeddings.\n",
    "\n",
    "https://fasttext.cc/docs/en/unsupervised-tutorial.html\n"
   ]
  },
  {
   "cell_type": "code",
   "execution_count": 1,
   "metadata": {},
   "outputs": [],
   "source": [
    "import pandas as pd"
   ]
  },
  {
   "cell_type": "code",
   "execution_count": 3,
   "metadata": {},
   "outputs": [
    {
     "data": {
      "text/html": [
       "<div>\n",
       "<style scoped>\n",
       "    .dataframe tbody tr th:only-of-type {\n",
       "        vertical-align: middle;\n",
       "    }\n",
       "\n",
       "    .dataframe tbody tr th {\n",
       "        vertical-align: top;\n",
       "    }\n",
       "\n",
       "    .dataframe thead th {\n",
       "        text-align: right;\n",
       "    }\n",
       "</style>\n",
       "<table border=\"1\" class=\"dataframe\">\n",
       "  <thead>\n",
       "    <tr style=\"text-align: right;\">\n",
       "      <th></th>\n",
       "      <th>0</th>\n",
       "    </tr>\n",
       "  </thead>\n",
       "  <tbody>\n",
       "    <tr>\n",
       "      <th>0</th>\n",
       "      <td>আমার পেট ভরতি হয়ে গেছে।</td>\n",
       "    </tr>\n",
       "    <tr>\n",
       "      <th>1</th>\n",
       "      <td>আমি ঠিক বলতে পারবো না।</td>\n",
       "    </tr>\n",
       "    <tr>\n",
       "      <th>2</th>\n",
       "      <td>টম আমাকে ছেড়ে চলে গিয়েছিল।</td>\n",
       "    </tr>\n",
       "    <tr>\n",
       "      <th>3</th>\n",
       "      <td>একটা গাড়ী টমকে ধাক্কা মারল।</td>\n",
       "    </tr>\n",
       "    <tr>\n",
       "      <th>4</th>\n",
       "      <td>আমি এটা করতে পারব না।</td>\n",
       "    </tr>\n",
       "  </tbody>\n",
       "</table>\n",
       "</div>"
      ],
      "text/plain": [
       "                             0\n",
       "0      আমার পেট ভরতি হয়ে গেছে।\n",
       "1       আমি ঠিক বলতে পারবো না।\n",
       "2   টম আমাকে ছেড়ে চলে গিয়েছিল।\n",
       "3  একটা গাড়ী টমকে ধাক্কা মারল।\n",
       "4        আমি এটা করতে পারব না।"
      ]
     },
     "execution_count": 3,
     "metadata": {},
     "output_type": "execute_result"
    }
   ],
   "source": [
    "df = pd.read_csv('/Users/victor/Desktop/ben.txt',header=None)\n",
    "df.head(5)"
   ]
  },
  {
   "cell_type": "markdown",
   "metadata": {},
   "source": [
    "We use pretrained vector to fine tune the word representations. We keep embedding dimension as 300 and minimum char n-gram as 5 and maximum as 10"
   ]
  },
  {
   "cell_type": "code",
   "execution_count": 11,
   "metadata": {},
   "outputs": [
    {
     "name": "stdout",
     "output_type": "stream",
     "text": [
      "Read 0M words\n",
      "Number of words:  391\n",
      "Number of labels: 0\n",
      "Progress: 100.0% words/sec/thread:   14735 lr:  0.000000 loss:  0.185358 ETA:   0h 0m\n"
     ]
    }
   ],
   "source": [
    "!fastText-0.2.0/fasttext skipgram -input /Users/victor/Desktop/ben.txt -output /Users/victor/Desktop/ben_emb -minn 5 -maxn 10 -dim 300 -pretrainedVectors /Users/victor/Documents/Models/cc.bn.300.vec\n",
    "\n"
   ]
  },
  {
   "cell_type": "code",
   "execution_count": 12,
   "metadata": {},
   "outputs": [
    {
     "name": "stdout",
     "output_type": "stream",
     "text": [
      "আমি -0.32931 0.18306 1.227 -0.58233 0.46813 -0.73084 0.31281 -0.32106 -0.02146 2.0329 0.37587 -1.145 1.5 0.14548 -0.12542 0.70051 -0.93667 0.64389 0.60648 0.45956 -0.31767 0.43078 -0.71775 0.066847 0.56818 0.41195 0.52704 0.7119 -1.4954 -0.85666 0.69183 -0.28549 -0.23158 0.61 -0.56593 0.3912 0.18647 -0.36789 0.011342 -0.71634 -0.89718 -0.7821 0.57323 0.57931 -0.36548 0.7917 -0.55869 0.68534 -0.26748 -0.50278 1.0366 -0.28582 1.1061 0.74846 0.57623 -0.73126 -0.36442 -0.30215 0.12427 -0.4112 -1.1561 0.91384 -0.10559 -0.57253 -0.54086 0.49857 0.83459 1.0644 -0.23765 0.56838 0.057203 -1.332 -0.34205 -0.27973 -0.13099 1.2957 1.0169 -0.97944 -1.8257 -0.4974 1.3325 -0.95574 -2.2218 1.5474 -0.95146 0.066847 1.6112 0.47921 -0.80834 0.89942 0.70476 0.92503 0.39083 -0.13574 0.3873 -0.018164 -0.16991 0.39689 0.77541 0.48988 -0.69433 0.63338 0.34728 0.57296 0.85976 -0.67876 1.9586 -0.66458 -0.081096 0.47647 -0.62881 -0.39466 0.94243 -0.70712 0.35204 0.14057 -0.44425 1.0913 -12.001 0.34625 -1.2778 0.74454 -0.5345 0.8962 1.6239 -0.28479 -0.071358 0.3481 -0.059669 -0.70651 -0.9739 -1.1831 -0.12946 -0.50295 0.33542 0.082203 0.18183 0.22026 -2.9495 0.16662 -0.39137 -0.40478 0.44197 -0.58795 -0.90489 0.17738 0.074312 -0.294 1.1265 -1.3937 -0.24517 0.0057719 -0.93632 -1.5031 1.7174 1.9493 -1.0014 0.40276 0.030245 -0.5672 0.059948 0.78719 -0.32601 -0.023403 0.61957 -1.247 0.072819 -0.37927 0.2402 0.13956 0.12364 1.0494 0.72006 -1.5673 -0.27808 -0.26039 -0.77338 -0.145 0.68279 -0.96493 0.524 -1.1413 0.49793 -0.11578 0.8118 -0.52501 0.77237 -0.28925 1.8306 0.49956 0.92037 0.44466 0.06076 1.5541 1.7933 0.09887 0.10117 -0.06076 -1.034 0.63878 0.40675 0.96559 -0.8007 -0.45711 -1.0215 0.53637 0.010531 0.81146 1.4484 0.45288 -0.84104 -0.98547 0.59672 -0.80961 0.13741 1.8317 0.96152 -0.74379 -0.55872 -0.37853 0.48376 -0.092633 -0.36412 0.1687 0.005483 1.2737 0.48371 0.78766 -1.0877 1.4177 0.81641 -0.71942 0.015579 -0.49482 -0.19078 0.78351 0.616 0.48335 0.72108 0.52857 -0.82676 0.40416 -0.013579 -1.537 0.84845 0.81594 -0.27562 0.16927 0.19821 -0.45799 -0.69794 0.63181 0.85259 0.35113 0.0036101 -0.36145 3.1294 0.37583 1.2071 1.0084 -0.60751 0.30294 -0.27097 0.64458 -0.30211 0.04763 -1.1056 1.5883 0.28538 -0.22367 1.3661 0.067347 0.61288 0.21098 0.42967 -0.88198 0.60623 0.66697 -0.19175 -0.79072 0.53859 -0.66031 0.17216 -0.046361 -0.1776 -1.882 0.42242 -0.55999 -0.63988 -0.71236 0.91163 1.0518 -1.3576 -1.0023 -0.14802 0.51515 0.30344 0.5076 0.051658 0.27394 \r\n"
     ]
    }
   ],
   "source": [
    "!echo \"আমি\" | fastText-0.2.0/fasttext print-word-vectors /Users/victor/Desktop/ben_emb.bin"
   ]
  },
  {
   "cell_type": "markdown",
   "metadata": {},
   "source": [
    "We execute the below command in command line -\n",
    "        \n",
    "        $fastText-0.2.0/fasttext nn /Users/victor/Desktop/ben_emb.bin\n",
    "\n",
    "and give Query word \"আমি\" and got the results -\n"
   ]
  },
  {
   "cell_type": "code",
   "execution_count": 16,
   "metadata": {},
   "outputs": [
    {
     "name": "stdout",
     "output_type": "stream",
     "text": [
      "Read 0M words\n",
      "Number of words:  391\n",
      "Number of labels: 0\n",
      "Progress: 100.0% words/sec/thread:   30848 lr:  0.000000 loss:  0.399491 ETA:   0h 0mm\n"
     ]
    }
   ],
   "source": [
    "!fastText-0.2.0/fasttext cbow -input /Users/victor/Desktop/ben.txt -output /Users/victor/Desktop/ben_emb2 -minn 5 -maxn 10 -dim 300 -pretrainedVectors /Users/victor/Documents/Models/cc.bn.300.vec\n"
   ]
  },
  {
   "cell_type": "markdown",
   "metadata": {},
   "source": [
    "Next we use the crawled pre trained weights from https://fasttext.cc/docs/en/crawl-vectors.html and see the embedding for the above word"
   ]
  },
  {
   "cell_type": "code",
   "execution_count": 19,
   "metadata": {},
   "outputs": [],
   "source": [
    "import io\n",
    "from tqdm import tqdm\n",
    "\n",
    "def load_vectors(fname):\n",
    "    fin = io.open(fname, 'r', encoding='utf-8', newline='\\n', errors='ignore')\n",
    "    n, d = map(int, fin.readline().split())\n",
    "    data = {}\n",
    "    for line in tqdm(fin):\n",
    "        tokens = line.rstrip().split(' ')\n",
    "        data[tokens[0]] = map(float, tokens[1:])\n",
    "    return data"
   ]
  },
  {
   "cell_type": "code",
   "execution_count": 20,
   "metadata": {},
   "outputs": [
    {
     "name": "stderr",
     "output_type": "stream",
     "text": [
      "1468578it [14:13, 1720.58it/s] \n"
     ]
    }
   ],
   "source": [
    "ben_pretrained = load_vectors('/Users/victor/Documents/Models/cc.bn.300.vec')"
   ]
  },
  {
   "cell_type": "code",
   "execution_count": 21,
   "metadata": {},
   "outputs": [
    {
     "data": {
      "text/plain": [
       "1468578"
      ]
     },
     "execution_count": 21,
     "metadata": {},
     "output_type": "execute_result"
    }
   ],
   "source": [
    "len(ben_pretrained)"
   ]
  },
  {
   "cell_type": "code",
   "execution_count": 29,
   "metadata": {},
   "outputs": [
    {
     "data": {
      "text/plain": [
       "['ঢোকাছছেন', 'স্বচ্ছন্দের', 'স্কুলবছর', 'kolkata24x7Latest', 'শানালেও']"
      ]
     },
     "execution_count": 29,
     "metadata": {},
     "output_type": "execute_result"
    }
   ],
   "source": [
    "list(ben_pretrained.keys())[-5:]"
   ]
  },
  {
   "cell_type": "code",
   "execution_count": 31,
   "metadata": {},
   "outputs": [
    {
     "data": {
      "text/plain": [
       "[-0.0029,\n",
       " 0.0178,\n",
       " 0.04,\n",
       " -0.0083,\n",
       " 0.0025,\n",
       " -0.0022,\n",
       " 0.0175,\n",
       " -0.0057,\n",
       " -0.0205,\n",
       " 0.0169,\n",
       " 0.0247,\n",
       " 0.0003,\n",
       " -0.0401,\n",
       " 0.0082,\n",
       " -0.0165,\n",
       " -0.0071,\n",
       " 0.01,\n",
       " 0.0209,\n",
       " -0.0172,\n",
       " -0.0102,\n",
       " -0.0162,\n",
       " -0.0081,\n",
       " -0.0231,\n",
       " -0.0238,\n",
       " 0.0389,\n",
       " -0.0016,\n",
       " -0.0034,\n",
       " 0.0103,\n",
       " 0.0456,\n",
       " 0.0484,\n",
       " -0.0179,\n",
       " 0.0321,\n",
       " -0.0137,\n",
       " -0.0051,\n",
       " -0.039,\n",
       " -0.0239,\n",
       " 0.0026,\n",
       " 0.0153,\n",
       " 0.0408,\n",
       " 0.0368,\n",
       " 0.0239,\n",
       " -0.0076,\n",
       " -0.0049,\n",
       " -0.0497,\n",
       " 0.0061,\n",
       " -0.0047,\n",
       " 0.0029,\n",
       " -0.0043,\n",
       " 0.0064,\n",
       " -0.0047,\n",
       " 0.0059,\n",
       " -0.0064,\n",
       " -0.0323,\n",
       " 0.0185,\n",
       " 0.0053,\n",
       " 0.0203,\n",
       " 0.0148,\n",
       " 0.0,\n",
       " -0.0236,\n",
       " 0.0305,\n",
       " 0.0144,\n",
       " 0.0081,\n",
       " -0.0061,\n",
       " -0.0255,\n",
       " -0.0134,\n",
       " -0.0148,\n",
       " 0.0028,\n",
       " 0.0286,\n",
       " 0.021,\n",
       " -0.009,\n",
       " 0.0046,\n",
       " 0.0019,\n",
       " -0.0,\n",
       " -0.0315,\n",
       " 0.0129,\n",
       " 0.0198,\n",
       " -0.0159,\n",
       " 0.0011,\n",
       " -0.0353,\n",
       " -0.0179,\n",
       " -0.0218,\n",
       " 0.0515,\n",
       " 0.0061,\n",
       " -0.008,\n",
       " 0.009,\n",
       " 0.0035,\n",
       " 0.0099,\n",
       " -0.0133,\n",
       " 0.0166,\n",
       " 0.0176,\n",
       " -0.0524,\n",
       " -0.0048,\n",
       " 0.0095,\n",
       " 0.0548,\n",
       " 0.0122,\n",
       " -0.0002,\n",
       " -0.0139,\n",
       " 0.0124,\n",
       " 0.0304,\n",
       " -0.0016,\n",
       " -0.0064,\n",
       " 0.0042,\n",
       " -0.015,\n",
       " 0.0231,\n",
       " -0.017,\n",
       " -0.0266,\n",
       " 0.0128,\n",
       " -0.0391,\n",
       " 0.0267,\n",
       " 0.0077,\n",
       " 0.0236,\n",
       " 0.0189,\n",
       " -0.0264,\n",
       " -0.0276,\n",
       " -0.0281,\n",
       " -0.0253,\n",
       " -0.0131,\n",
       " 0.0058,\n",
       " -0.0796,\n",
       " -0.0143,\n",
       " -0.0376,\n",
       " -0.012,\n",
       " 0.032,\n",
       " 0.0163,\n",
       " -0.012,\n",
       " -0.015,\n",
       " 0.0142,\n",
       " -0.03,\n",
       " -0.0131,\n",
       " -0.0247,\n",
       " -0.0036,\n",
       " 0.0153,\n",
       " -0.0114,\n",
       " -0.0213,\n",
       " 0.0211,\n",
       " -0.023,\n",
       " -0.0101,\n",
       " -0.0248,\n",
       " 0.0097,\n",
       " 0.0013,\n",
       " -0.0394,\n",
       " 0.0077,\n",
       " -0.0235,\n",
       " -0.0041,\n",
       " 0.0155,\n",
       " -0.0192,\n",
       " -0.0296,\n",
       " -0.0101,\n",
       " -0.0311,\n",
       " 0.0067,\n",
       " 0.0128,\n",
       " -0.0212,\n",
       " 0.028,\n",
       " 0.0143,\n",
       " 0.0116,\n",
       " -0.0222,\n",
       " -0.0123,\n",
       " -0.0141,\n",
       " -0.0211,\n",
       " 0.0267,\n",
       " 0.0067,\n",
       " -0.0335,\n",
       " 0.0083,\n",
       " -0.0294,\n",
       " -0.0208,\n",
       " -0.0006,\n",
       " 0.0192,\n",
       " 0.0006,\n",
       " -0.0056,\n",
       " -0.0032,\n",
       " 0.0097,\n",
       " 0.0114,\n",
       " -0.006,\n",
       " 0.0217,\n",
       " 0.0257,\n",
       " 0.0145,\n",
       " -0.0021,\n",
       " -0.0153,\n",
       " -0.0249,\n",
       " -0.0296,\n",
       " 0.0299,\n",
       " 0.0204,\n",
       " -0.0333,\n",
       " 0.0112,\n",
       " -0.006,\n",
       " 0.0099,\n",
       " 0.0129,\n",
       " -0.0078,\n",
       " 0.0301,\n",
       " 0.0413,\n",
       " -0.0396,\n",
       " -0.0131,\n",
       " -0.033,\n",
       " 0.0379,\n",
       " -0.0254,\n",
       " 0.0213,\n",
       " -0.0086,\n",
       " -0.0114,\n",
       " -0.0187,\n",
       " -0.0325,\n",
       " 0.0107,\n",
       " 0.015,\n",
       " -0.008,\n",
       " 0.0128,\n",
       " -0.0314,\n",
       " -0.0516,\n",
       " -0.0216,\n",
       " 0.0059,\n",
       " -0.0237,\n",
       " 0.0267,\n",
       " -0.004,\n",
       " 0.0246,\n",
       " -0.0045,\n",
       " -0.0224,\n",
       " -0.0344,\n",
       " -0.0163,\n",
       " -0.0016,\n",
       " -0.0149,\n",
       " -0.0037,\n",
       " -0.0053,\n",
       " -0.0109,\n",
       " 0.0288,\n",
       " -0.0106,\n",
       " 0.0043,\n",
       " 0.0059,\n",
       " 0.0059,\n",
       " 0.0009,\n",
       " 0.0575,\n",
       " 0.0188,\n",
       " 0.0323,\n",
       " 0.0161,\n",
       " -0.0387,\n",
       " 0.0083,\n",
       " -0.0047,\n",
       " 0.0086,\n",
       " 0.0296,\n",
       " -0.0096,\n",
       " 0.0091,\n",
       " 0.014,\n",
       " 0.015,\n",
       " 0.0008,\n",
       " -0.0141,\n",
       " 0.0373,\n",
       " -0.0302,\n",
       " 0.0229,\n",
       " 0.0318,\n",
       " 0.024,\n",
       " -0.0122,\n",
       " 0.0232,\n",
       " -0.0169,\n",
       " -0.0177,\n",
       " 0.006,\n",
       " 0.0245,\n",
       " 0.0039,\n",
       " 0.0111,\n",
       " -0.0084,\n",
       " -0.0603,\n",
       " 0.0524,\n",
       " -0.0129,\n",
       " -0.0048,\n",
       " -0.0146,\n",
       " 0.0412,\n",
       " 0.0015,\n",
       " 0.0121,\n",
       " 0.0281,\n",
       " -0.0086,\n",
       " -0.0022,\n",
       " 0.0081,\n",
       " -0.0245,\n",
       " 0.0304,\n",
       " 0.0289,\n",
       " -0.0139,\n",
       " 0.0053,\n",
       " -0.0274,\n",
       " -0.0027,\n",
       " -0.0015,\n",
       " 0.0209,\n",
       " -0.0082,\n",
       " 0.0107,\n",
       " -0.0223,\n",
       " -0.026,\n",
       " -0.0108,\n",
       " -0.0011,\n",
       " 0.0084,\n",
       " -0.013,\n",
       " -0.0151,\n",
       " 0.0053,\n",
       " -0.0177,\n",
       " -0.0102,\n",
       " 0.0345,\n",
       " -0.0239,\n",
       " 0.0363,\n",
       " -0.0701,\n",
       " 0.01,\n",
       " 0.004,\n",
       " 0.0183,\n",
       " 0.0081,\n",
       " -0.0353,\n",
       " 0.0256,\n",
       " -0.0055]"
      ]
     },
     "execution_count": 31,
     "metadata": {},
     "output_type": "execute_result"
    }
   ],
   "source": [
    "list(list(ben_pretrained.values())[-1])"
   ]
  },
  {
   "cell_type": "code",
   "execution_count": null,
   "metadata": {},
   "outputs": [],
   "source": []
  }
 ],
 "metadata": {
  "kernelspec": {
   "display_name": "Python 3",
   "language": "python",
   "name": "python3"
  },
  "language_info": {
   "codemirror_mode": {
    "name": "ipython",
    "version": 3
   },
   "file_extension": ".py",
   "mimetype": "text/x-python",
   "name": "python",
   "nbconvert_exporter": "python",
   "pygments_lexer": "ipython3",
   "version": "3.7.1"
  }
 },
 "nbformat": 4,
 "nbformat_minor": 2
}
