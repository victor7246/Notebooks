{
 "cells": [
  {
   "cell_type": "markdown",
   "metadata": {},
   "source": [
    "In this notebook we read a toy dataset and perform basic data cleaning and lexical analysis. "
   ]
  },
  {
   "cell_type": "markdown",
   "metadata": {},
   "source": [
    "## Contents\n",
    "\n",
    "* [Read the dataset](#datasetreading)\n",
    "* [Regular expressions](#regex)\n",
    "* [EDA](#eda)\n",
    "* [Stemming & Lemmatization](#stemming)\n",
    "* [Tokenization](#tokenization)\n",
    "* [Stop word removal](#stopword)"
   ]
  },
  {
   "cell_type": "markdown",
   "metadata": {},
   "source": [
    "<a id='datasetreading'></a>\n",
    "\n",
    "### Read the dataset"
   ]
  },
  {
   "cell_type": "code",
   "execution_count": 1,
   "metadata": {},
   "outputs": [],
   "source": [
    "import pandas as pd\n",
    "\n",
    "pd.options.display.max_colwidth = -1\n",
    "\n",
    "data = pd.read_csv('amazon_reviews.csv') #for excel file use read_excel"
   ]
  },
  {
   "cell_type": "code",
   "execution_count": 2,
   "metadata": {},
   "outputs": [
    {
     "name": "stdout",
     "output_type": "stream",
     "text": [
      "(2277, 12)\n"
     ]
    }
   ],
   "source": [
    "print (data.shape)"
   ]
  },
  {
   "cell_type": "code",
   "execution_count": 3,
   "metadata": {},
   "outputs": [
    {
     "data": {
      "text/html": [
       "<div>\n",
       "<style scoped>\n",
       "    .dataframe tbody tr th:only-of-type {\n",
       "        vertical-align: middle;\n",
       "    }\n",
       "\n",
       "    .dataframe tbody tr th {\n",
       "        vertical-align: top;\n",
       "    }\n",
       "\n",
       "    .dataframe thead th {\n",
       "        text-align: right;\n",
       "    }\n",
       "</style>\n",
       "<table border=\"1\" class=\"dataframe\">\n",
       "  <thead>\n",
       "    <tr style=\"text-align: right;\">\n",
       "      <th></th>\n",
       "      <th>overall</th>\n",
       "      <th>verified</th>\n",
       "      <th>reviewTime</th>\n",
       "      <th>reviewerID</th>\n",
       "      <th>asin</th>\n",
       "      <th>style</th>\n",
       "      <th>reviewerName</th>\n",
       "      <th>reviewText</th>\n",
       "      <th>summary</th>\n",
       "      <th>unixReviewTime</th>\n",
       "      <th>vote</th>\n",
       "      <th>image</th>\n",
       "    </tr>\n",
       "  </thead>\n",
       "  <tbody>\n",
       "    <tr>\n",
       "      <th>0</th>\n",
       "      <td>5.0</td>\n",
       "      <td>True</td>\n",
       "      <td>08 22, 2013</td>\n",
       "      <td>A34A1UP40713F8</td>\n",
       "      <td>B00009W3I4</td>\n",
       "      <td>{'Style:': ' Dryer Vent'}</td>\n",
       "      <td>James. Backus</td>\n",
       "      <td>I like this as a vent as well as something that will keep house warmer in winter.  I sanded it and then painted it the same color as the house.  Looks great.</td>\n",
       "      <td>Great product</td>\n",
       "      <td>1377129600</td>\n",
       "      <td>NaN</td>\n",
       "      <td>NaN</td>\n",
       "    </tr>\n",
       "    <tr>\n",
       "      <th>1</th>\n",
       "      <td>5.0</td>\n",
       "      <td>True</td>\n",
       "      <td>02 8, 2016</td>\n",
       "      <td>A1AHW6I678O6F2</td>\n",
       "      <td>B00009W3PA</td>\n",
       "      <td>{'Size:': ' 6-Foot'}</td>\n",
       "      <td>kevin.</td>\n",
       "      <td>good item</td>\n",
       "      <td>Five Stars</td>\n",
       "      <td>1454889600</td>\n",
       "      <td>NaN</td>\n",
       "      <td>NaN</td>\n",
       "    </tr>\n",
       "    <tr>\n",
       "      <th>2</th>\n",
       "      <td>5.0</td>\n",
       "      <td>True</td>\n",
       "      <td>08 5, 2015</td>\n",
       "      <td>A8R48NKTGCJDQ</td>\n",
       "      <td>B00009W3PA</td>\n",
       "      <td>{'Size:': ' 6-Foot'}</td>\n",
       "      <td>CDBrannom</td>\n",
       "      <td>Fit my new LG dryer perfectly.</td>\n",
       "      <td>Five Stars</td>\n",
       "      <td>1438732800</td>\n",
       "      <td>NaN</td>\n",
       "      <td>NaN</td>\n",
       "    </tr>\n",
       "    <tr>\n",
       "      <th>3</th>\n",
       "      <td>5.0</td>\n",
       "      <td>True</td>\n",
       "      <td>04 24, 2015</td>\n",
       "      <td>AR3OHHHW01A8E</td>\n",
       "      <td>B00009W3PA</td>\n",
       "      <td>{'Size:': ' 6-Foot'}</td>\n",
       "      <td>Calvin E Reames</td>\n",
       "      <td>Good value for electric dryers</td>\n",
       "      <td>Perfect size</td>\n",
       "      <td>1429833600</td>\n",
       "      <td>NaN</td>\n",
       "      <td>NaN</td>\n",
       "    </tr>\n",
       "    <tr>\n",
       "      <th>4</th>\n",
       "      <td>5.0</td>\n",
       "      <td>True</td>\n",
       "      <td>03 21, 2015</td>\n",
       "      <td>A2CIEGHZ7L1WWR</td>\n",
       "      <td>B00009W3PA</td>\n",
       "      <td>{'Size:': ' 6-Foot'}</td>\n",
       "      <td>albert j. kong</td>\n",
       "      <td>Price and delivery was excellent.</td>\n",
       "      <td>Five Stars</td>\n",
       "      <td>1426896000</td>\n",
       "      <td>NaN</td>\n",
       "      <td>NaN</td>\n",
       "    </tr>\n",
       "    <tr>\n",
       "      <th>5</th>\n",
       "      <td>5.0</td>\n",
       "      <td>True</td>\n",
       "      <td>12 26, 2013</td>\n",
       "      <td>A1RQQV9HYHDHDN</td>\n",
       "      <td>B00009W3PA</td>\n",
       "      <td>{'Size:': ' 6-Foot'}</td>\n",
       "      <td>Adam Baer</td>\n",
       "      <td>I purchasaed a new dryer and did not want to reuse the cord from my old unit. This unit installed in a pretty straight forward manor. Quality was as expected. No Complaints</td>\n",
       "      <td>Easy install</td>\n",
       "      <td>1388016000</td>\n",
       "      <td>NaN</td>\n",
       "      <td>NaN</td>\n",
       "    </tr>\n",
       "    <tr>\n",
       "      <th>6</th>\n",
       "      <td>4.0</td>\n",
       "      <td>True</td>\n",
       "      <td>08 2, 2016</td>\n",
       "      <td>A1OB2H416ARLFJ</td>\n",
       "      <td>B0009GVYNW</td>\n",
       "      <td>NaN</td>\n",
       "      <td>Commando Big</td>\n",
       "      <td>Good value.</td>\n",
       "      <td>Good value for the price.</td>\n",
       "      <td>1470096000</td>\n",
       "      <td>NaN</td>\n",
       "      <td>NaN</td>\n",
       "    </tr>\n",
       "    <tr>\n",
       "      <th>7</th>\n",
       "      <td>2.0</td>\n",
       "      <td>False</td>\n",
       "      <td>07 6, 2017</td>\n",
       "      <td>A3LGZ8M29PBNGG</td>\n",
       "      <td>B000N6302Q</td>\n",
       "      <td>{'Color:': ' Blue'}</td>\n",
       "      <td>nerenttt</td>\n",
       "      <td>works great. we loved ours! till we didn't.  these do not last so buy the warranty as you WILL NEED IT.</td>\n",
       "      <td>the five star posts are from new owners, the rest from disgruntle owners 6 months in with broken icemaker!</td>\n",
       "      <td>1499299200</td>\n",
       "      <td>NaN</td>\n",
       "      <td>NaN</td>\n",
       "    </tr>\n",
       "    <tr>\n",
       "      <th>8</th>\n",
       "      <td>2.0</td>\n",
       "      <td>False</td>\n",
       "      <td>07 6, 2017</td>\n",
       "      <td>A3LGZ8M29PBNGG</td>\n",
       "      <td>B000N6302Q</td>\n",
       "      <td>{'Color:': ' Stainless Steel'}</td>\n",
       "      <td>nerenttt</td>\n",
       "      <td>Luved it for the few months it worked!  great little bullet shaped ice cubes. It was a gift for my sister who never opened the box.  The next summer during a heat wave I asked for my unused gift back, ha!, and was in heaven for a few months.  the next summer after a few weeks the unit gave out.called new air and it was over the one year mark so no warranty.  so my advice is do not buy without  extended warranty!</td>\n",
       "      <td>my advice is do not buy without  extended warranty!</td>\n",
       "      <td>1499299200</td>\n",
       "      <td>NaN</td>\n",
       "      <td>NaN</td>\n",
       "    </tr>\n",
       "    <tr>\n",
       "      <th>9</th>\n",
       "      <td>1.0</td>\n",
       "      <td>False</td>\n",
       "      <td>11 14, 2014</td>\n",
       "      <td>A3SM7H70QI3TY8</td>\n",
       "      <td>B000N6302Q</td>\n",
       "      <td>NaN</td>\n",
       "      <td>SRH</td>\n",
       "      <td>Be careful, NewAir will not stand by their products. Our NewAir broke within the first 4 hours of use.  The manufacturer will NOT cover the item under warranty. Just in case you're actually thinking of buying a NewAir product... think twice...\\n\\nFrom: NewAir Sales &lt;sales@newair.com&gt;\\nDate: Fri, Nov 14, 2014 at 11:03 AM\\nSubject: Re: Icemaker return\\nTo: Susan Ferguson &lt;xxxxx@gwmail.gwu.edu&gt;\\n\\nHi Susan,\\n\\nThe manufacturer warranty is void if the unit is purchased by a private seller who does not have our consent to sell our products. This is the same reason why we ask for a copy of your receipt upon requesting warranty claims because if it not from a valid authorized dealer we will not proceed with warranty work. We also list our authorized dealers on our web site for customer use. We stand behind our products, however when an item is purchased from a private seller the purchaser runs the risk of the item being used, open box, refurbished, and or a scratch and dent. Our one year limited manufacturer's warranty is only valid on new items sold by our authorized online dealers. It is unfortunate to see that you are in this situation, however you will need to contact the seller of the item for a replacement or refund.\\n\\nHave a great day!\\n\\nMireya\\nCustomer Support\\nNewAir | 3419 East Chapman Ave. #190 | Orange, CA 92869\\nPh: 855-963-9247 Em: sales@newair.com\\nFB: facebook.com/NewAirUSA Twitter: @NewAirUSA\\nPinterest: pinterest.com/NewAirUSA Instagram: NewAirUSA\\nWeb: [...]\\n\"Made by awesome\"\\n\\nOn Thu, Nov 13, 2014 at 7:59 PM, Susan Ferguson &lt;xxxxx@gwmail.gwu.edu&gt; wrote:\\nHello Mireya-\\n\\nI'm sorry but I thought the manufacturer warranty was for the manufacturer, NewAir.  Please explain why the warranty is not valid in this case.  I don't see anywhere in the warranty exclusions that the warranty is not valid if not purchased from an authorized dealer.  In addition, a consumer would never know who \"authorized dealers\" are because if a company is selling your product doesn't that implicitly make them authorized to do so?\\n\\nI sincerely hope that NewAir will reconsider this position and stand by the integrity of their products.  This ice machine was literally used for four hours before failing and it is, quite frankly egregious that your company is negating a warranty that explicitly states it will repair or replace defective materials or workmanship for up to one year.\\n\\nPlease let me know how I can talk to a dispute department regarding this matter.  I look forward to your response and I will refrain from giving any reviews of your product until this matter is resolved.\\n\\nThank you,\\nSusan Ferguson\\n\\nOn Thu, Nov 13, 2014 at 3:10 PM, NewAir Sales &lt;sales@newair.com&gt; wrote:\\nHi Susan,\\n\\nUnfortunately, the ice maker was not purchased from an authorized dealer. You will need to contact the seller \"Mehadrin\" through Amazon for any existing issues on your unit.\\n\\nHave a great day!\\n\\nMireya\\nCustomer Support\\nNewAir | 3419 East Chapman Ave. #190 | Orange, CA 92869\\nPh: 855-963-9247 Em: sales@newair.com\\nFB: facebook.com/NewAirUSA Twitter: @NewAirUSA\\nPinterest: pinterest.com/NewAirUSA Instagram: NewAirUSA\\nWeb: [...]\\n\"Made by awesome\"\\n\\nOn Thu, Nov 13, 2014 at 12:32 PM, Susan Ferguson &lt;xxxxxxxxx@gwmail.gwu.edu&gt; wrote:\\nHello-  I received an AI-100S icemaker in March 2014.  I used it one time and within 4 hours the cooling unit had shut down.  My best estimate is that the pump was still working (the water was getting pumped through) but the cooling mechanism was not.  When I plugged the unit back in to try it a few hours later, the cooling mechanism never turned on.\\n\\nSince this product is still under warranty, I am hoping to acquire a new unit since this particular one has essentially never been used and is obviously faulty in some capacity.\\n\\nI have attached the receipt for your reference.  It was purchased as a gift through Amazon Marketplace.  Thanks so much and I look forward to your response.\\n\\nSusan Ferguson</td>\n",
       "      <td>NewAir will not stand behind their products - company emails included</td>\n",
       "      <td>1415923200</td>\n",
       "      <td>NaN</td>\n",
       "      <td>NaN</td>\n",
       "    </tr>\n",
       "  </tbody>\n",
       "</table>\n",
       "</div>"
      ],
      "text/plain": [
       "   overall  verified   reviewTime      reviewerID        asin  \\\n",
       "0  5.0      True      08 22, 2013  A34A1UP40713F8  B00009W3I4   \n",
       "1  5.0      True      02 8, 2016   A1AHW6I678O6F2  B00009W3PA   \n",
       "2  5.0      True      08 5, 2015   A8R48NKTGCJDQ   B00009W3PA   \n",
       "3  5.0      True      04 24, 2015  AR3OHHHW01A8E   B00009W3PA   \n",
       "4  5.0      True      03 21, 2015  A2CIEGHZ7L1WWR  B00009W3PA   \n",
       "5  5.0      True      12 26, 2013  A1RQQV9HYHDHDN  B00009W3PA   \n",
       "6  4.0      True      08 2, 2016   A1OB2H416ARLFJ  B0009GVYNW   \n",
       "7  2.0      False     07 6, 2017   A3LGZ8M29PBNGG  B000N6302Q   \n",
       "8  2.0      False     07 6, 2017   A3LGZ8M29PBNGG  B000N6302Q   \n",
       "9  1.0      False     11 14, 2014  A3SM7H70QI3TY8  B000N6302Q   \n",
       "\n",
       "                            style     reviewerName  \\\n",
       "0  {'Style:': ' Dryer Vent'}       James. Backus     \n",
       "1  {'Size:': ' 6-Foot'}            kevin.            \n",
       "2  {'Size:': ' 6-Foot'}            CDBrannom         \n",
       "3  {'Size:': ' 6-Foot'}            Calvin E Reames   \n",
       "4  {'Size:': ' 6-Foot'}            albert j. kong    \n",
       "5  {'Size:': ' 6-Foot'}            Adam Baer         \n",
       "6  NaN                             Commando Big      \n",
       "7  {'Color:': ' Blue'}             nerenttt          \n",
       "8  {'Color:': ' Stainless Steel'}  nerenttt          \n",
       "9  NaN                             SRH               \n",
       "\n",
       "                                                                                                                                                                                                                                                                                                                                                                                                                                                                                                                                                                                                                                                                                                                                                                                                                                                                                                                                                                                                                                                                                                                                                                                                                                                                                                                                                                                                                                                                                                                                                                                                                                                                                                                                                                                                                                                                                                                                                                                                                                                                                                                                                                                                                                                                                                                                                                                                                                                                                                                                                                                                                                                                                                                                                                                                                                                                                                                                                                                                                                                                                                                                                                                                                                                                                                                                                                                                                                                                                                                                                                                                                                                                                                                                                                                                                                                                                                                                                                                                                                                                                                                                              reviewText  \\\n",
       "0  I like this as a vent as well as something that will keep house warmer in winter.  I sanded it and then painted it the same color as the house.  Looks great.                                                                                                                                                                                                                                                                                                                                                                                                                                                                                                                                                                                                                                                                                                                                                                                                                                                                                                                                                                                                                                                                                                                                                                                                                                                                                                                                                                                                                                                                                                                                                                                                                                                                                                                                                                                                                                                                                                                                                                                                                                                                                                                                                                                                                                                                                                                                                                                                                                                                                                                                                                                                                                                                                                                                                                                                                                                                                                                                                                                                                                                                                                                                                                                                                                                                                                                                                                                                                                                                                                                                                                                                                                                                                                                                                                                                                                                                                                                                                                                           \n",
       "1  good item                                                                                                                                                                                                                                                                                                                                                                                                                                                                                                                                                                                                                                                                                                                                                                                                                                                                                                                                                                                                                                                                                                                                                                                                                                                                                                                                                                                                                                                                                                                                                                                                                                                                                                                                                                                                                                                                                                                                                                                                                                                                                                                                                                                                                                                                                                                                                                                                                                                                                                                                                                                                                                                                                                                                                                                                                                                                                                                                                                                                                                                                                                                                                                                                                                                                                                                                                                                                                                                                                                                                                                                                                                                                                                                                                                                                                                                                                                                                                                                                                                                                                                                                               \n",
       "2  Fit my new LG dryer perfectly.                                                                                                                                                                                                                                                                                                                                                                                                                                                                                                                                                                                                                                                                                                                                                                                                                                                                                                                                                                                                                                                                                                                                                                                                                                                                                                                                                                                                                                                                                                                                                                                                                                                                                                                                                                                                                                                                                                                                                                                                                                                                                                                                                                                                                                                                                                                                                                                                                                                                                                                                                                                                                                                                                                                                                                                                                                                                                                                                                                                                                                                                                                                                                                                                                                                                                                                                                                                                                                                                                                                                                                                                                                                                                                                                                                                                                                                                                                                                                                                                                                                                                                                          \n",
       "3  Good value for electric dryers                                                                                                                                                                                                                                                                                                                                                                                                                                                                                                                                                                                                                                                                                                                                                                                                                                                                                                                                                                                                                                                                                                                                                                                                                                                                                                                                                                                                                                                                                                                                                                                                                                                                                                                                                                                                                                                                                                                                                                                                                                                                                                                                                                                                                                                                                                                                                                                                                                                                                                                                                                                                                                                                                                                                                                                                                                                                                                                                                                                                                                                                                                                                                                                                                                                                                                                                                                                                                                                                                                                                                                                                                                                                                                                                                                                                                                                                                                                                                                                                                                                                                                                          \n",
       "4  Price and delivery was excellent.                                                                                                                                                                                                                                                                                                                                                                                                                                                                                                                                                                                                                                                                                                                                                                                                                                                                                                                                                                                                                                                                                                                                                                                                                                                                                                                                                                                                                                                                                                                                                                                                                                                                                                                                                                                                                                                                                                                                                                                                                                                                                                                                                                                                                                                                                                                                                                                                                                                                                                                                                                                                                                                                                                                                                                                                                                                                                                                                                                                                                                                                                                                                                                                                                                                                                                                                                                                                                                                                                                                                                                                                                                                                                                                                                                                                                                                                                                                                                                                                                                                                                                                       \n",
       "5  I purchasaed a new dryer and did not want to reuse the cord from my old unit. This unit installed in a pretty straight forward manor. Quality was as expected. No Complaints                                                                                                                                                                                                                                                                                                                                                                                                                                                                                                                                                                                                                                                                                                                                                                                                                                                                                                                                                                                                                                                                                                                                                                                                                                                                                                                                                                                                                                                                                                                                                                                                                                                                                                                                                                                                                                                                                                                                                                                                                                                                                                                                                                                                                                                                                                                                                                                                                                                                                                                                                                                                                                                                                                                                                                                                                                                                                                                                                                                                                                                                                                                                                                                                                                                                                                                                                                                                                                                                                                                                                                                                                                                                                                                                                                                                                                                                                                                                                                            \n",
       "6  Good value.                                                                                                                                                                                                                                                                                                                                                                                                                                                                                                                                                                                                                                                                                                                                                                                                                                                                                                                                                                                                                                                                                                                                                                                                                                                                                                                                                                                                                                                                                                                                                                                                                                                                                                                                                                                                                                                                                                                                                                                                                                                                                                                                                                                                                                                                                                                                                                                                                                                                                                                                                                                                                                                                                                                                                                                                                                                                                                                                                                                                                                                                                                                                                                                                                                                                                                                                                                                                                                                                                                                                                                                                                                                                                                                                                                                                                                                                                                                                                                                                                                                                                                                                             \n",
       "7  works great. we loved ours! till we didn't.  these do not last so buy the warranty as you WILL NEED IT.                                                                                                                                                                                                                                                                                                                                                                                                                                                                                                                                                                                                                                                                                                                                                                                                                                                                                                                                                                                                                                                                                                                                                                                                                                                                                                                                                                                                                                                                                                                                                                                                                                                                                                                                                                                                                                                                                                                                                                                                                                                                                                                                                                                                                                                                                                                                                                                                                                                                                                                                                                                                                                                                                                                                                                                                                                                                                                                                                                                                                                                                                                                                                                                                                                                                                                                                                                                                                                                                                                                                                                                                                                                                                                                                                                                                                                                                                                                                                                                                                                                 \n",
       "8  Luved it for the few months it worked!  great little bullet shaped ice cubes. It was a gift for my sister who never opened the box.  The next summer during a heat wave I asked for my unused gift back, ha!, and was in heaven for a few months.  the next summer after a few weeks the unit gave out.called new air and it was over the one year mark so no warranty.  so my advice is do not buy without  extended warranty!                                                                                                                                                                                                                                                                                                                                                                                                                                                                                                                                                                                                                                                                                                                                                                                                                                                                                                                                                                                                                                                                                                                                                                                                                                                                                                                                                                                                                                                                                                                                                                                                                                                                                                                                                                                                                                                                                                                                                                                                                                                                                                                                                                                                                                                                                                                                                                                                                                                                                                                                                                                                                                                                                                                                                                                                                                                                                                                                                                                                                                                                                                                                                                                                                                                                                                                                                                                                                                                                                                                                                                                                                                                                                                                         \n",
       "9  Be careful, NewAir will not stand by their products. Our NewAir broke within the first 4 hours of use.  The manufacturer will NOT cover the item under warranty. Just in case you're actually thinking of buying a NewAir product... think twice...\\n\\nFrom: NewAir Sales <sales@newair.com>\\nDate: Fri, Nov 14, 2014 at 11:03 AM\\nSubject: Re: Icemaker return\\nTo: Susan Ferguson <xxxxx@gwmail.gwu.edu>\\n\\nHi Susan,\\n\\nThe manufacturer warranty is void if the unit is purchased by a private seller who does not have our consent to sell our products. This is the same reason why we ask for a copy of your receipt upon requesting warranty claims because if it not from a valid authorized dealer we will not proceed with warranty work. We also list our authorized dealers on our web site for customer use. We stand behind our products, however when an item is purchased from a private seller the purchaser runs the risk of the item being used, open box, refurbished, and or a scratch and dent. Our one year limited manufacturer's warranty is only valid on new items sold by our authorized online dealers. It is unfortunate to see that you are in this situation, however you will need to contact the seller of the item for a replacement or refund.\\n\\nHave a great day!\\n\\nMireya\\nCustomer Support\\nNewAir | 3419 East Chapman Ave. #190 | Orange, CA 92869\\nPh: 855-963-9247 Em: sales@newair.com\\nFB: facebook.com/NewAirUSA Twitter: @NewAirUSA\\nPinterest: pinterest.com/NewAirUSA Instagram: NewAirUSA\\nWeb: [...]\\n\"Made by awesome\"\\n\\nOn Thu, Nov 13, 2014 at 7:59 PM, Susan Ferguson <xxxxx@gwmail.gwu.edu> wrote:\\nHello Mireya-\\n\\nI'm sorry but I thought the manufacturer warranty was for the manufacturer, NewAir.  Please explain why the warranty is not valid in this case.  I don't see anywhere in the warranty exclusions that the warranty is not valid if not purchased from an authorized dealer.  In addition, a consumer would never know who \"authorized dealers\" are because if a company is selling your product doesn't that implicitly make them authorized to do so?\\n\\nI sincerely hope that NewAir will reconsider this position and stand by the integrity of their products.  This ice machine was literally used for four hours before failing and it is, quite frankly egregious that your company is negating a warranty that explicitly states it will repair or replace defective materials or workmanship for up to one year.\\n\\nPlease let me know how I can talk to a dispute department regarding this matter.  I look forward to your response and I will refrain from giving any reviews of your product until this matter is resolved.\\n\\nThank you,\\nSusan Ferguson\\n\\nOn Thu, Nov 13, 2014 at 3:10 PM, NewAir Sales <sales@newair.com> wrote:\\nHi Susan,\\n\\nUnfortunately, the ice maker was not purchased from an authorized dealer. You will need to contact the seller \"Mehadrin\" through Amazon for any existing issues on your unit.\\n\\nHave a great day!\\n\\nMireya\\nCustomer Support\\nNewAir | 3419 East Chapman Ave. #190 | Orange, CA 92869\\nPh: 855-963-9247 Em: sales@newair.com\\nFB: facebook.com/NewAirUSA Twitter: @NewAirUSA\\nPinterest: pinterest.com/NewAirUSA Instagram: NewAirUSA\\nWeb: [...]\\n\"Made by awesome\"\\n\\nOn Thu, Nov 13, 2014 at 12:32 PM, Susan Ferguson <xxxxxxxxx@gwmail.gwu.edu> wrote:\\nHello-  I received an AI-100S icemaker in March 2014.  I used it one time and within 4 hours the cooling unit had shut down.  My best estimate is that the pump was still working (the water was getting pumped through) but the cooling mechanism was not.  When I plugged the unit back in to try it a few hours later, the cooling mechanism never turned on.\\n\\nSince this product is still under warranty, I am hoping to acquire a new unit since this particular one has essentially never been used and is obviously faulty in some capacity.\\n\\nI have attached the receipt for your reference.  It was purchased as a gift through Amazon Marketplace.  Thanks so much and I look forward to your response.\\n\\nSusan Ferguson   \n",
       "\n",
       "                                                                                                      summary  \\\n",
       "0  Great product                                                                                                \n",
       "1  Five Stars                                                                                                   \n",
       "2  Five Stars                                                                                                   \n",
       "3  Perfect size                                                                                                 \n",
       "4  Five Stars                                                                                                   \n",
       "5  Easy install                                                                                                 \n",
       "6  Good value for the price.                                                                                    \n",
       "7  the five star posts are from new owners, the rest from disgruntle owners 6 months in with broken icemaker!   \n",
       "8  my advice is do not buy without  extended warranty!                                                          \n",
       "9  NewAir will not stand behind their products - company emails included                                        \n",
       "\n",
       "   unixReviewTime vote image  \n",
       "0  1377129600      NaN  NaN   \n",
       "1  1454889600      NaN  NaN   \n",
       "2  1438732800      NaN  NaN   \n",
       "3  1429833600      NaN  NaN   \n",
       "4  1426896000      NaN  NaN   \n",
       "5  1388016000      NaN  NaN   \n",
       "6  1470096000      NaN  NaN   \n",
       "7  1499299200      NaN  NaN   \n",
       "8  1499299200      NaN  NaN   \n",
       "9  1415923200      NaN  NaN   "
      ]
     },
     "execution_count": 3,
     "metadata": {},
     "output_type": "execute_result"
    }
   ],
   "source": [
    "data.head(10)"
   ]
  },
  {
   "cell_type": "markdown",
   "metadata": {},
   "source": [
    "<a id='regex'></a>\n",
    "\n",
    "### Regular expression and basic data cleaning\n",
    "\n",
    "A RegEx, or Regular Expression, is a sequence of characters that forms a search pattern. RegEx can be used to check if a string contains the specified search pattern.\n",
    "\n",
    "More can be learned from https://regex101.com/"
   ]
  },
  {
   "cell_type": "code",
   "execution_count": 4,
   "metadata": {},
   "outputs": [
    {
     "name": "stdout",
     "output_type": "stream",
     "text": [
      "Be careful, NewAir will not stand by their products. Our NewAir broke within the first 4 hours of use.  The manufacturer will NOT cover the item under warranty. Just in case you're actually thinking of buying a NewAir product... think twice...\n",
      "\n",
      "From: NewAir Sales <sales@newair.com>\n",
      "Date: Fri, Nov 14, 2014 at 11:03 AM\n",
      "Subject: Re: Icemaker return\n",
      "To: Susan Ferguson <xxxxx@gwmail.gwu.edu>\n",
      "\n",
      "Hi Susan,\n",
      "\n",
      "The manufacturer warranty is void if the unit is purchased by a private seller who does not have our consent to sell our products. This is the same reason why we ask for a copy of your receipt upon requesting warranty claims because if it not from a valid authorized dealer we will not proceed with warranty work. We also list our authorized dealers on our web site for customer use. We stand behind our products, however when an item is purchased from a private seller the purchaser runs the risk of the item being used, open box, refurbished, and or a scratch and dent. Our one year limited manufacturer's warranty is only valid on new items sold by our authorized online dealers. It is unfortunate to see that you are in this situation, however you will need to contact the seller of the item for a replacement or refund.\n",
      "\n",
      "Have a great day!\n",
      "\n",
      "Mireya\n",
      "Customer Support\n",
      "NewAir | 3419 East Chapman Ave. #190 | Orange, CA 92869\n",
      "Ph: 855-963-9247 Em: sales@newair.com\n",
      "FB: facebook.com/NewAirUSA Twitter: @NewAirUSA\n",
      "Pinterest: pinterest.com/NewAirUSA Instagram: NewAirUSA\n",
      "Web: [...]\n",
      "\"Made by awesome\"\n",
      "\n",
      "On Thu, Nov 13, 2014 at 7:59 PM, Susan Ferguson <xxxxx@gwmail.gwu.edu> wrote:\n",
      "Hello Mireya-\n",
      "\n",
      "I'm sorry but I thought the manufacturer warranty was for the manufacturer, NewAir.  Please explain why the warranty is not valid in this case.  I don't see anywhere in the warranty exclusions that the warranty is not valid if not purchased from an authorized dealer.  In addition, a consumer would never know who \"authorized dealers\" are because if a company is selling your product doesn't that implicitly make them authorized to do so?\n",
      "\n",
      "I sincerely hope that NewAir will reconsider this position and stand by the integrity of their products.  This ice machine was literally used for four hours before failing and it is, quite frankly egregious that your company is negating a warranty that explicitly states it will repair or replace defective materials or workmanship for up to one year.\n",
      "\n",
      "Please let me know how I can talk to a dispute department regarding this matter.  I look forward to your response and I will refrain from giving any reviews of your product until this matter is resolved.\n",
      "\n",
      "Thank you,\n",
      "Susan Ferguson\n",
      "\n",
      "On Thu, Nov 13, 2014 at 3:10 PM, NewAir Sales <sales@newair.com> wrote:\n",
      "Hi Susan,\n",
      "\n",
      "Unfortunately, the ice maker was not purchased from an authorized dealer. You will need to contact the seller \"Mehadrin\" through Amazon for any existing issues on your unit.\n",
      "\n",
      "Have a great day!\n",
      "\n",
      "Mireya\n",
      "Customer Support\n",
      "NewAir | 3419 East Chapman Ave. #190 | Orange, CA 92869\n",
      "Ph: 855-963-9247 Em: sales@newair.com\n",
      "FB: facebook.com/NewAirUSA Twitter: @NewAirUSA\n",
      "Pinterest: pinterest.com/NewAirUSA Instagram: NewAirUSA\n",
      "Web: [...]\n",
      "\"Made by awesome\"\n",
      "\n",
      "On Thu, Nov 13, 2014 at 12:32 PM, Susan Ferguson <xxxxxxxxx@gwmail.gwu.edu> wrote:\n",
      "Hello-  I received an AI-100S icemaker in March 2014.  I used it one time and within 4 hours the cooling unit had shut down.  My best estimate is that the pump was still working (the water was getting pumped through) but the cooling mechanism was not.  When I plugged the unit back in to try it a few hours later, the cooling mechanism never turned on.\n",
      "\n",
      "Since this product is still under warranty, I am hoping to acquire a new unit since this particular one has essentially never been used and is obviously faulty in some capacity.\n",
      "\n",
      "I have attached the receipt for your reference.  It was purchased as a gift through Amazon Marketplace.  Thanks so much and I look forward to your response.\n",
      "\n",
      "Susan Ferguson\n"
     ]
    }
   ],
   "source": [
    "sample_text = data.reviewText.iloc[9]\n",
    "print (sample_text)"
   ]
  },
  {
   "cell_type": "code",
   "execution_count": 5,
   "metadata": {},
   "outputs": [],
   "source": [
    "import re"
   ]
  },
  {
   "cell_type": "markdown",
   "metadata": {},
   "source": [
    "We remove all the email ids mentioned in the text"
   ]
  },
  {
   "cell_type": "code",
   "execution_count": 6,
   "metadata": {},
   "outputs": [
    {
     "name": "stdout",
     "output_type": "stream",
     "text": [
      "Be careful, NewAir will not stand by their products. Our NewAir broke within the first 4 hours of use.  The manufacturer will NOT cover the item under warranty. Just in case you're actually thinking of buying a NewAir product... think twice...\n",
      "\n",
      "From: NewAir Sales  \n",
      "Date: Fri, Nov 14, 2014 at 11:03 AM\n",
      "Subject: Re: Icemaker return\n",
      "To: Susan Ferguson  \n",
      "\n",
      "Hi Susan,\n",
      "\n",
      "The manufacturer warranty is void if the unit is purchased by a private seller who does not have our consent to sell our products. This is the same reason why we ask for a copy of your receipt upon requesting warranty claims because if it not from a valid authorized dealer we will not proceed with warranty work. We also list our authorized dealers on our web site for customer use. We stand behind our products, however when an item is purchased from a private seller the purchaser runs the risk of the item being used, open box, refurbished, and or a scratch and dent. Our one year limited manufacturer's warranty is only valid on new items sold by our authorized online dealers. It is unfortunate to see that you are in this situation, however you will need to contact the seller of the item for a replacement or refund.\n",
      "\n",
      "Have a great day!\n",
      "\n",
      "Mireya\n",
      "Customer Support\n",
      "NewAir | 3419 East Chapman Ave. #190 | Orange, CA 92869\n",
      "Ph: 855-963-9247 Em:  \n",
      "FB: facebook.com/NewAirUSA Twitter: @NewAirUSA\n",
      "Pinterest: pinterest.com/NewAirUSA Instagram: NewAirUSA\n",
      "Web: [...]\n",
      "\"Made by awesome\"\n",
      "\n",
      "On Thu, Nov 13, 2014 at 7:59 PM, Susan Ferguson   wrote:\n",
      "Hello Mireya-\n",
      "\n",
      "I'm sorry but I thought the manufacturer warranty was for the manufacturer, NewAir.  Please explain why the warranty is not valid in this case.  I don't see anywhere in the warranty exclusions that the warranty is not valid if not purchased from an authorized dealer.  In addition, a consumer would never know who \"authorized dealers\" are because if a company is selling your product doesn't that implicitly make them authorized to do so?\n",
      "\n",
      "I sincerely hope that NewAir will reconsider this position and stand by the integrity of their products.  This ice machine was literally used for four hours before failing and it is, quite frankly egregious that your company is negating a warranty that explicitly states it will repair or replace defective materials or workmanship for up to one year.\n",
      "\n",
      "Please let me know how I can talk to a dispute department regarding this matter.  I look forward to your response and I will refrain from giving any reviews of your product until this matter is resolved.\n",
      "\n",
      "Thank you,\n",
      "Susan Ferguson\n",
      "\n",
      "On Thu, Nov 13, 2014 at 3:10 PM, NewAir Sales   wrote:\n",
      "Hi Susan,\n",
      "\n",
      "Unfortunately, the ice maker was not purchased from an authorized dealer. You will need to contact the seller \"Mehadrin\" through Amazon for any existing issues on your unit.\n",
      "\n",
      "Have a great day!\n",
      "\n",
      "Mireya\n",
      "Customer Support\n",
      "NewAir | 3419 East Chapman Ave. #190 | Orange, CA 92869\n",
      "Ph: 855-963-9247 Em:  \n",
      "FB: facebook.com/NewAirUSA Twitter: @NewAirUSA\n",
      "Pinterest: pinterest.com/NewAirUSA Instagram: NewAirUSA\n",
      "Web: [...]\n",
      "\"Made by awesome\"\n",
      "\n",
      "On Thu, Nov 13, 2014 at 12:32 PM, Susan Ferguson   wrote:\n",
      "Hello-  I received an AI-100S icemaker in March 2014.  I used it one time and within 4 hours the cooling unit had shut down.  My best estimate is that the pump was still working (the water was getting pumped through) but the cooling mechanism was not.  When I plugged the unit back in to try it a few hours later, the cooling mechanism never turned on.\n",
      "\n",
      "Since this product is still under warranty, I am hoping to acquire a new unit since this particular one has essentially never been used and is obviously faulty in some capacity.\n",
      "\n",
      "I have attached the receipt for your reference.  It was purchased as a gift through Amazon Marketplace.  Thanks so much and I look forward to your response.\n",
      "\n",
      "Susan Ferguson\n"
     ]
    }
   ],
   "source": [
    "sample_text_processed = re.sub(r'[\\w.<>]*\\w+@\\w+[\\w.<>]*', \" \", sample_text)\n",
    "print (sample_text_processed)"
   ]
  },
  {
   "cell_type": "markdown",
   "metadata": {},
   "source": [
    "Remove all the non alphanumeric characters from the text"
   ]
  },
  {
   "cell_type": "code",
   "execution_count": 7,
   "metadata": {},
   "outputs": [
    {
     "name": "stdout",
     "output_type": "stream",
     "text": [
      "Be careful  NewAir will not stand by their products  Our NewAir broke within the first 4 hours of use   The manufacturer will NOT cover the item under warranty  Just in case you re actually thinking of buying a NewAir product    think twice     From  NewAir Sales   Date  Fri  Nov 14  2014 at 11 03 AM Subject  Re  Icemaker return To  Susan Ferguson    Hi Susan   The manufacturer warranty is void if the unit is purchased by a private seller who does not have our consent to sell our products  This is the same reason why we ask for a copy of your receipt upon requesting warranty claims because if it not from a valid authorized dealer we will not proceed with warranty work  We also list our authorized dealers on our web site for customer use  We stand behind our products  however when an item is purchased from a private seller the purchaser runs the risk of the item being used  open box  refurbished  and or a scratch and dent  Our one year limited manufacturer s warranty is only valid on new items sold by our authorized online dealers  It is unfortunate to see that you are in this situation  however you will need to contact the seller of the item for a replacement or refund   Have a great day   Mireya Customer Support NewAir   3419 East Chapman Ave   190   Orange  CA 92869 Ph  855 963 9247 Em    FB  facebook com NewAirUSA Twitter   NewAirUSA Pinterest  pinterest com NewAirUSA Instagram  NewAirUSA Web         Made by awesome   On Thu  Nov 13  2014 at 7 59 PM  Susan Ferguson   wrote  Hello Mireya   I m sorry but I thought the manufacturer warranty was for the manufacturer  NewAir   Please explain why the warranty is not valid in this case   I don t see anywhere in the warranty exclusions that the warranty is not valid if not purchased from an authorized dealer   In addition  a consumer would never know who  authorized dealers  are because if a company is selling your product doesn t that implicitly make them authorized to do so   I sincerely hope that NewAir will reconsider this position and stand by the integrity of their products   This ice machine was literally used for four hours before failing and it is  quite frankly egregious that your company is negating a warranty that explicitly states it will repair or replace defective materials or workmanship for up to one year   Please let me know how I can talk to a dispute department regarding this matter   I look forward to your response and I will refrain from giving any reviews of your product until this matter is resolved   Thank you  Susan Ferguson  On Thu  Nov 13  2014 at 3 10 PM  NewAir Sales   wrote  Hi Susan   Unfortunately  the ice maker was not purchased from an authorized dealer  You will need to contact the seller  Mehadrin  through Amazon for any existing issues on your unit   Have a great day   Mireya Customer Support NewAir   3419 East Chapman Ave   190   Orange  CA 92869 Ph  855 963 9247 Em    FB  facebook com NewAirUSA Twitter   NewAirUSA Pinterest  pinterest com NewAirUSA Instagram  NewAirUSA Web         Made by awesome   On Thu  Nov 13  2014 at 12 32 PM  Susan Ferguson   wrote  Hello   I received an AI 100S icemaker in March 2014   I used it one time and within 4 hours the cooling unit had shut down   My best estimate is that the pump was still working  the water was getting pumped through  but the cooling mechanism was not   When I plugged the unit back in to try it a few hours later  the cooling mechanism never turned on   Since this product is still under warranty  I am hoping to acquire a new unit since this particular one has essentially never been used and is obviously faulty in some capacity   I have attached the receipt for your reference   It was purchased as a gift through Amazon Marketplace   Thanks so much and I look forward to your response   Susan Ferguson\n"
     ]
    }
   ],
   "source": [
    "sample_text_processed = re.sub(\"[^a-zA-Z0-9]\", \" \", sample_text_processed)\n",
    "print (sample_text_processed)"
   ]
  },
  {
   "cell_type": "markdown",
   "metadata": {},
   "source": [
    "remove multiple consecutive spaces and replace with single space"
   ]
  },
  {
   "cell_type": "code",
   "execution_count": 8,
   "metadata": {},
   "outputs": [
    {
     "name": "stdout",
     "output_type": "stream",
     "text": [
      "Be careful NewAir will not stand by their products Our NewAir broke within the first 4 hours of use The manufacturer will NOT cover the item under warranty Just in case you re actually thinking of buying a NewAir product think twice From NewAir Sales Date Fri Nov 14 2014 at 11 03 AM Subject Re Icemaker return To Susan Ferguson Hi Susan The manufacturer warranty is void if the unit is purchased by a private seller who does not have our consent to sell our products This is the same reason why we ask for a copy of your receipt upon requesting warranty claims because if it not from a valid authorized dealer we will not proceed with warranty work We also list our authorized dealers on our web site for customer use We stand behind our products however when an item is purchased from a private seller the purchaser runs the risk of the item being used open box refurbished and or a scratch and dent Our one year limited manufacturer s warranty is only valid on new items sold by our authorized online dealers It is unfortunate to see that you are in this situation however you will need to contact the seller of the item for a replacement or refund Have a great day Mireya Customer Support NewAir 3419 East Chapman Ave 190 Orange CA 92869 Ph 855 963 9247 Em FB facebook com NewAirUSA Twitter NewAirUSA Pinterest pinterest com NewAirUSA Instagram NewAirUSA Web Made by awesome On Thu Nov 13 2014 at 7 59 PM Susan Ferguson wrote Hello Mireya I m sorry but I thought the manufacturer warranty was for the manufacturer NewAir Please explain why the warranty is not valid in this case I don t see anywhere in the warranty exclusions that the warranty is not valid if not purchased from an authorized dealer In addition a consumer would never know who authorized dealers are because if a company is selling your product doesn t that implicitly make them authorized to do so I sincerely hope that NewAir will reconsider this position and stand by the integrity of their products This ice machine was literally used for four hours before failing and it is quite frankly egregious that your company is negating a warranty that explicitly states it will repair or replace defective materials or workmanship for up to one year Please let me know how I can talk to a dispute department regarding this matter I look forward to your response and I will refrain from giving any reviews of your product until this matter is resolved Thank you Susan Ferguson On Thu Nov 13 2014 at 3 10 PM NewAir Sales wrote Hi Susan Unfortunately the ice maker was not purchased from an authorized dealer You will need to contact the seller Mehadrin through Amazon for any existing issues on your unit Have a great day Mireya Customer Support NewAir 3419 East Chapman Ave 190 Orange CA 92869 Ph 855 963 9247 Em FB facebook com NewAirUSA Twitter NewAirUSA Pinterest pinterest com NewAirUSA Instagram NewAirUSA Web Made by awesome On Thu Nov 13 2014 at 12 32 PM Susan Ferguson wrote Hello I received an AI 100S icemaker in March 2014 I used it one time and within 4 hours the cooling unit had shut down My best estimate is that the pump was still working the water was getting pumped through but the cooling mechanism was not When I plugged the unit back in to try it a few hours later the cooling mechanism never turned on Since this product is still under warranty I am hoping to acquire a new unit since this particular one has essentially never been used and is obviously faulty in some capacity I have attached the receipt for your reference It was purchased as a gift through Amazon Marketplace Thanks so much and I look forward to your response Susan Ferguson\n"
     ]
    }
   ],
   "source": [
    "sample_text_processed = re.sub(\" +\", \" \", sample_text_processed)\n",
    "print (sample_text_processed)"
   ]
  },
  {
   "cell_type": "markdown",
   "metadata": {},
   "source": [
    "Putting everything together in a function and apply the cleaning on all the texts"
   ]
  },
  {
   "cell_type": "code",
   "execution_count": 9,
   "metadata": {},
   "outputs": [],
   "source": [
    "def clean_text(x):\n",
    "    x = re.sub(r'[\\w.<>]*\\w+@\\w+[\\w.<>]*', \" \", x)\n",
    "    x = re.sub(\"[^a-zA-Z0-9]\", \" \", x)\n",
    "    x = re.sub(\" +\", \" \", x)\n",
    "    return x "
   ]
  },
  {
   "cell_type": "code",
   "execution_count": 10,
   "metadata": {},
   "outputs": [],
   "source": [
    "data['clean_reviewtext'] = data.reviewText.apply(clean_text)"
   ]
  },
  {
   "cell_type": "markdown",
   "metadata": {},
   "source": [
    "<a id='eda'></a>\n",
    "\n",
    "### Basic descriptive analysis on the review texts"
   ]
  },
  {
   "cell_type": "code",
   "execution_count": 11,
   "metadata": {},
   "outputs": [
    {
     "data": {
      "image/png": "[encoded data removed]",
      "text/plain": [
       "<Figure size 432x288 with 1 Axes>"
      ]
     },
     "metadata": {},
     "output_type": "display_data"
    }
   ],
   "source": [
    "import matplotlib.pyplot as plt\n",
    "\n",
    "data.clean_reviewtext.apply(len).plot.hist()\n",
    "data.reviewText.apply(len).plot.hist()\n",
    "plt.title(\"Distribution of total number of characters in the reviews\")\n",
    "plt.legend([\"before cleaning\",\"after cleaning\"])\n",
    "plt.show()"
   ]
  },
  {
   "cell_type": "code",
   "execution_count": 12,
   "metadata": {},
   "outputs": [
    {
     "data": {
      "image/png": "[encoded data removed]",
      "text/plain": [
       "<Figure size 432x288 with 1 Axes>"
      ]
     },
     "metadata": {},
     "output_type": "display_data"
    }
   ],
   "source": [
    "data.clean_reviewtext.apply(lambda x: len(x.split())).plot.hist()\n",
    "data.reviewText.apply(lambda x: len(x.split())).plot.hist()\n",
    "plt.title(\"Distribution of total number of words in the reviews\")\n",
    "plt.legend([\"before cleaning\",\"after cleaning\"])\n",
    "plt.show()"
   ]
  },
  {
   "cell_type": "markdown",
   "metadata": {},
   "source": [
    "<a id='stemming'></a>\n",
    "\n",
    "### Stemming and Lemmatization\n",
    "\n",
    "Stemming changes word into its root stem. \n",
    "\n",
    "<img src = https://miro.medium.com/max/359/1*l65c30sY9fQsWPKIckqmCQ.png>\n",
    "\n",
    "However, the root stem may not be lexicographically a correct word. Lemmatization on the other hand standardizes a word into its root word. Lemmatization deals with higher level of abstraction.\n",
    "\n",
    "<img src = https://devopedia.org/images/article/227/6785.1570815200.png>\n"
   ]
  },
  {
   "cell_type": "code",
   "execution_count": 13,
   "metadata": {},
   "outputs": [
    {
     "name": "stdout",
     "output_type": "stream",
     "text": [
      "I purchasaed a new dryer and did not want to reuse the cord from my old unit This unit installed in a pretty straight forward manor Quality was as expected No Complaints\n"
     ]
    }
   ],
   "source": [
    "sample_text = data.clean_reviewtext.iloc[5]\n",
    "print (sample_text)"
   ]
  },
  {
   "cell_type": "code",
   "execution_count": 14,
   "metadata": {},
   "outputs": [],
   "source": [
    "import nltk\n",
    "\n",
    "def simple_stemmer(text):\n",
    "    ps = nltk.porter.PorterStemmer()\n",
    "    text = ' '.join([ps.stem(word) for word in text.split()])\n",
    "    return text"
   ]
  },
  {
   "cell_type": "code",
   "execution_count": 15,
   "metadata": {},
   "outputs": [
    {
     "name": "stdout",
     "output_type": "stream",
     "text": [
      "I purchasa a new dryer and did not want to reus the cord from my old unit thi unit instal in a pretti straight forward manor qualiti wa as expect No complaint\n"
     ]
    }
   ],
   "source": [
    "stemmed_text = simple_stemmer(sample_text)\n",
    "print (stemmed_text)"
   ]
  },
  {
   "cell_type": "code",
   "execution_count": 16,
   "metadata": {},
   "outputs": [],
   "source": [
    "import spacy\n",
    "import en_core_web_sm\n",
    "\n",
    "nlp = spacy.load('en_core_web_sm', parse=True, tag=True, entity=True)\n",
    "\n",
    "def simple_lemmatizer(text):\n",
    "    text = nlp(text)\n",
    "    text = ' '.join([word.lemma_ if word.lemma_ != '-PRON-' else word.text for word in text])\n",
    "    return text"
   ]
  },
  {
   "cell_type": "code",
   "execution_count": 17,
   "metadata": {},
   "outputs": [
    {
     "name": "stdout",
     "output_type": "stream",
     "text": [
      "I purchasaed a new dryer and do not want to reuse the cord from my old unit this unit instal in a pretty straight forward manor Quality be as expect no Complaints\n"
     ]
    }
   ],
   "source": [
    "lemmatized_text = simple_lemmatizer(sample_text)\n",
    "print (lemmatized_text)"
   ]
  },
  {
   "cell_type": "markdown",
   "metadata": {},
   "source": [
    "Let us apply lemmatization on all the review texts"
   ]
  },
  {
   "cell_type": "code",
   "execution_count": 18,
   "metadata": {},
   "outputs": [],
   "source": [
    "data['clean_reviewtext'] = data.clean_reviewtext.apply(simple_lemmatizer)"
   ]
  },
  {
   "cell_type": "markdown",
   "metadata": {},
   "source": [
    "<a id='tokenization'></a>\n",
    "\n",
    "### Tokenization\n",
    "\n",
    "Tokenization splits a text into tokens or, words. Typically, words are splitted based on blank spaces. But tokenizations can also split words joined by other characters."
   ]
  },
  {
   "cell_type": "code",
   "execution_count": 19,
   "metadata": {},
   "outputs": [
    {
     "name": "stdout",
     "output_type": "stream",
     "text": [
      "['this', 'is', 'NLP', 'training']\n"
     ]
    }
   ],
   "source": [
    "from nltk.tokenize import WordPunctTokenizer\n",
    "\n",
    "tokenizer = WordPunctTokenizer()\n",
    "sample_text = \"this is NLP training\"\n",
    "print (tokenizer.tokenize(sample_text))"
   ]
  },
  {
   "cell_type": "code",
   "execution_count": 20,
   "metadata": {},
   "outputs": [
    {
     "name": "stdout",
     "output_type": "stream",
     "text": [
      "['this', 'is', 'NLP', '-', 'AI', 'training']\n"
     ]
    }
   ],
   "source": [
    "sample_text = \"this is NLP-AI training\"\n",
    "print (tokenizer.tokenize(sample_text))"
   ]
  },
  {
   "cell_type": "code",
   "execution_count": 21,
   "metadata": {},
   "outputs": [
    {
     "name": "stdout",
     "output_type": "stream",
     "text": [
      "['this', 'is', 'NLP', ',', 'AI', 'training']\n"
     ]
    }
   ],
   "source": [
    "sample_text = \"this is NLP,AI training\"\n",
    "print (tokenizer.tokenize(sample_text))"
   ]
  },
  {
   "cell_type": "markdown",
   "metadata": {},
   "source": [
    "<a id='stopword'></a>\n",
    "\n",
    "### Stop word removal\n",
    "\n",
    "Let us first see the most frequent words in the dataset"
   ]
  },
  {
   "cell_type": "code",
   "execution_count": 22,
   "metadata": {},
   "outputs": [
    {
     "data": {
      "text/plain": [
       "the     43572\n",
       "and     20127\n",
       "I       19537\n",
       "to      19087\n",
       "be      17903\n",
       "a       14973\n",
       "of      11819\n",
       "it      10597\n",
       "you     9931 \n",
       "have    8306 \n",
       "dtype: int64"
      ]
     },
     "execution_count": 22,
     "metadata": {},
     "output_type": "execute_result"
    }
   ],
   "source": [
    "pd.Series(\" \".join(data.clean_reviewtext.values).split()).value_counts().head(10)"
   ]
  },
  {
   "cell_type": "markdown",
   "metadata": {},
   "source": [
    "Top 10 words based on frequency are english words like - articles, conjuctions, prepositions etc. These words often do not play in significant roles in the downstream applications. We need to remove these words to reduce the model complexity."
   ]
  },
  {
   "cell_type": "code",
   "execution_count": 23,
   "metadata": {},
   "outputs": [
    {
     "name": "stdout",
     "output_type": "stream",
     "text": [
      "['i', 'me', 'my', 'myself', 'we', 'our', 'ours', 'ourselves', 'you', \"you're\"]\n"
     ]
    }
   ],
   "source": [
    "stopword_list = nltk.corpus.stopwords.words('english')\n",
    "\n",
    "print (stopword_list[:10])"
   ]
  },
  {
   "cell_type": "code",
   "execution_count": 24,
   "metadata": {},
   "outputs": [],
   "source": [
    "def remove_stopwords(text):\n",
    "    tokenizer = WordPunctTokenizer()\n",
    "    tokens = tokenizer.tokenize(text)\n",
    "    tokens = [token.strip() for token in tokens]\n",
    "    filtered_tokens = [token for token in tokens if token.lower() not in stopword_list]\n",
    "    filtered_text = ' '.join(filtered_tokens)    \n",
    "    return filtered_text"
   ]
  },
  {
   "cell_type": "code",
   "execution_count": 25,
   "metadata": {},
   "outputs": [
    {
     "name": "stdout",
     "output_type": "stream",
     "text": [
      "I purchasaed a new dryer and do not want to reuse the cord from my old unit this unit instal in a pretty straight forward manor Quality be as expect no Complaints\n"
     ]
    }
   ],
   "source": [
    "sample_text = data.clean_reviewtext.iloc[5]\n",
    "print (sample_text)"
   ]
  },
  {
   "cell_type": "code",
   "execution_count": 26,
   "metadata": {},
   "outputs": [
    {
     "name": "stdout",
     "output_type": "stream",
     "text": [
      "purchasaed new dryer want reuse cord old unit unit instal pretty straight forward manor Quality expect Complaints\n"
     ]
    }
   ],
   "source": [
    "sample_text_stopwordremoved = remove_stopwords(sample_text)\n",
    "print (sample_text_stopwordremoved)"
   ]
  },
  {
   "cell_type": "code",
   "execution_count": 27,
   "metadata": {},
   "outputs": [],
   "source": [
    "data.clean_reviewtext = data.clean_reviewtext.apply(remove_stopwords)"
   ]
  },
  {
   "cell_type": "code",
   "execution_count": 28,
   "metadata": {},
   "outputs": [
    {
     "data": {
      "image/png": "[encoded data removed]",
      "text/plain": [
       "<Figure size 432x288 with 1 Axes>"
      ]
     },
     "metadata": {},
     "output_type": "display_data"
    }
   ],
   "source": [
    "data.clean_reviewtext.apply(lambda x: len(x.split())).plot.hist()\n",
    "plt.title(\"Distribution of total number of words in the reviews\")\n",
    "plt.show()"
   ]
  },
  {
   "cell_type": "code",
   "execution_count": 29,
   "metadata": {},
   "outputs": [],
   "source": [
    "data.to_csv(\"amazon_reviews_cleaned.csv\",index=False)"
   ]
  },
  {
   "cell_type": "markdown",
   "metadata": {},
   "source": [
    "<strong>Reference - </strong> https://towardsdatascience.com/a-practitioners-guide-to-natural-language-processing-part-i-processing-understanding-text-9f4abfd13e72"
   ]
  },
  {
   "cell_type": "code",
   "execution_count": null,
   "metadata": {},
   "outputs": [],
   "source": []
  }
 ],
 "metadata": {
  "kernelspec": {
   "display_name": "Python 3",
   "language": "python",
   "name": "python3"
  },
  "language_info": {
   "codemirror_mode": {
    "name": "ipython",
    "version": 3
   },
   "file_extension": ".py",
   "mimetype": "text/x-python",
   "name": "python",
   "nbconvert_exporter": "python",
   "pygments_lexer": "ipython3",
   "version": "3.6.6"
  }
 },
 "nbformat": 4,
 "nbformat_minor": 2
}
