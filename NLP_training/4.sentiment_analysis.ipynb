{
 "cells": [
  {
   "cell_type": "markdown",
   "metadata": {},
   "source": [
    "In this notebook we use discuss different techniques of sentiment analysis. \n",
    "\n",
    "## Table of Contents\n",
    "\n",
    "* [Unsupervised Sentiment Analysis](#sentiment)\n",
    "    * [Vader Sentiment Analyzer](#vader)\n",
    "    * [Evaluating Vader](#evvader)\n",
    "* [Supervised Sentiment Modelling](#supervised)\n",
    "    * [Naive Bayes](#nb)\n",
    "    * [Evaluating Naive Bayes](#evnb)\n",
    "    * [LSTM](#lstm)\n",
    "    * [Evaluating LSTM](#evlstm)"
   ]
  },
  {
   "cell_type": "markdown",
   "metadata": {},
   "source": [
    "<a id='sentiment'></a>\n",
    "\n",
    "### Unsupervised Sentiment Analysis\n",
    "\n",
    "Sentiment analysis aka. opinion mining, polarity analysis is a technique to understand intent within a text. It is one of the most popular areas in NLP. We first discuss lexicon based sentiment analysis for which we use NLTK Vader sentiment analyzer.\n",
    "\n",
    "<a id='vader'></a>\n",
    "#### Vader Sentiment Analyzer\n",
    "\n",
    "VADER (Valence Aware Dictionary and sEntiment Reasoner) is a lexicon and rule-based sentiment analysis tool that is specifically attuned to sentiments expressed in social media. VADER uses a combination of A sentiment lexicon is a list of lexical features (e.g., words) which are generally labelled according to their semantic orientation as either positive or negative."
   ]
  },
  {
   "cell_type": "code",
   "execution_count": 1,
   "metadata": {},
   "outputs": [],
   "source": [
    "import pandas as pd\n",
    "from nltk.sentiment.vader import SentimentIntensityAnalyzer\n",
    "\n",
    "pd.options.display.max_colwidth = -1\n",
    "\n",
    "data = pd.read_csv('amazon_reviews_cleaned.csv') #for excel file use read_excel"
   ]
  },
  {
   "cell_type": "code",
   "execution_count": 2,
   "metadata": {},
   "outputs": [
    {
     "data": {
      "text/html": [
       "<div>\n",
       "<style scoped>\n",
       "    .dataframe tbody tr th:only-of-type {\n",
       "        vertical-align: middle;\n",
       "    }\n",
       "\n",
       "    .dataframe tbody tr th {\n",
       "        vertical-align: top;\n",
       "    }\n",
       "\n",
       "    .dataframe thead th {\n",
       "        text-align: right;\n",
       "    }\n",
       "</style>\n",
       "<table border=\"1\" class=\"dataframe\">\n",
       "  <thead>\n",
       "    <tr style=\"text-align: right;\">\n",
       "      <th></th>\n",
       "      <th>overall</th>\n",
       "      <th>verified</th>\n",
       "      <th>reviewTime</th>\n",
       "      <th>reviewerID</th>\n",
       "      <th>asin</th>\n",
       "      <th>style</th>\n",
       "      <th>reviewerName</th>\n",
       "      <th>reviewText</th>\n",
       "      <th>summary</th>\n",
       "      <th>unixReviewTime</th>\n",
       "      <th>vote</th>\n",
       "      <th>image</th>\n",
       "      <th>clean_reviewtext</th>\n",
       "    </tr>\n",
       "  </thead>\n",
       "  <tbody>\n",
       "    <tr>\n",
       "      <th>0</th>\n",
       "      <td>5.0</td>\n",
       "      <td>True</td>\n",
       "      <td>08 22, 2013</td>\n",
       "      <td>A34A1UP40713F8</td>\n",
       "      <td>B00009W3I4</td>\n",
       "      <td>{'Style:': ' Dryer Vent'}</td>\n",
       "      <td>James. Backus</td>\n",
       "      <td>I like this as a vent as well as something that will keep house warmer in winter.  I sanded it and then painted it the same color as the house.  Looks great.</td>\n",
       "      <td>Great product</td>\n",
       "      <td>1377129600</td>\n",
       "      <td>NaN</td>\n",
       "      <td>NaN</td>\n",
       "      <td>like vent well something keep house warm winter sand paint color house look great</td>\n",
       "    </tr>\n",
       "    <tr>\n",
       "      <th>1</th>\n",
       "      <td>5.0</td>\n",
       "      <td>True</td>\n",
       "      <td>02 8, 2016</td>\n",
       "      <td>A1AHW6I678O6F2</td>\n",
       "      <td>B00009W3PA</td>\n",
       "      <td>{'Size:': ' 6-Foot'}</td>\n",
       "      <td>kevin.</td>\n",
       "      <td>good item</td>\n",
       "      <td>Five Stars</td>\n",
       "      <td>1454889600</td>\n",
       "      <td>NaN</td>\n",
       "      <td>NaN</td>\n",
       "      <td>good item</td>\n",
       "    </tr>\n",
       "    <tr>\n",
       "      <th>2</th>\n",
       "      <td>5.0</td>\n",
       "      <td>True</td>\n",
       "      <td>08 5, 2015</td>\n",
       "      <td>A8R48NKTGCJDQ</td>\n",
       "      <td>B00009W3PA</td>\n",
       "      <td>{'Size:': ' 6-Foot'}</td>\n",
       "      <td>CDBrannom</td>\n",
       "      <td>Fit my new LG dryer perfectly.</td>\n",
       "      <td>Five Stars</td>\n",
       "      <td>1438732800</td>\n",
       "      <td>NaN</td>\n",
       "      <td>NaN</td>\n",
       "      <td>fit new lg dryer perfectly</td>\n",
       "    </tr>\n",
       "    <tr>\n",
       "      <th>3</th>\n",
       "      <td>5.0</td>\n",
       "      <td>True</td>\n",
       "      <td>04 24, 2015</td>\n",
       "      <td>AR3OHHHW01A8E</td>\n",
       "      <td>B00009W3PA</td>\n",
       "      <td>{'Size:': ' 6-Foot'}</td>\n",
       "      <td>Calvin E Reames</td>\n",
       "      <td>Good value for electric dryers</td>\n",
       "      <td>Perfect size</td>\n",
       "      <td>1429833600</td>\n",
       "      <td>NaN</td>\n",
       "      <td>NaN</td>\n",
       "      <td>good value electric dryer</td>\n",
       "    </tr>\n",
       "    <tr>\n",
       "      <th>4</th>\n",
       "      <td>5.0</td>\n",
       "      <td>True</td>\n",
       "      <td>03 21, 2015</td>\n",
       "      <td>A2CIEGHZ7L1WWR</td>\n",
       "      <td>B00009W3PA</td>\n",
       "      <td>{'Size:': ' 6-Foot'}</td>\n",
       "      <td>albert j. kong</td>\n",
       "      <td>Price and delivery was excellent.</td>\n",
       "      <td>Five Stars</td>\n",
       "      <td>1426896000</td>\n",
       "      <td>NaN</td>\n",
       "      <td>NaN</td>\n",
       "      <td>price delivery excellent</td>\n",
       "    </tr>\n",
       "  </tbody>\n",
       "</table>\n",
       "</div>"
      ],
      "text/plain": [
       "   overall  verified   reviewTime      reviewerID        asin  \\\n",
       "0  5.0      True      08 22, 2013  A34A1UP40713F8  B00009W3I4   \n",
       "1  5.0      True      02 8, 2016   A1AHW6I678O6F2  B00009W3PA   \n",
       "2  5.0      True      08 5, 2015   A8R48NKTGCJDQ   B00009W3PA   \n",
       "3  5.0      True      04 24, 2015  AR3OHHHW01A8E   B00009W3PA   \n",
       "4  5.0      True      03 21, 2015  A2CIEGHZ7L1WWR  B00009W3PA   \n",
       "\n",
       "                       style     reviewerName  \\\n",
       "0  {'Style:': ' Dryer Vent'}  James. Backus     \n",
       "1  {'Size:': ' 6-Foot'}       kevin.            \n",
       "2  {'Size:': ' 6-Foot'}       CDBrannom         \n",
       "3  {'Size:': ' 6-Foot'}       Calvin E Reames   \n",
       "4  {'Size:': ' 6-Foot'}       albert j. kong    \n",
       "\n",
       "                                                                                                                                                      reviewText  \\\n",
       "0  I like this as a vent as well as something that will keep house warmer in winter.  I sanded it and then painted it the same color as the house.  Looks great.   \n",
       "1  good item                                                                                                                                                       \n",
       "2  Fit my new LG dryer perfectly.                                                                                                                                  \n",
       "3  Good value for electric dryers                                                                                                                                  \n",
       "4  Price and delivery was excellent.                                                                                                                               \n",
       "\n",
       "         summary  unixReviewTime vote image  \\\n",
       "0  Great product  1377129600      NaN  NaN    \n",
       "1  Five Stars     1454889600      NaN  NaN    \n",
       "2  Five Stars     1438732800      NaN  NaN    \n",
       "3  Perfect size   1429833600      NaN  NaN    \n",
       "4  Five Stars     1426896000      NaN  NaN    \n",
       "\n",
       "                                                                    clean_reviewtext  \n",
       "0  like vent well something keep house warm winter sand paint color house look great  \n",
       "1  good item                                                                          \n",
       "2  fit new lg dryer perfectly                                                         \n",
       "3  good value electric dryer                                                          \n",
       "4  price delivery excellent                                                           "
      ]
     },
     "execution_count": 2,
     "metadata": {},
     "output_type": "execute_result"
    }
   ],
   "source": [
    "data.head(5)"
   ]
  },
  {
   "cell_type": "markdown",
   "metadata": {},
   "source": [
    "overall column is the sentiment. We convert it into int"
   ]
  },
  {
   "cell_type": "code",
   "execution_count": 3,
   "metadata": {},
   "outputs": [],
   "source": [
    "data.overall = data.overall.astype(int)"
   ]
  },
  {
   "cell_type": "code",
   "execution_count": 4,
   "metadata": {},
   "outputs": [
    {
     "data": {
      "image/png": "[encoded data removed]",
      "text/plain": [
       "<Figure size 432x288 with 1 Axes>"
      ]
     },
     "metadata": {},
     "output_type": "display_data"
    }
   ],
   "source": [
    "import matplotlib.pyplot as plt\n",
    "\n",
    "data.overall.value_counts(normalize=True).plot.bar()\n",
    "plt.show()"
   ]
  },
  {
   "cell_type": "markdown",
   "metadata": {},
   "source": [
    "More than 70% of the reviews have 5 rating. Let us see how Vader evaluates these reviews"
   ]
  },
  {
   "cell_type": "code",
   "execution_count": 5,
   "metadata": {},
   "outputs": [
    {
     "name": "stdout",
     "output_type": "stream",
     "text": [
      "like vent well something keep house warm winter sand paint color house look great\n"
     ]
    }
   ],
   "source": [
    "sample_positive_review = data[data.overall == 5].clean_reviewtext.iloc[0]\n",
    "print (sample_positive_review)"
   ]
  },
  {
   "cell_type": "code",
   "execution_count": 6,
   "metadata": {},
   "outputs": [],
   "source": [
    "sid = SentimentIntensityAnalyzer()"
   ]
  },
  {
   "cell_type": "code",
   "execution_count": 7,
   "metadata": {},
   "outputs": [
    {
     "data": {
      "text/plain": [
       "{'compound': 0.8625, 'neg': 0.0, 'neu': 0.485, 'pos': 0.515}"
      ]
     },
     "execution_count": 7,
     "metadata": {},
     "output_type": "execute_result"
    }
   ],
   "source": [
    "sid.polarity_scores(sample_positive_review)"
   ]
  },
  {
   "cell_type": "markdown",
   "metadata": {},
   "source": [
    "The overall or compound score is 0.8625, which can be think of as a very positive sentiment. Now let us check some neutral and negative ratings"
   ]
  },
  {
   "cell_type": "code",
   "execution_count": 8,
   "metadata": {},
   "outputs": [
    {
     "name": "stdout",
     "output_type": "stream",
     "text": [
      "connect match modidify work\n"
     ]
    },
    {
     "data": {
      "text/plain": [
       "{'compound': 0.0, 'neg': 0.0, 'neu': 1.0, 'pos': 0.0}"
      ]
     },
     "execution_count": 8,
     "metadata": {},
     "output_type": "execute_result"
    }
   ],
   "source": [
    "sample_neutral_review = data[data.overall == 3].clean_reviewtext.iloc[0]\n",
    "print (sample_neutral_review)\n",
    "\n",
    "sid.polarity_scores(sample_neutral_review)"
   ]
  },
  {
   "cell_type": "code",
   "execution_count": 9,
   "metadata": {},
   "outputs": [
    {
     "name": "stdout",
     "output_type": "stream",
     "text": [
      "careful NewAir stand product NewAir break within first 4 hour use manufacturer cover item warranty case actually think buy NewAir product think twice NewAir Sales date Fri Nov 14 2014 11 03 subject icemaker return Susan Ferguson hi Susan manufacturer warranty void unit purchase private seller consent sell product reason ask copy receipt upon request warranty claim valid authorize dealer proceed warranty work also list authorize dealer web site customer use stand behind product however item purchase private seller purchaser run risk item use open box refurbish scratch dent one year limited manufacturer warranty valid new item sell authorize online dealer unfortunate see situation however need contact seller item replacement refund great day Mireya Customer Support NewAir 3419 East Chapman Ave 190 Orange CA 92869 Ph 855 963 9247 Em fb facebook com NewAirUSA Twitter NewAirUSA Pinterest pinterest com NewAirUSA Instagram NewAirUSA web make awesome Thu Nov 13 2014 7 59 PM Susan Ferguson write Hello Mireya sorry think manufacturer warranty manufacturer NewAir please explain warranty valid case see anywhere warranty exclusion warranty valid purchase authorize dealer addition consumer would never know authorize dealer company sell product implicitly make authorize sincerely hope NewAir reconsider position stand integrity product ice machine literally use four hour fail quite frankly egregious company negate warranty explicitly state repair replace defective material workmanship one year please let know talk dispute department regard matter look forward response refrain give review product matter resolve thank Susan Ferguson Thu Nov 13 2014 3 10 pm NewAir Sales write hi Susan unfortunately ice maker purchase authorize dealer need contact seller Mehadrin Amazon exist issue unit great day Mireya Customer Support NewAir 3419 East Chapman Ave 190 Orange CA 92869 Ph 855 963 9247 Em fb facebook com NewAirUSA Twitter NewAirUSA Pinterest pinterest com NewAirUSA Instagram NewAirUSA web make awesome Thu Nov 13 2014 12 32 pm Susan Ferguson write hello receive AI 100S icemaker March 2014 use one time within 4 hour cool unit shut good estimate pump still work water get pump cool mechanism plug unit back try hour later cool mechanism never turn since product still warranty hope acquire new unit since particular one essentially never use obviously faulty capacity attach receipt reference purchase gift Amazon Marketplace Thanks much look forward response Susan Ferguson\n"
     ]
    },
    {
     "data": {
      "text/plain": [
       "{'compound': 0.9916, 'neg': 0.051, 'neu': 0.786, 'pos': 0.163}"
      ]
     },
     "execution_count": 9,
     "metadata": {},
     "output_type": "execute_result"
    }
   ],
   "source": [
    "sample_negative_review = data[data.overall == 1].clean_reviewtext.iloc[0]\n",
    "print (sample_negative_review)\n",
    "\n",
    "sid.polarity_scores(sample_negative_review)"
   ]
  },
  {
   "cell_type": "code",
   "execution_count": 10,
   "metadata": {},
   "outputs": [
    {
     "name": "stdout",
     "output_type": "stream",
     "text": [
      "would give less 1 star possible DONT buy product ice machine stop work four hour use first time notify New Air state would honor one year warranty authorize dealer sell buy product Amazon never even think would cross check purchase manufacturer NewAir stand product use method get honor warranty 200 piece junk never buy another NewAir product\n"
     ]
    },
    {
     "data": {
      "text/plain": [
       "{'compound': 0.7096, 'neg': 0.035, 'neu': 0.835, 'pos': 0.13}"
      ]
     },
     "execution_count": 10,
     "metadata": {},
     "output_type": "execute_result"
    }
   ],
   "source": [
    "sample_negative_review = data[data.overall == 1].clean_reviewtext.iloc[1]\n",
    "print (sample_negative_review)\n",
    "\n",
    "sid.polarity_scores(sample_negative_review)"
   ]
  },
  {
   "cell_type": "markdown",
   "metadata": {},
   "source": [
    "We see Vader severly fail to detect negative sentiments. It could be due to that, in e-commerce website people often give bad rating because of their bad experience and in the reviews they tend to put more words about their distress. These words may not be present in the lexicons used to built Vader.\n",
    "\n",
    "Under these scenarios supervised methods can perform much better. Before going there, let us classify all our reviews and check for the accuracy."
   ]
  },
  {
   "cell_type": "code",
   "execution_count": 11,
   "metadata": {},
   "outputs": [],
   "source": [
    "def get_sentiment_score(x):\n",
    "    sid = SentimentIntensityAnalyzer()\n",
    "    return sid.polarity_scores(x)['compound']"
   ]
  },
  {
   "cell_type": "code",
   "execution_count": 12,
   "metadata": {},
   "outputs": [],
   "source": [
    "data = data.dropna(subset=['clean_reviewtext'])\n",
    "\n",
    "data['real_sentiment_score'] = data.clean_reviewtext.apply(get_sentiment_score)"
   ]
  },
  {
   "cell_type": "markdown",
   "metadata": {},
   "source": [
    "As the sentiment scores are real valued, we quantize these into discrete integers between 1-5"
   ]
  },
  {
   "cell_type": "code",
   "execution_count": 13,
   "metadata": {},
   "outputs": [],
   "source": [
    "def quantize(x):\n",
    "    if x < -0.6 :\n",
    "        return 1\n",
    "    elif x >= -0.6 and x < -0.2:\n",
    "        return 2\n",
    "    elif x >= -0.2 and x < 0.2:\n",
    "        return 3\n",
    "    elif x >= 0.2 and x < 0.6:\n",
    "        return 4\n",
    "    else:\n",
    "        return 5"
   ]
  },
  {
   "cell_type": "code",
   "execution_count": 14,
   "metadata": {},
   "outputs": [],
   "source": [
    "data['predicted_sentiment'] = data.real_sentiment_score.apply(quantize) #pd.qcut(data.real_sentiment_score, 5, labels=False) + 1"
   ]
  },
  {
   "cell_type": "code",
   "execution_count": 15,
   "metadata": {},
   "outputs": [
    {
     "data": {
      "image/png": "[encoded data removed]",
      "text/plain": [
       "<Figure size 432x288 with 1 Axes>"
      ]
     },
     "metadata": {},
     "output_type": "display_data"
    }
   ],
   "source": [
    "data.predicted_sentiment.value_counts(normalize=True).plot.bar()\n",
    "plt.show()"
   ]
  },
  {
   "cell_type": "markdown",
   "metadata": {},
   "source": [
    "<a id='evvader'></a>\n",
    "\n",
    "#### Evaluating Vader\n",
    "\n",
    "Let us check the overall accuracy. As the actual sentiment labels are not even distributed, F1 score is a better evaluation metric than multi class accuracy score."
   ]
  },
  {
   "cell_type": "code",
   "execution_count": 23,
   "metadata": {},
   "outputs": [
    {
     "name": "stdout",
     "output_type": "stream",
     "text": [
      "0.6747359154929577\n",
      "0.19290057104467584\n",
      "[[   0    1    3    0    5]\n",
      " [   0    1    9    1    2]\n",
      " [   0    0    2    5  414]\n",
      " [   0    0    4    3  215]\n",
      " [   1    1   19   59 1527]]\n"
     ]
    }
   ],
   "source": [
    "from sklearn.metrics import accuracy_score, f1_score, confusion_matrix\n",
    "\n",
    "print (accuracy_score(data.overall,data.predicted_sentiment))\n",
    "print (f1_score(data.overall,data.predicted_sentiment,average='macro'))\n",
    "print (confusion_matrix(data.overall,data.predicted_sentiment))"
   ]
  },
  {
   "cell_type": "markdown",
   "metadata": {},
   "source": [
    "We can observe how Vader is skewed towards positive sentiment"
   ]
  },
  {
   "cell_type": "markdown",
   "metadata": {},
   "source": [
    "<a id='supervised'></a>\n",
    "\n",
    "### Supervised methods for Sentiment Analysis\n",
    "\n",
    "<a id='nb'></a>\n",
    "\n",
    "#### Naive Bayes\n",
    "\n",
    "We will start with a very basic technique Naive Bayes. In machine learning, naïve Bayes classifiers are a family of simple \"probabilistic classifiers\" based on applying Bayes' theorem with strong (naïve) independence assumptions between the features.\n",
    "\n",
    "<img src=https://uc-r.github.io/public/images/analytics/naive_bayes/naive_bayes_icon.png>\n",
    "\n",
    "In our context, we will take tf-idf vectors are our features and sentiment class as our target"
   ]
  },
  {
   "cell_type": "code",
   "execution_count": 16,
   "metadata": {},
   "outputs": [],
   "source": [
    "from sklearn.feature_extraction.text import TfidfVectorizer\n",
    "\n",
    "tfidf_vector = TfidfVectorizer(lowercase=True, #this will convert all the tokens into lower case\n",
    "                         stop_words='english', #remove english stopwords from vocabulary. if we need the stopwords this value should be None\n",
    "                         analyzer='word', #tokens should be words. we can also use char for character tokens\n",
    "                         max_features=50000, #maximum vocabulary size to restrict too many features\n",
    "                         min_df = 10,\n",
    "                         max_df = .6\n",
    "                        )\n",
    "\n",
    "tfidf_vectorized_corpus = tfidf_vector.fit_transform(data.clean_reviewtext)"
   ]
  },
  {
   "cell_type": "code",
   "execution_count": 17,
   "metadata": {},
   "outputs": [],
   "source": [
    "from sklearn.naive_bayes import MultinomialNB"
   ]
  },
  {
   "cell_type": "code",
   "execution_count": 18,
   "metadata": {},
   "outputs": [],
   "source": [
    "nb = MultinomialNB()"
   ]
  },
  {
   "cell_type": "markdown",
   "metadata": {},
   "source": [
    "For evaluation, we use cross validation. i.e. train on a part of data and testing on the remaining. We will use 5-fold cross validation. \n",
    "\n",
    "<img src=https://miro.medium.com/max/1710/1*rgba1BIOUys7wQcXcL4U5A.png width=\"500\">"
   ]
  },
  {
   "cell_type": "code",
   "execution_count": 19,
   "metadata": {},
   "outputs": [],
   "source": [
    "from sklearn.model_selection import cross_val_predict, cross_val_score"
   ]
  },
  {
   "cell_type": "code",
   "execution_count": 20,
   "metadata": {},
   "outputs": [],
   "source": [
    "sentiment_predicted_nb = cross_val_predict(X=tfidf_vectorized_corpus,y=data.overall,cv=5,estimator=nb)"
   ]
  },
  {
   "cell_type": "code",
   "execution_count": 21,
   "metadata": {},
   "outputs": [],
   "source": [
    "data['sentiment_predicted_nb'] = sentiment_predicted_nb"
   ]
  },
  {
   "cell_type": "markdown",
   "metadata": {},
   "source": [
    "<a id='evnb'></a>\n",
    "\n",
    "#### Evaluating Naive Bayes"
   ]
  },
  {
   "cell_type": "code",
   "execution_count": 24,
   "metadata": {},
   "outputs": [
    {
     "name": "stdout",
     "output_type": "stream",
     "text": [
      "0.9757922535211268\n",
      "0.5833512796211996\n",
      "[[   0    0    0    0    9]\n",
      " [   0    0    0    4    9]\n",
      " [   0    0  412    0    9]\n",
      " [   0    0    0  206   16]\n",
      " [   0    0    7    1 1599]]\n"
     ]
    },
    {
     "name": "stderr",
     "output_type": "stream",
     "text": [
      "c:\\users\\asengup6\\softwares\\anaconda\\lib\\site-packages\\sklearn\\metrics\\classification.py:1437: UndefinedMetricWarning: F-score is ill-defined and being set to 0.0 in labels with no predicted samples.\n",
      "  'precision', 'predicted', average, warn_for)\n"
     ]
    }
   ],
   "source": [
    "print (accuracy_score(data.overall,data.sentiment_predicted_nb))\n",
    "print (f1_score(data.overall,data.sentiment_predicted_nb,average='macro'))\n",
    "print (confusion_matrix(data.overall,data.sentiment_predicted_nb))"
   ]
  },
  {
   "cell_type": "markdown",
   "metadata": {},
   "source": [
    "Naive Bayes is able to almost perfectly classify sentiment classes - 3 , 4 and 5. We will now use some deep learning based model."
   ]
  },
  {
   "cell_type": "markdown",
   "metadata": {},
   "source": [
    "<a id='lstm'></a>\n",
    "\n",
    "#### LSTM for Sentiment Classification\n",
    "\n",
    "Long Short Term Memory networks – usually just called “LSTMs” – are a special kind of RNN (recurrent neural network), capable of learning long-term dependencies. RNNs are useful when we have a sequential data like text. As mentioned in https://colah.github.io/posts/2015-08-Understanding-LSTMs/\n",
    "\n",
    "\"Humans don’t start their thinking from scratch every second. As you read this essay, you understand each word based on your understanding of previous words. You don’t throw everything away and start thinking from scratch again. Your thoughts have persistence.\"\n",
    "\n",
    "LSTMs are explicitly designed to avoid the long-term dependency problem. Remembering information for long periods of time is practically their default behavior, not something they struggle to learn.\n",
    "\n",
    "<img src=http://dprogrammer.org/wp-content/uploads/2019/04/RNN-vs-LSTM-vs-GRU-1024x308.png>\n",
    "\n",
    "A typical neural network for text classification looks like - \n",
    "\n",
    "1. An embedding layer to learn embedding for each word in each text\n",
    "2. LSTM/GRU/RNN layer consisting multiple cells to identify hidden semantics for each word given previous words. Bidirectional cells are used to use hidden information from both previous and after words.\n",
    "3. Dense layer to consolidate all the information at the text level\n",
    "4. Output layer (softmax/sigmoid) to get final output\n",
    "\n",
    "The parameters of the model are learned by back propagation algorithm where\n",
    "1. parameter weights are initialized randomly\n",
    "2. Calculate the overall loss\n",
    "3. Calculate gradient for each parameter and update using gradient descent\n",
    "\n",
    "By doing so, we can update all the parameters of the model that minimizes the loss. (mean squared error for regression problem, cross entropy for classification etc.)\n",
    "\n",
    "<img src=https://miro.medium.com/max/1201/1*VymEfQTf30evUczsTBiz4g.png width=400>\n"
   ]
  },
  {
   "cell_type": "code",
   "execution_count": 24,
   "metadata": {},
   "outputs": [
    {
     "name": "stderr",
     "output_type": "stream",
     "text": [
      "Using TensorFlow backend.\n"
     ]
    }
   ],
   "source": [
    "from keras.preprocessing.text import Tokenizer\n",
    "from keras.preprocessing.sequence import pad_sequences\n",
    "from keras.models import Sequential\n",
    "from keras.layers import Dense, Embedding, LSTM, SpatialDropout1D\n",
    "from sklearn.model_selection import train_test_split\n",
    "from keras.utils.np_utils import to_categorical\n",
    "from keras.models import load_model"
   ]
  },
  {
   "cell_type": "markdown",
   "metadata": {},
   "source": [
    "Before feeding the data into NN, we need to tokenize the data and make all the texts of same length. We pass max_len as the maximum length of the text to be passed in the NN. If a text has < max_len number of words, we pad with blank word. For longer texts we will restrict it to max_len."
   ]
  },
  {
   "cell_type": "code",
   "execution_count": 25,
   "metadata": {},
   "outputs": [],
   "source": [
    "max_fatures = 50000\n",
    "max_len = 100"
   ]
  },
  {
   "cell_type": "code",
   "execution_count": 26,
   "metadata": {},
   "outputs": [],
   "source": [
    "tokenizer = Tokenizer(num_words=max_fatures, split=' ')\n",
    "tokenizer.fit_on_texts(data.clean_reviewtext.values)\n",
    "X = tokenizer.texts_to_sequences(data.clean_reviewtext.values)\n",
    "X = pad_sequences(X,maxlen=100)"
   ]
  },
  {
   "cell_type": "code",
   "execution_count": 27,
   "metadata": {},
   "outputs": [],
   "source": [
    "word_index = tokenizer.word_index"
   ]
  },
  {
   "cell_type": "code",
   "execution_count": 28,
   "metadata": {},
   "outputs": [
    {
     "name": "stdout",
     "output_type": "stream",
     "text": [
      "(2272, 100)\n"
     ]
    }
   ],
   "source": [
    "print (X.shape)"
   ]
  },
  {
   "cell_type": "code",
   "execution_count": 29,
   "metadata": {},
   "outputs": [
    {
     "data": {
      "text/plain": [
       "array([  0,   0,   0,   0,   0,   0,   0,   0,   0,   0,   0,   0,   0,\n",
       "         0,   0,   0,   0,   0,   0,   0,   0,   0,   0,   0,   0,   0,\n",
       "         0,   0,   0,   0,   0,   0,   0,   0,   0,   0,   0,   0,   0,\n",
       "         0,   0,   0,   0,   0,   0,   0,   0,   0,   0,   0,   0,   0,\n",
       "         0,   0,   0,   0,   0,   0,   0,   0,   0,   0,   0,   0,   0,\n",
       "         0,   0,   0,   0,   0,   0,   0,   0,   0,   0,   0,   0,   0,\n",
       "         0,   0,   0,   0,   0,   0,   0,   0,  56,   1,  21, 168,  23,\n",
       "        15, 947, 948, 949, 950, 951,  15, 262,  49])"
      ]
     },
     "execution_count": 29,
     "metadata": {},
     "output_type": "execute_result"
    }
   ],
   "source": [
    "X[0]"
   ]
  },
  {
   "cell_type": "code",
   "execution_count": 30,
   "metadata": {},
   "outputs": [
    {
     "data": {
      "text/plain": [
       "'like vent well something keep house warm winter sand paint color house look great'"
      ]
     },
     "execution_count": 30,
     "metadata": {},
     "output_type": "execute_result"
    }
   ],
   "source": [
    "data.clean_reviewtext.iloc[0]"
   ]
  },
  {
   "cell_type": "markdown",
   "metadata": {},
   "source": [
    "in the padded input, we see 0 padding to make the text of 100 length."
   ]
  },
  {
   "cell_type": "code",
   "execution_count": 31,
   "metadata": {},
   "outputs": [],
   "source": [
    "embed_dim = 100 #dimension of the embedding\n",
    "lstm_out = 196 #dimension of the lstm output \n",
    "n_output = data.overall.nunique() #number of possible outputs"
   ]
  },
  {
   "cell_type": "markdown",
   "metadata": {},
   "source": [
    "In neural network we can learn the word embeddings from scratch. However, that increases the runtime which we can skip by using pretrained models like - GloVe or, Word2Vec. As, the pretrained models are trained on large corpus, it is wise to use those embeddings and save lot of time and effort."
   ]
  },
  {
   "cell_type": "code",
   "execution_count": 32,
   "metadata": {},
   "outputs": [
    {
     "name": "stderr",
     "output_type": "stream",
     "text": [
      "400000it [00:32, 12254.83it/s]"
     ]
    },
    {
     "name": "stdout",
     "output_type": "stream",
     "text": [
      "Found 400000 word vectors.\n"
     ]
    },
    {
     "name": "stderr",
     "output_type": "stream",
     "text": [
      "\n"
     ]
    }
   ],
   "source": [
    "from tqdm import tqdm\n",
    "import numpy as np\n",
    "\n",
    "embeddings_index = {}\n",
    "f = open('glove.6B.100d.txt','r',encoding='utf8')\n",
    "for line in tqdm(f):\n",
    "    values = line.split()\n",
    "    word = values[0]\n",
    "    coefs = np.asarray(values[1:], dtype='float32')\n",
    "    embeddings_index[word] = coefs\n",
    "f.close()\n",
    "\n",
    "print('Found %s word vectors.' % len(embeddings_index))"
   ]
  },
  {
   "cell_type": "code",
   "execution_count": 33,
   "metadata": {},
   "outputs": [],
   "source": [
    "embedding_matrix = np.zeros((len(word_index) + 1, embed_dim))\n",
    "for word, i in word_index.items():\n",
    "    embedding_vector = embeddings_index.get(word)\n",
    "    if embedding_vector is not None:\n",
    "        # words not found in embedding index will be all-zeros.\n",
    "        embedding_matrix[i] = embedding_vector"
   ]
  },
  {
   "cell_type": "code",
   "execution_count": 34,
   "metadata": {},
   "outputs": [],
   "source": [
    "import tensorflow as tf\n",
    "import keras.backend as K\n",
    "\n",
    "def f1(y_true, y_pred):\n",
    "    y_pred = K.round(y_pred)\n",
    "    tp = K.sum(K.cast(y_true*y_pred, 'float'), axis=0)\n",
    "    # tn = K.sum(K.cast((1-y_true)*(1-y_pred), 'float'), axis=0)\n",
    "    fp = K.sum(K.cast((1-y_true)*y_pred, 'float'), axis=0)\n",
    "    fn = K.sum(K.cast(y_true*(1-y_pred), 'float'), axis=0)\n",
    "\n",
    "    p = tp / (tp + fp + K.epsilon())\n",
    "    r = tp / (tp + fn + K.epsilon())\n",
    "\n",
    "    f1 = 2*p*r / (p+r+K.epsilon())\n",
    "    #f1 = tf.where(tf.is_nan(f1), tf.zeros_like(f1), f1)\n",
    "    return K.mean(f1)"
   ]
  },
  {
   "cell_type": "code",
   "execution_count": 35,
   "metadata": {},
   "outputs": [],
   "source": [
    "def get_model():\n",
    "    model = Sequential()\n",
    "    model.add(Embedding(len(word_index) + 1, embed_dim,input_length = X.shape[1], weights=[embedding_matrix], trainable=False))\n",
    "    model.add(SpatialDropout1D(0.4))\n",
    "    model.add(LSTM(lstm_out, dropout=0.2, recurrent_dropout=0.2))\n",
    "    model.add(Dense(n_output,activation='softmax'))\n",
    "    model.compile(loss = 'categorical_crossentropy', optimizer='adam',metrics = ['accuracy',f1])\n",
    "    #print(model.summary())\n",
    "    return model"
   ]
  },
  {
   "cell_type": "code",
   "execution_count": 36,
   "metadata": {},
   "outputs": [
    {
     "name": "stdout",
     "output_type": "stream",
     "text": [
      "Model: \"sequential_1\"\n",
      "_________________________________________________________________\n",
      "Layer (type)                 Output Shape              Param #   \n",
      "=================================================================\n",
      "embedding_1 (Embedding)      (None, 100, 100)          106400    \n",
      "_________________________________________________________________\n",
      "spatial_dropout1d_1 (Spatial (None, 100, 100)          0         \n",
      "_________________________________________________________________\n",
      "lstm_1 (LSTM)                (None, 196)               232848    \n",
      "_________________________________________________________________\n",
      "dense_1 (Dense)              (None, 5)                 985       \n",
      "=================================================================\n",
      "Total params: 340,233\n",
      "Trainable params: 233,833\n",
      "Non-trainable params: 106,400\n",
      "_________________________________________________________________\n"
     ]
    }
   ],
   "source": [
    "model = get_model()\n",
    "model.summary()"
   ]
  },
  {
   "cell_type": "markdown",
   "metadata": {},
   "source": [
    "For NN we can not directly call cross_val_predict. We have to iteratively run it."
   ]
  },
  {
   "cell_type": "code",
   "execution_count": 37,
   "metadata": {},
   "outputs": [],
   "source": [
    "from sklearn.model_selection import StratifiedKFold\n",
    "from keras.callbacks import EarlyStopping, ModelCheckpoint, ReduceLROnPlateau "
   ]
  },
  {
   "cell_type": "code",
   "execution_count": 38,
   "metadata": {},
   "outputs": [],
   "source": [
    "y = pd.get_dummies(data.overall).values"
   ]
  },
  {
   "cell_type": "code",
   "execution_count": 39,
   "metadata": {},
   "outputs": [],
   "source": [
    "batch_size = 32\n",
    "n_epochs = 10"
   ]
  },
  {
   "cell_type": "code",
   "execution_count": 94,
   "metadata": {},
   "outputs": [
    {
     "name": "stdout",
     "output_type": "stream",
     "text": [
      "Iteration 1\n",
      "(1815, 100) (1815, 5) (457, 100) (457, 5)\n",
      "Train on 1815 samples, validate on 457 samples\n",
      "Epoch 1/10\n",
      " - 24s - loss: 0.4414 - accuracy: 0.8683 - f1: 0.4037 - val_loss: 0.3315 - val_accuracy: 0.9409 - val_f1: 0.5102\n",
      "\n",
      "Epoch 00001: val_f1 improved from -inf to 0.51023, saving model to weights1.hdf5\n",
      "Epoch 2/10\n",
      " - 23s - loss: 0.0789 - accuracy: 0.9868 - f1: 0.5952 - val_loss: 0.3307 - val_accuracy: 0.9409 - val_f1: 0.5118\n",
      "\n",
      "Epoch 00002: val_f1 improved from 0.51023 to 0.51177, saving model to weights1.hdf5\n",
      "Epoch 3/10\n",
      " - 19s - loss: 0.0522 - accuracy: 0.9879 - f1: 0.5957 - val_loss: 0.3051 - val_accuracy: 0.9409 - val_f1: 0.5113\n",
      "\n",
      "Epoch 00003: val_f1 did not improve from 0.51177\n",
      "Epoch 4/10\n",
      " - 18s - loss: 0.0487 - accuracy: 0.9884 - f1: 0.5930 - val_loss: 0.3428 - val_accuracy: 0.9344 - val_f1: 0.5109\n",
      "\n",
      "Epoch 00004: val_f1 did not improve from 0.51177\n",
      "Epoch 5/10\n",
      " - 19s - loss: 0.0378 - accuracy: 0.9912 - f1: 0.5948 - val_loss: 0.3332 - val_accuracy: 0.9365 - val_f1: 0.5175\n",
      "\n",
      "Epoch 00005: val_f1 improved from 0.51177 to 0.51750, saving model to weights1.hdf5\n",
      "Epoch 6/10\n",
      " - 18s - loss: 0.0403 - accuracy: 0.9895 - f1: 0.5963 - val_loss: 0.2822 - val_accuracy: 0.9387 - val_f1: 0.5213\n",
      "\n",
      "Epoch 00006: val_f1 improved from 0.51750 to 0.52131, saving model to weights1.hdf5\n",
      "Epoch 7/10\n",
      " - 19s - loss: 0.0422 - accuracy: 0.9917 - f1: 0.5990 - val_loss: 0.3234 - val_accuracy: 0.9453 - val_f1: 0.5255\n",
      "\n",
      "Epoch 00007: val_f1 improved from 0.52131 to 0.52552, saving model to weights1.hdf5\n",
      "Epoch 8/10\n",
      " - 19s - loss: 0.0287 - accuracy: 0.9928 - f1: 0.6140 - val_loss: 0.3106 - val_accuracy: 0.9453 - val_f1: 0.5258\n",
      "\n",
      "Epoch 00008: val_f1 improved from 0.52552 to 0.52575, saving model to weights1.hdf5\n",
      "Epoch 9/10\n",
      " - 19s - loss: 0.0226 - accuracy: 0.9934 - f1: 0.6134 - val_loss: 0.3650 - val_accuracy: 0.9475 - val_f1: 0.5324\n",
      "\n",
      "Epoch 00009: val_f1 improved from 0.52575 to 0.53241, saving model to weights1.hdf5\n",
      "Epoch 10/10\n",
      " - 18s - loss: 0.0219 - accuracy: 0.9967 - f1: 0.6236 - val_loss: 0.3571 - val_accuracy: 0.9475 - val_f1: 0.5326\n",
      "\n",
      "Epoch 00010: val_f1 improved from 0.53241 to 0.53264, saving model to weights1.hdf5\n",
      "Iteration 2\n",
      "(1816, 100) (1816, 5) (456, 100) (456, 5)\n",
      "Train on 1816 samples, validate on 456 samples\n",
      "Epoch 1/10\n",
      " - 20s - loss: 0.4906 - accuracy: 0.8436 - f1: 0.3753 - val_loss: 0.0726 - val_accuracy: 0.9890 - val_f1: 0.5581\n",
      "\n",
      "Epoch 00001: val_f1 improved from -inf to 0.55810, saving model to weights2.hdf5\n",
      "Epoch 2/10\n",
      " - 19s - loss: 0.1338 - accuracy: 0.9719 - f1: 0.5692 - val_loss: 0.0548 - val_accuracy: 0.9890 - val_f1: 0.5581\n",
      "\n",
      "Epoch 00002: val_f1 did not improve from 0.55810\n",
      "Epoch 3/10\n",
      " - 18s - loss: 0.1187 - accuracy: 0.9730 - f1: 0.5700 - val_loss: 0.0480 - val_accuracy: 0.9890 - val_f1: 0.5584\n",
      "\n",
      "Epoch 00003: val_f1 improved from 0.55810 to 0.55843, saving model to weights2.hdf5\n",
      "Epoch 4/10\n",
      " - 18s - loss: 0.0983 - accuracy: 0.9752 - f1: 0.5806 - val_loss: 0.0296 - val_accuracy: 0.9890 - val_f1: 0.5584\n",
      "\n",
      "Epoch 00004: val_f1 did not improve from 0.55843\n",
      "Epoch 5/10\n",
      " - 18s - loss: 0.0853 - accuracy: 0.9785 - f1: 0.5792 - val_loss: 0.0210 - val_accuracy: 0.9890 - val_f1: 0.5600\n",
      "\n",
      "Epoch 00005: val_f1 improved from 0.55843 to 0.56000, saving model to weights2.hdf5\n",
      "Epoch 6/10\n",
      " - 18s - loss: 0.0702 - accuracy: 0.9796 - f1: 0.5825 - val_loss: 0.0172 - val_accuracy: 0.9890 - val_f1: 0.5575\n",
      "\n",
      "Epoch 00006: val_f1 did not improve from 0.56000\n",
      "Epoch 7/10\n",
      " - 18s - loss: 0.0785 - accuracy: 0.9752 - f1: 0.5814 - val_loss: 0.0224 - val_accuracy: 0.9890 - val_f1: 0.5581\n",
      "\n",
      "Epoch 00007: val_f1 did not improve from 0.56000\n",
      "Epoch 8/10\n",
      " - 18s - loss: 0.0637 - accuracy: 0.9802 - f1: 0.5851 - val_loss: 0.0166 - val_accuracy: 0.9934 - val_f1: 0.5677\n",
      "\n",
      "Epoch 00008: val_f1 improved from 0.56000 to 0.56768, saving model to weights2.hdf5\n",
      "Epoch 9/10\n",
      " - 18s - loss: 0.0541 - accuracy: 0.9862 - f1: 0.5984 - val_loss: 0.0110 - val_accuracy: 0.9934 - val_f1: 0.5677\n",
      "\n",
      "Epoch 00009: val_f1 did not improve from 0.56768\n",
      "Epoch 10/10\n",
      " - 18s - loss: 0.0459 - accuracy: 0.9873 - f1: 0.6059 - val_loss: 0.0036 - val_accuracy: 1.0000 - val_f1: 0.5867\n",
      "\n",
      "Epoch 00010: val_f1 improved from 0.56768 to 0.58667, saving model to weights2.hdf5\n",
      "Iteration 3\n",
      "(1818, 100) (1818, 5) (454, 100) (454, 5)\n",
      "Train on 1818 samples, validate on 454 samples\n",
      "Epoch 1/10\n",
      " - 21s - loss: 0.4703 - accuracy: 0.8608 - f1: 0.3901 - val_loss: 0.0742 - val_accuracy: 0.9890 - val_f1: 0.5297\n",
      "\n",
      "Epoch 00001: val_f1 improved from -inf to 0.52968, saving model to weights3.hdf5\n",
      "Epoch 2/10\n",
      " - 20s - loss: 0.1251 - accuracy: 0.9719 - f1: 0.5664 - val_loss: 0.0522 - val_accuracy: 0.9890 - val_f1: 0.5302\n",
      "\n",
      "Epoch 00002: val_f1 improved from 0.52968 to 0.53021, saving model to weights3.hdf5\n",
      "Epoch 3/10\n",
      " - 21s - loss: 0.1082 - accuracy: 0.9730 - f1: 0.5724 - val_loss: 0.0361 - val_accuracy: 0.9890 - val_f1: 0.5302\n",
      "\n",
      "Epoch 00003: val_f1 did not improve from 0.53021\n",
      "Epoch 4/10\n",
      " - 21s - loss: 0.0823 - accuracy: 0.9769 - f1: 0.5654 - val_loss: 0.0359 - val_accuracy: 0.9890 - val_f1: 0.5297\n",
      "\n",
      "Epoch 00004: val_f1 did not improve from 0.53021\n",
      "Epoch 5/10\n",
      " - 20s - loss: 0.0775 - accuracy: 0.9758 - f1: 0.5727 - val_loss: 0.0313 - val_accuracy: 0.9912 - val_f1: 0.5391\n",
      "\n",
      "Epoch 00005: val_f1 improved from 0.53021 to 0.53910, saving model to weights3.hdf5\n",
      "Epoch 6/10\n",
      " - 20s - loss: 0.0671 - accuracy: 0.9807 - f1: 0.5812 - val_loss: 0.0275 - val_accuracy: 0.9912 - val_f1: 0.5397\n",
      "\n",
      "Epoch 00006: val_f1 improved from 0.53910 to 0.53967, saving model to weights3.hdf5\n",
      "Epoch 7/10\n",
      " - 20s - loss: 0.0565 - accuracy: 0.9835 - f1: 0.5948 - val_loss: 0.0227 - val_accuracy: 0.9890 - val_f1: 0.5314\n",
      "\n",
      "Epoch 00007: val_f1 did not improve from 0.53967\n",
      "Epoch 8/10\n",
      " - 20s - loss: 0.0594 - accuracy: 0.9835 - f1: 0.5925 - val_loss: 0.0131 - val_accuracy: 0.9956 - val_f1: 0.5543\n",
      "\n",
      "Epoch 00008: val_f1 improved from 0.53967 to 0.55434, saving model to weights3.hdf5\n",
      "Epoch 9/10\n",
      " - 20s - loss: 0.0537 - accuracy: 0.9846 - f1: 0.6029 - val_loss: 0.0126 - val_accuracy: 0.9956 - val_f1: 0.5543\n",
      "\n",
      "Epoch 00009: val_f1 did not improve from 0.55434\n",
      "Epoch 10/10\n",
      " - 20s - loss: 0.0533 - accuracy: 0.9851 - f1: 0.6034 - val_loss: 0.0160 - val_accuracy: 0.9978 - val_f1: 0.5499\n",
      "\n",
      "Epoch 00010: val_f1 did not improve from 0.55434\n",
      "Iteration 4\n",
      "(1819, 100) (1819, 5) (453, 100) (453, 5)\n",
      "Train on 1819 samples, validate on 453 samples\n",
      "Epoch 1/10\n",
      " - 20s - loss: 0.4881 - accuracy: 0.8521 - f1: 0.3800 - val_loss: 0.0605 - val_accuracy: 0.9912 - val_f1: 0.5139\n",
      "\n",
      "Epoch 00001: val_f1 improved from -inf to 0.51388, saving model to weights4.hdf5\n",
      "Epoch 2/10\n",
      " - 20s - loss: 0.1296 - accuracy: 0.9742 - f1: 0.5728 - val_loss: 0.0375 - val_accuracy: 0.9912 - val_f1: 0.5139\n",
      "\n",
      "Epoch 00002: val_f1 did not improve from 0.51388\n",
      "Epoch 3/10\n",
      " - 20s - loss: 0.1021 - accuracy: 0.9725 - f1: 0.5703 - val_loss: 0.0294 - val_accuracy: 0.9912 - val_f1: 0.5169\n",
      "\n",
      "Epoch 00003: val_f1 improved from 0.51388 to 0.51693, saving model to weights4.hdf5\n",
      "Epoch 4/10\n",
      " - 20s - loss: 0.0937 - accuracy: 0.9742 - f1: 0.5639 - val_loss: 0.0281 - val_accuracy: 0.9912 - val_f1: 0.5139\n",
      "\n",
      "Epoch 00004: val_f1 did not improve from 0.51693\n",
      "Epoch 5/10\n",
      " - 22s - loss: 0.0810 - accuracy: 0.9786 - f1: 0.5826 - val_loss: 0.0226 - val_accuracy: 0.9912 - val_f1: 0.5139\n",
      "\n",
      "Epoch 00005: val_f1 did not improve from 0.51693\n",
      "Epoch 6/10\n",
      " - 20s - loss: 0.0669 - accuracy: 0.9808 - f1: 0.5866 - val_loss: 0.0236 - val_accuracy: 0.9912 - val_f1: 0.5139\n",
      "\n",
      "Epoch 00006: val_f1 did not improve from 0.51693\n",
      "Iteration 5\n",
      "(1820, 100) (1820, 5) (452, 100) (452, 5)\n",
      "Train on 1820 samples, validate on 452 samples\n",
      "Epoch 1/10\n",
      " - 19s - loss: 0.4873 - accuracy: 0.8505 - f1: 0.3757 - val_loss: 0.1723 - val_accuracy: 0.9823 - val_f1: 0.4853\n",
      "\n",
      "Epoch 00001: val_f1 improved from -inf to 0.48525, saving model to weights5.hdf5\n",
      "Epoch 2/10\n",
      " - 20s - loss: 0.1066 - accuracy: 0.9742 - f1: 0.5769 - val_loss: 0.1735 - val_accuracy: 0.9668 - val_f1: 0.4887\n",
      "\n",
      "Epoch 00002: val_f1 improved from 0.48525 to 0.48875, saving model to weights5.hdf5\n",
      "Epoch 3/10\n",
      " - 19s - loss: 0.0870 - accuracy: 0.9731 - f1: 0.5791 - val_loss: 0.1799 - val_accuracy: 0.9558 - val_f1: 0.4989\n",
      "\n",
      "Epoch 00003: val_f1 improved from 0.48875 to 0.49889, saving model to weights5.hdf5\n",
      "Epoch 4/10\n",
      " - 19s - loss: 0.0719 - accuracy: 0.9797 - f1: 0.5830 - val_loss: 0.1393 - val_accuracy: 0.9823 - val_f1: 0.4963\n"
     ]
    },
    {
     "name": "stdout",
     "output_type": "stream",
     "text": [
      "\n",
      "Epoch 00004: val_f1 did not improve from 0.49889\n",
      "Epoch 5/10\n",
      " - 19s - loss: 0.0621 - accuracy: 0.9813 - f1: 0.5735 - val_loss: 0.1567 - val_accuracy: 0.9690 - val_f1: 0.4912\n",
      "\n",
      "Epoch 00005: val_f1 did not improve from 0.49889\n",
      "Epoch 6/10\n",
      " - 19s - loss: 0.0482 - accuracy: 0.9846 - f1: 0.6027 - val_loss: 0.1521 - val_accuracy: 0.9646 - val_f1: 0.4883\n",
      "\n",
      "Epoch 00006: val_f1 did not improve from 0.49889\n"
     ]
    }
   ],
   "source": [
    "iter = 0\n",
    "cross_val_predict_nn = np.zeros(X.shape[0])\n",
    "all_history = {}\n",
    "\n",
    "for train_index, test_index in StratifiedKFold(n_splits=5).split(X,data.overall.values):\n",
    "    iter += 1\n",
    "    \n",
    "    print (\"Iteration {}\".format(iter))\n",
    "    \n",
    "    train_x = X[train_index]\n",
    "    train_y = y[train_index]\n",
    "    val_x = X[test_index]\n",
    "    val_y = y[test_index]\n",
    "    \n",
    "    print (train_x.shape, train_y.shape, val_x.shape, val_y.shape)\n",
    "    model = get_model()\n",
    "    early = EarlyStopping(monitor='val_f1', min_delta=0, patience=3, verbose=0, mode='max', baseline=None, restore_best_weights=False)\n",
    "    lr = ReduceLROnPlateau(monitor='val_loss', factor=0.1, patience=3, verbose=0, mode='auto', min_delta=0.0001, cooldown=0, min_lr=0.000001)\n",
    "    checkpointer = ModelCheckpoint(monitor='val_f1',filepath='weights{}.hdf5'.format(iter), mode='max',verbose=1, save_best_only=True)\n",
    "    \n",
    "    history = model.fit(train_x, train_y, epochs = n_epochs, batch_size=batch_size, verbose = 2, validation_data=(val_x,val_y), callbacks=[early,lr,checkpointer])\n",
    "    all_history[iter] = history\n",
    "    \n",
    "    model = load_model('weights1.hdf5',custom_objects={'f1':f1})\n",
    "    \n",
    "    cross_val_predict_nn[test_index] = model.predict(val_x).argmax(axis=1) + np.ones(val_x.shape[0])"
   ]
  },
  {
   "cell_type": "markdown",
   "metadata": {},
   "source": [
    "<a id='evlstm'></a>\n",
    "\n",
    "#### Evaluating LSTM"
   ]
  },
  {
   "cell_type": "code",
   "execution_count": 95,
   "metadata": {},
   "outputs": [
    {
     "name": "stdout",
     "output_type": "stream",
     "text": [
      "0.980193661971831\n",
      "0.8510651399577986\n",
      "[[   6    0    2    0    1]\n",
      " [   0    6    0    0    7]\n",
      " [   0    0  412    0    9]\n",
      " [   1    0    0  207   14]\n",
      " [   1    0    1    9 1596]]\n"
     ]
    }
   ],
   "source": [
    "print (accuracy_score(data.overall,cross_val_predict_nn))\n",
    "print (f1_score(data.overall,cross_val_predict_nn,average='macro'))\n",
    "print (confusion_matrix(data.overall,cross_val_predict_nn))"
   ]
  },
  {
   "cell_type": "markdown",
   "metadata": {},
   "source": [
    "In just 10 epochs, we can see a drastic improvement over previous models. One can change the type of RNN cell, increase model depth, number of cell, even different architecture. Before finishing off our tutorial, let us see how the model optimized the loss function."
   ]
  },
  {
   "cell_type": "code",
   "execution_count": 100,
   "metadata": {},
   "outputs": [
    {
     "data": {
      "image/png": "[encoded data removed]",
      "text/plain": [
       "<Figure size 432x288 with 1 Axes>"
      ]
     },
     "metadata": {},
     "output_type": "display_data"
    }
   ],
   "source": [
    "import matplotlib.pyplot as plt\n",
    "\n",
    "plt.plot(all_history[1].history['loss'])\n",
    "plt.plot(all_history[1].history['val_loss'])\n",
    "plt.title('model loss')\n",
    "plt.ylabel('loss')\n",
    "plt.xlabel('epoch')\n",
    "plt.legend(['train', 'test'], loc='upper left')\n",
    "plt.show()"
   ]
  },
  {
   "cell_type": "code",
   "execution_count": 101,
   "metadata": {},
   "outputs": [
    {
     "data": {
      "image/png": "[encoded data removed]",
      "text/plain": [
       "<Figure size 432x288 with 1 Axes>"
      ]
     },
     "metadata": {},
     "output_type": "display_data"
    }
   ],
   "source": [
    "plt.plot(all_history[1].history['f1'])\n",
    "plt.plot(all_history[1].history['val_f1'])\n",
    "plt.title('model F1')\n",
    "plt.ylabel('F1')\n",
    "plt.xlabel('epoch')\n",
    "plt.legend(['train', 'test'], loc='upper left')\n",
    "plt.show()"
   ]
  },
  {
   "cell_type": "code",
   "execution_count": 103,
   "metadata": {},
   "outputs": [
    {
     "data": {
      "image/png": "[encoded data removed]",
      "text/plain": [
       "<Figure size 432x288 with 1 Axes>"
      ]
     },
     "metadata": {},
     "output_type": "display_data"
    }
   ],
   "source": [
    "plt.plot(all_history[1].history['accuracy'])\n",
    "plt.plot(all_history[1].history['val_accuracy'])\n",
    "plt.title('model Accuracy')\n",
    "plt.ylabel('Accuracy')\n",
    "plt.xlabel('epoch')\n",
    "plt.legend(['train', 'test'], loc='upper left')\n",
    "plt.show()"
   ]
  },
  {
   "cell_type": "markdown",
   "metadata": {},
   "source": [
    "#### Pytorch LSTM\n",
    "\n",
    "Same exercise we do using Pytorch library. Pytorch is developed by Facebook and has recently surpassed the popularity of tensorflow due to its design and efficiency. This subsection can be skipped."
   ]
  },
  {
   "cell_type": "code",
   "execution_count": 122,
   "metadata": {},
   "outputs": [
    {
     "data": {
      "text/plain": [
       "<torch._C.Generator at 0x261aa45c990>"
      ]
     },
     "execution_count": 122,
     "metadata": {},
     "output_type": "execute_result"
    }
   ],
   "source": [
    "import torch\n",
    "import torch.nn as nn\n",
    "import torch.nn.functional as F\n",
    "import torch.optim as optim\n",
    "from torch.utils.data import DataLoader, TensorDataset\n",
    "\n",
    "torch.manual_seed(1)"
   ]
  },
  {
   "cell_type": "code",
   "execution_count": 105,
   "metadata": {},
   "outputs": [],
   "source": [
    "device = torch.device(\"cuda\" if torch.cuda.is_available() else \"cpu\")"
   ]
  },
  {
   "cell_type": "code",
   "execution_count": 213,
   "metadata": {},
   "outputs": [],
   "source": [
    "class LSTMClassifier(nn.Module):\n",
    "    def __init__(self, embedding_matrix, seq_len, hidden_size, n_layers, num_class, non_trainable=True):\n",
    "        super().__init__()\n",
    "        vocab_size = embedding_matrix.shape[0]\n",
    "        embed_dim = embedding_matrix.shape[1]\n",
    "        self.n_layers = n_layers\n",
    "        self.hidden_size = hidden_size\n",
    "        self.dropout=nn.Dropout(0.3)\n",
    "        \n",
    "        self.embedding = nn.Embedding(vocab_size,embed_dim)\n",
    "        self.embedding.load_state_dict({'weight': torch.LongTensor(embedding_matrix)})\n",
    "        if non_trainable:\n",
    "            self.embedding.weight.requires_grad = False\n",
    "            \n",
    "        self.lstm = nn.LSTM(embed_dim, hidden_size, n_layers, batch_first=True)\n",
    "        self.fc = nn.Linear(hidden_size*seq_len, num_class)\n",
    "\n",
    "    def forward(self, text, hidden):\n",
    "        batch_size = text.shape[0]\n",
    "        out, hidden = self.lstm(self.embedding(text),hidden)\n",
    "        out = out.contiguous().view(batch_size,-1)\n",
    "        return self.fc(out), hidden\n",
    "    \n",
    "    def init_hidden(self, batch_size):\n",
    "        \"\"\"Initialize Hidden STATE\"\"\"\n",
    "        # Create two new tensors with sizes n_layers x batch_size x hidden_dim,\n",
    "        # initialized to zero, for hidden state and cell state of LSTM\n",
    "        weight = next(self.parameters()).data\n",
    "        \n",
    "        hidden = (weight.new(self.n_layers, batch_size, self.hidden_size).zero_().to(device),\n",
    "                  weight.new(self.n_layers, batch_size, self.hidden_size).zero_().to(device))\n",
    "        \n",
    "        return hidden"
   ]
  },
  {
   "cell_type": "code",
   "execution_count": 216,
   "metadata": {},
   "outputs": [
    {
     "name": "stdout",
     "output_type": "stream",
     "text": [
      "<bound method Module.parameters of LSTMClassifier(\n",
      "  (dropout): Dropout(p=0.3, inplace=False)\n",
      "  (embedding): Embedding(1064, 100)\n",
      "  (lstm): LSTM(100, 196, batch_first=True)\n",
      "  (fc): Linear(in_features=19600, out_features=5, bias=True)\n",
      ")>\n"
     ]
    }
   ],
   "source": [
    "model = LSTMClassifier(embedding_matrix,max_len,lstm_out,1,n_output)\n",
    "print (model.parameters)\n",
    "model = model.to(device)"
   ]
  },
  {
   "cell_type": "code",
   "execution_count": 208,
   "metadata": {},
   "outputs": [],
   "source": [
    "?nn.LSTM"
   ]
  },
  {
   "cell_type": "code",
   "execution_count": 211,
   "metadata": {},
   "outputs": [],
   "source": [
    "n_layers = 1"
   ]
  },
  {
   "cell_type": "code",
   "execution_count": 232,
   "metadata": {},
   "outputs": [
    {
     "name": "stdout",
     "output_type": "stream",
     "text": [
      "******************* Iteration 1 **************\n",
      "\n"
     ]
    },
    {
     "name": "stderr",
     "output_type": "stream",
     "text": [
      "c:\\users\\asengup6\\softwares\\anaconda\\lib\\site-packages\\sklearn\\metrics\\classification.py:1437: UndefinedMetricWarning: F-score is ill-defined and being set to 0.0 in labels with no predicted samples.\n",
      "  'precision', 'predicted', average, warn_for)\n",
      "c:\\users\\asengup6\\softwares\\anaconda\\lib\\site-packages\\sklearn\\metrics\\classification.py:1439: UndefinedMetricWarning: F-score is ill-defined and being set to 0.0 in labels with no true samples.\n",
      "  'recall', 'true', average, warn_for)\n"
     ]
    },
    {
     "name": "stdout",
     "output_type": "stream",
     "text": [
      "Epoch 0: train loss 0.195, train acc 0.950, train f1 0.850, val loss 0.222, val acc 0.943, val f1 0.850\n",
      "\n",
      "saving new checkpoint in model1_torch.hdf5\n"
     ]
    },
    {
     "name": "stderr",
     "output_type": "stream",
     "text": [
      "c:\\users\\asengup6\\softwares\\anaconda\\lib\\site-packages\\torch\\serialization.py:256: UserWarning: Couldn't retrieve source code for container of type LSTMClassifier. It won't be checked for correctness upon loading.\n",
      "  \"type \" + obj.__name__ + \". It won't be checked \"\n"
     ]
    },
    {
     "name": "stdout",
     "output_type": "stream",
     "text": [
      "Epoch 1: train loss 0.035, train acc 0.993, train f1 0.954, val loss 0.246, val acc 0.921, val f1 0.706\n",
      "\n",
      "Epoch 2: train loss 0.029, train acc 0.993, train f1 0.951, val loss 0.236, val acc 0.945, val f1 0.854\n",
      "\n",
      "saving new checkpoint in model1_torch.hdf5\n",
      "Epoch 3: train loss 0.029, train acc 0.993, train f1 0.958, val loss 0.218, val acc 0.945, val f1 0.882\n",
      "\n",
      "saving new checkpoint in model1_torch.hdf5\n",
      "Epoch 4: train loss 0.024, train acc 0.993, train f1 0.953, val loss 0.236, val acc 0.945, val f1 0.838\n",
      "\n",
      "Epoch 5: train loss 0.021, train acc 0.994, train f1 0.965, val loss 0.235, val acc 0.945, val f1 0.876\n",
      "\n",
      "saving new checkpoint in model1_torch.hdf5\n",
      "Epoch 6: train loss 0.020, train acc 0.994, train f1 0.965, val loss 0.260, val acc 0.945, val f1 0.863\n",
      "\n",
      "Epoch 7: train loss 0.016, train acc 0.996, train f1 0.978, val loss 0.311, val acc 0.945, val f1 0.883\n",
      "\n",
      "saving new checkpoint in model1_torch.hdf5\n",
      "Epoch 8: train loss 0.014, train acc 0.997, train f1 0.984, val loss 0.277, val acc 0.945, val f1 0.826\n",
      "\n",
      "Epoch 9: train loss 0.011, train acc 0.996, train f1 0.979, val loss 0.315, val acc 0.947, val f1 0.863\n",
      "\n",
      "saving new checkpoint in model1_torch.hdf5\n",
      "******************* Iteration 2 **************\n",
      "\n",
      "Epoch 0: train loss 0.241, train acc 0.933, train f1 0.825, val loss 0.025, val acc 0.989, val f1 0.931\n",
      "\n",
      "saving new checkpoint in model2_torch.hdf5\n",
      "Epoch 1: train loss 0.080, train acc 0.980, train f1 0.919, val loss 0.005, val acc 1.000, val f1 1.000\n",
      "\n",
      "saving new checkpoint in model2_torch.hdf5\n",
      "Epoch 2: train loss 0.061, train acc 0.982, train f1 0.920, val loss 0.010, val acc 0.993, val f1 0.952\n",
      "\n",
      "Epoch 3: train loss 0.057, train acc 0.985, train f1 0.928, val loss 0.005, val acc 1.000, val f1 1.000\n",
      "\n",
      "saving new checkpoint in model2_torch.hdf5\n",
      "Epoch 4: train loss 0.048, train acc 0.987, train f1 0.943, val loss 0.001, val acc 1.000, val f1 1.000\n",
      "\n",
      "Epoch     5: reducing learning rate of group 0 to 1.0000e-04.\n",
      "Epoch 5: train loss 0.041, train acc 0.990, train f1 0.958, val loss 0.000, val acc 1.000, val f1 1.000\n",
      "\n",
      "Epoch 6: train loss 0.033, train acc 0.991, train f1 0.959, val loss 0.000, val acc 1.000, val f1 1.000\n",
      "\n",
      "Epoch 7: train loss 0.032, train acc 0.992, train f1 0.962, val loss 0.000, val acc 1.000, val f1 1.000\n",
      "\n",
      "Epoch 8: train loss 0.031, train acc 0.992, train f1 0.962, val loss 0.000, val acc 1.000, val f1 1.000\n",
      "\n",
      "Epoch     9: reducing learning rate of group 0 to 1.0000e-05.\n",
      "Epoch 9: train loss 0.030, train acc 0.992, train f1 0.969, val loss 0.000, val acc 1.000, val f1 1.000\n",
      "\n",
      "******************* Iteration 3 **************\n",
      "\n",
      "Epoch 0: train loss 0.246, train acc 0.927, train f1 0.809, val loss 0.033, val acc 0.989, val f1 0.928\n",
      "\n",
      "saving new checkpoint in model3_torch.hdf5\n",
      "Epoch 1: train loss 0.073, train acc 0.981, train f1 0.935, val loss 0.024, val acc 0.993, val f1 0.985\n",
      "\n",
      "saving new checkpoint in model3_torch.hdf5\n",
      "Epoch 2: train loss 0.059, train acc 0.983, train f1 0.938, val loss 0.020, val acc 0.993, val f1 0.943\n",
      "\n",
      "Epoch 3: train loss 0.055, train acc 0.987, train f1 0.955, val loss 0.018, val acc 0.993, val f1 0.933\n",
      "\n",
      "Epoch 4: train loss 0.044, train acc 0.990, train f1 0.955, val loss 0.016, val acc 0.993, val f1 0.958\n",
      "\n",
      "saving new checkpoint in model3_torch.hdf5\n",
      "Epoch     5: reducing learning rate of group 0 to 1.0000e-04.\n",
      "Epoch 5: train loss 0.038, train acc 0.990, train f1 0.962, val loss 0.016, val acc 0.996, val f1 0.969\n",
      "\n",
      "saving new checkpoint in model3_torch.hdf5\n",
      "Epoch 6: train loss 0.035, train acc 0.991, train f1 0.964, val loss 0.017, val acc 0.996, val f1 0.960\n",
      "\n",
      "Epoch 7: train loss 0.032, train acc 0.992, train f1 0.963, val loss 0.016, val acc 0.996, val f1 0.969\n",
      "\n",
      "saving new checkpoint in model3_torch.hdf5\n",
      "Epoch 8: train loss 0.031, train acc 0.992, train f1 0.970, val loss 0.016, val acc 0.996, val f1 0.966\n",
      "\n",
      "Epoch 9: train loss 0.030, train acc 0.992, train f1 0.970, val loss 0.016, val acc 0.996, val f1 0.991\n",
      "\n",
      "saving new checkpoint in model3_torch.hdf5\n",
      "******************* Iteration 4 **************\n",
      "\n",
      "Epoch 0: train loss 0.242, train acc 0.931, train f1 0.808, val loss 0.040, val acc 0.991, val f1 0.948\n",
      "\n",
      "saving new checkpoint in model4_torch.hdf5\n",
      "Epoch 1: train loss 0.073, train acc 0.980, train f1 0.917, val loss 0.037, val acc 0.991, val f1 0.939\n",
      "\n",
      "Epoch 2: train loss 0.058, train acc 0.984, train f1 0.943, val loss 0.033, val acc 0.991, val f1 0.932\n",
      "\n",
      "Epoch 3: train loss 0.050, train acc 0.986, train f1 0.960, val loss 0.031, val acc 0.991, val f1 0.939\n",
      "\n",
      "saving new checkpoint in model4_torch.hdf5\n",
      "Epoch     4: reducing learning rate of group 0 to 1.0000e-04.\n",
      "Epoch 4: train loss 0.038, train acc 0.990, train f1 0.957, val loss 0.035, val acc 0.991, val f1 0.931\n",
      "\n",
      "Epoch 5: train loss 0.034, train acc 0.990, train f1 0.969, val loss 0.032, val acc 0.991, val f1 0.939\n",
      "\n",
      "saving new checkpoint in model4_torch.hdf5\n",
      "Epoch 6: train loss 0.032, train acc 0.992, train f1 0.967, val loss 0.031, val acc 0.991, val f1 0.939\n",
      "\n",
      "Epoch 7: train loss 0.031, train acc 0.992, train f1 0.969, val loss 0.028, val acc 0.993, val f1 0.952\n",
      "\n",
      "saving new checkpoint in model4_torch.hdf5\n",
      "Epoch 8: train loss 0.029, train acc 0.992, train f1 0.970, val loss 0.028, val acc 0.993, val f1 0.949\n",
      "\n",
      "Epoch 9: train loss 0.028, train acc 0.993, train f1 0.971, val loss 0.027, val acc 0.993, val f1 0.960\n",
      "\n",
      "saving new checkpoint in model4_torch.hdf5\n",
      "******************* Iteration 5 **************\n",
      "\n",
      "Epoch 0: train loss 0.216, train acc 0.933, train f1 0.808, val loss 0.083, val acc 0.987, val f1 0.920\n",
      "\n",
      "saving new checkpoint in model5_torch.hdf5\n",
      "Epoch 1: train loss 0.057, train acc 0.982, train f1 0.910, val loss 0.117, val acc 0.985, val f1 0.932\n",
      "\n",
      "saving new checkpoint in model5_torch.hdf5\n",
      "Epoch 2: train loss 0.039, train acc 0.988, train f1 0.943, val loss 0.138, val acc 0.971, val f1 0.879\n",
      "\n",
      "Epoch 3: train loss 0.032, train acc 0.990, train f1 0.955, val loss 0.119, val acc 0.982, val f1 0.924\n",
      "\n",
      "saving new checkpoint in model5_torch.hdf5\n",
      "Epoch 4: train loss 0.025, train acc 0.993, train f1 0.968, val loss 0.137, val acc 0.980, val f1 0.923\n",
      "\n",
      "Epoch     5: reducing learning rate of group 0 to 1.0000e-04.\n",
      "Epoch 5: train loss 0.022, train acc 0.993, train f1 0.966, val loss 0.192, val acc 0.962, val f1 0.830\n",
      "\n",
      "Epoch 6: train loss 0.018, train acc 0.994, train f1 0.973, val loss 0.163, val acc 0.971, val f1 0.906\n",
      "\n",
      "saving new checkpoint in model5_torch.hdf5\n",
      "Epoch 7: train loss 0.017, train acc 0.994, train f1 0.977, val loss 0.165, val acc 0.969, val f1 0.916\n",
      "\n",
      "saving new checkpoint in model5_torch.hdf5\n",
      "Epoch 8: train loss 0.017, train acc 0.994, train f1 0.973, val loss 0.172, val acc 0.967, val f1 0.894\n",
      "\n",
      "Epoch     9: reducing learning rate of group 0 to 1.0000e-05.\n",
      "Epoch 9: train loss 0.017, train acc 0.994, train f1 0.975, val loss 0.179, val acc 0.967, val f1 0.902\n",
      "\n",
      "saving new checkpoint in model5_torch.hdf5\n"
     ]
    }
   ],
   "source": [
    "iter = 0\n",
    "cross_val_predict_nn = np.zeros(X.shape[0])\n",
    "all_history = {}\n",
    "\n",
    "for train_index, test_index in StratifiedKFold(n_splits=5).split(X,data.overall.values):\n",
    "    iter += 1\n",
    "    \n",
    "    all_history[iter] = {}\n",
    "    \n",
    "    print (\"******************* Iteration {} **************\".format(iter))\n",
    "    print ()\n",
    "    \n",
    "    train_x = X[train_index]\n",
    "    train_y = y[train_index]\n",
    "    val_x = X[test_index]\n",
    "    val_y = y[test_index]\n",
    "    \n",
    "    train_data = TensorDataset(torch.LongTensor(train_x), torch.LongTensor(train_y))\n",
    "    val_data = TensorDataset(torch.LongTensor(val_x), torch.LongTensor(val_y))\n",
    "\n",
    "    #dataloader\n",
    "    train_loader = DataLoader(train_data, batch_size=batch_size, shuffle=True)\n",
    "    val_loader = DataLoader(val_data, batch_size=batch_size, shuffle=True)\n",
    "\n",
    "    \n",
    "    model = LSTMClassifier(embedding_matrix,max_len,lstm_out,n_layers, n_output)\n",
    "    model = model.to(device)\n",
    "    \n",
    "    criterion = nn.CrossEntropyLoss()\n",
    "    optimizer = optim.Adam(model.parameters(), lr=0.001)\n",
    "    scheduler = optim.lr_scheduler.ReduceLROnPlateau(optimizer, patience=3, verbose=True, min_lr=.000001,mode='max')\n",
    "    criterion = criterion.to(device)\n",
    "\n",
    "    all_history[iter][-1] = {'epoch_train_loss':0,'epoch_train_acc':0,'epoch_train_f1':0,\n",
    "                               'epoch_val_loss':0,'epoch_val_acc':0,'epoch_val_f1':0}\n",
    "    \n",
    "    # train for some number of epochs\n",
    "    for e in range(n_epochs):\n",
    "        \n",
    "        epoch_train_loss = 0\n",
    "        epoch_train_acc = 0\n",
    "        epoch_train_f1 = 0\n",
    "        epoch_val_loss = 0\n",
    "        epoch_val_acc = 0\n",
    "        epoch_val_f1 = 0\n",
    "        \n",
    "        running_train_loss = 0.0\n",
    "        running_train_corrects = 0\n",
    "        running_train_f1 = 0\n",
    "        counter = 0\n",
    "        \n",
    "        model.train()\n",
    "\n",
    "        # batch loop\n",
    "        for inputs, labels in train_loader:\n",
    "            counter += 1\n",
    "\n",
    "            # initialize hidden state\n",
    "            h = model.init_hidden(inputs.shape[0])\n",
    "        \n",
    "            inputs = inputs.to(device)\n",
    "            labels = labels.to(device)\n",
    "            # Creating new variables for the hidden state, otherwise\n",
    "            # we'd backprop through the entire training history\n",
    "            h = tuple([each.data for each in h])\n",
    "\n",
    "            # zero accumulated gradients\n",
    "            model.zero_grad()\n",
    "\n",
    "            # get the output from the model\n",
    "            output, h = model(inputs, h)\n",
    "\n",
    "            # calculate the loss and perform backprop\n",
    "            #loss = criterion(output.squeeze(), labels.long())\n",
    "            loss = criterion(output, torch.max(labels, 1)[1])\n",
    "            \n",
    "            loss.backward()\n",
    "            # `clip_grad_norm` helps prevent the exploding gradient problem in RNNs / LSTMs.\n",
    "            #nn.utils.clip_grad_norm_(model.parameters(), clip)\n",
    "            optimizer.step()\n",
    "\n",
    "            _, preds = torch.max(output, 1)\n",
    "            \n",
    "            running_train_loss += loss.item() * inputs.size(0)\n",
    "            running_train_corrects += torch.sum(preds == torch.argmax(labels.data,1))\n",
    "            running_train_f1 += f1_score(np.array(labels.data.to('cpu')).argmax(1), np.array(preds.data.to('cpu')), average='macro')\n",
    "            \n",
    "        epoch_train_loss = running_train_loss / train_x.shape[0]\n",
    "        epoch_train_acc = running_train_corrects.double() / train_x.shape[0]\n",
    "        epoch_train_f1 = running_train_f1 / counter\n",
    "        \n",
    "        model.eval()\n",
    "\n",
    "        running_val_loss = 0.0\n",
    "        running_val_corrects = 0\n",
    "        running_val_f1 = 0\n",
    "        counter = 0\n",
    "\n",
    "        # batch loop\n",
    "        for inputs, labels in val_loader:\n",
    "            counter += 1\n",
    "\n",
    "            # initialize hidden state\n",
    "            h = model.init_hidden(inputs.shape[0])\n",
    "        \n",
    "            inputs = inputs.to(device)\n",
    "            labels = labels.to(device)\n",
    "            # Creating new variables for the hidden state, otherwise\n",
    "            # we'd backprop through the entire training history\n",
    "            # h = tuple([each.data for each in h])\n",
    "\n",
    "            # get the output from the model\n",
    "            output, h = model(inputs, h)\n",
    "\n",
    "            # calculate the loss and perform backprop\n",
    "            #loss = criterion(output.squeeze(), labels.long())\n",
    "            loss = criterion(output, torch.max(labels, 1)[1])\n",
    "            \n",
    "            _, preds = torch.max(output, 1)\n",
    "\n",
    "            running_val_loss += loss.item() * inputs.size(0)\n",
    "            running_val_corrects += torch.sum(preds == torch.argmax(labels.data,1))\n",
    "            running_val_f1 += f1_score(np.array(labels.data.to('cpu')).argmax(1), np.array(preds.data.to('cpu')), average='macro')\n",
    "\n",
    "\n",
    "        epoch_val_loss = running_val_loss / val_x.shape[0]\n",
    "        epoch_val_acc = running_val_corrects.double() / val_x.shape[0]\n",
    "        epoch_val_f1 = running_val_f1 / counter\n",
    "    \n",
    "        all_history[iter][e] = {'epoch_train_loss':epoch_train_loss,'epoch_train_acc':epoch_train_acc,'epoch_train_f1':epoch_train_f1,\n",
    "                               'epoch_val_loss':epoch_val_loss,'epoch_val_acc':epoch_val_acc,'epoch_val_f1':epoch_val_f1}\n",
    "        \n",
    "        scheduler.step(epoch_val_f1)\n",
    "        \n",
    "        print (\"Epoch {}: train loss {:.3f}, train acc {:.3f}, train f1 {:.3f}, val loss {:.3f}, val acc {:.3f}, val f1 {:.3f}\".format(e, epoch_train_loss,\n",
    "                epoch_train_acc, epoch_train_f1, epoch_val_loss, epoch_val_acc, epoch_val_f1))\n",
    "        print()\n",
    "        \n",
    "        if epoch_val_f1 > all_history[iter][e-1]['epoch_val_f1']:\n",
    "            torch.save(model,\"model{}_torch.hdf5\".format(iter))\n",
    "            print (\"saving new checkpoint in model{}_torch.hdf5\".format(iter))\n",
    "    output, _ = model(torch.LongTensor(val_x),model.init_hidden(val_x.shape[0]))\n",
    "    cross_val_predict_nn[test_index] = np.array(output.data.to('cpu')).argmax(axis=1) + np.ones(val_x.shape[0])       "
   ]
  },
  {
   "cell_type": "code",
   "execution_count": 233,
   "metadata": {},
   "outputs": [
    {
     "name": "stdout",
     "output_type": "stream",
     "text": [
      "0.9806338028169014\n",
      "0.8647741291251725\n",
      "[[   7    0    0    0    2]\n",
      " [   0    5    0    0    8]\n",
      " [   0    0  412    0    9]\n",
      " [   0    0    0  206   16]\n",
      " [   0    1    2    6 1598]]\n"
     ]
    }
   ],
   "source": [
    "print (accuracy_score(data.overall,cross_val_predict_nn))\n",
    "print (f1_score(data.overall,cross_val_predict_nn,average='macro'))\n",
    "print (confusion_matrix(data.overall,cross_val_predict_nn))"
   ]
  },
  {
   "cell_type": "code",
   "execution_count": null,
   "metadata": {},
   "outputs": [],
   "source": []
  }
 ],
 "metadata": {
  "kernelspec": {
   "display_name": "Python 3",
   "language": "python",
   "name": "python3"
  },
  "language_info": {
   "codemirror_mode": {
    "name": "ipython",
    "version": 3
   },
   "file_extension": ".py",
   "mimetype": "text/x-python",
   "name": "python",
   "nbconvert_exporter": "python",
   "pygments_lexer": "ipython3",
   "version": "3.6.6"
  }
 },
 "nbformat": 4,
 "nbformat_minor": 2
}
