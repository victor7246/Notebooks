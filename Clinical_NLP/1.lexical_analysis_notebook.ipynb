{
 "cells": [
  {
   "cell_type": "markdown",
   "metadata": {},
   "source": [
    "In this notebook we read a toy dataset and perform basic data cleaning and lexical analysis. "
   ]
  },
  {
   "cell_type": "markdown",
   "metadata": {},
   "source": [
    "## Contents\n",
    "\n",
    "* [Read the dataset](#datasetreading)\n",
    "* [Data Cleaning](#regex)\n",
    "* [Stemming & Lemmatization](#stemming)\n",
    "* [Tokenization](#tokenization)\n",
    "* [Stop word removal](#stopword)"
   ]
  },
  {
   "attachments": {},
   "cell_type": "markdown",
   "metadata": {},
   "source": [
    "<a id='datasetreading'></a>\n",
    "\n",
    "### Read the dataset\n",
    "\n",
    "The dataset is collected from https://www.kaggle.com/c/medical-notes/data. It contains 800 anonymised transcribed medical reports with the disease category (specialty). For more information browse original source - https://www.mtsamples.com/"
   ]
  },
  {
   "cell_type": "code",
   "execution_count": 1,
   "metadata": {},
   "outputs": [],
   "source": [
    "import os\n",
    "import pandas as pd\n",
    "from tqdm import tqdm\n",
    "\n",
    "pd.options.display.max_colwidth = -1"
   ]
  },
  {
   "cell_type": "code",
   "execution_count": 2,
   "metadata": {},
   "outputs": [
    {
     "name": "stdout",
     "output_type": "stream",
     "text": [
      "Total 1239 files in directory\n"
     ]
    }
   ],
   "source": [
    "# We read all the medical notes from the directory\n",
    "dir = 'medical_notes/'\n",
    "print (\"Total {} files in directory\".format(len(os.listdir(dir))))"
   ]
  },
  {
   "cell_type": "code",
   "execution_count": 3,
   "metadata": {},
   "outputs": [],
   "source": [
    "labels = pd.read_csv(\"trainLabels.csv\",header=None)\n",
    "labels.columns = ['file','label']"
   ]
  },
  {
   "cell_type": "code",
   "execution_count": 4,
   "metadata": {},
   "outputs": [
    {
     "name": "stdout",
     "output_type": "stream",
     "text": [
      "       file       label\n",
      "0  1001.txt  Neurology \n",
      "1  1002.txt  Orthopedic\n",
      "2  1003.txt  Orthopedic\n",
      "3  1004.txt  Radiology \n",
      "4  1005.txt  Orthopedic\n"
     ]
    }
   ],
   "source": [
    "print (labels.head(5))"
   ]
  },
  {
   "cell_type": "code",
   "execution_count": 5,
   "metadata": {},
   "outputs": [
    {
     "name": "stderr",
     "output_type": "stream",
     "text": [
      "100%|███████████████████████████████████████████████████████████████████████████████| 826/826 [00:02<00:00, 344.37it/s]\n"
     ]
    }
   ],
   "source": [
    "# read each medical notes and the corresponding label (disease category)\n",
    "texts = []\n",
    "classes = []\n",
    "\n",
    "for i in tqdm(range(labels.shape[0])):\n",
    "    filename = os.path.join(dir,labels.iloc[i]['file'])\n",
    "    text = \" \".join(open(filename,'r').readlines())\n",
    "    texts.append(text)\n",
    "    classes.append(labels.iloc[i]['label'])\n",
    "    \n",
    "data = pd.DataFrame()\n",
    "data['text'] = texts\n",
    "data['label'] = classes"
   ]
  },
  {
   "cell_type": "code",
   "execution_count": 6,
   "metadata": {},
   "outputs": [
    {
     "name": "stdout",
     "output_type": "stream",
     "text": [
      "(826, 2)\n"
     ]
    }
   ],
   "source": [
    "print (data.shape)"
   ]
  },
  {
   "cell_type": "code",
   "execution_count": 7,
   "metadata": {},
   "outputs": [
    {
     "data": {
      "text/html": [
       "<div>\n",
       "<style scoped>\n",
       "    .dataframe tbody tr th:only-of-type {\n",
       "        vertical-align: middle;\n",
       "    }\n",
       "\n",
       "    .dataframe tbody tr th {\n",
       "        vertical-align: top;\n",
       "    }\n",
       "\n",
       "    .dataframe thead th {\n",
       "        text-align: right;\n",
       "    }\n",
       "</style>\n",
       "<table border=\"1\" class=\"dataframe\">\n",
       "  <thead>\n",
       "    <tr style=\"text-align: right;\">\n",
       "      <th></th>\n",
       "      <th>text</th>\n",
       "      <th>label</th>\n",
       "    </tr>\n",
       "  </thead>\n",
       "  <tbody>\n",
       "    <tr>\n",
       "      <th>0</th>\n",
       "      <td>\\n \\n \\n \\n \\n &lt;B&gt;CC:&lt;/B&gt; Difficulty with word finding.\\n \\n &lt;B&gt;HX: &lt;/B&gt;This 27y/o RHF experienced sudden onset word finding difficulty and slurred speech on the evening of 2/19/96. She denied any associated dysphagia, diplopia, numbness or weakness of her extremities. She went to sleep with her symptoms on 2/19/96, and awoke with them on 2/20/96. She also awoke with a headache (HA) and mild neck stiffness. She took a shower and her HA and neck stiffness resolved. Throughout the day she continued to have difficulty with word finding and had worsening of her slurred speech. That evening, she began to experience numbness and weakness in the lower right face. She felt like there was a &amp;quot;rubber-band&amp;quot; wrapped around her tongue.\\n \\n For 3 weeks prior to presentation, she experienced transient episodes of a &amp;quot;boomerang&amp;quot; shaped field cut in the left eye. The episodes were not associated with any other symptoms. One week prior to presentation, she went to a local ER for menorrhagia. She had just resumed taking oral birth control pills one week prior to the ER visit after having stopped their use for several months. Local evaluation included an unremarkable carotid duplex scan. However, a HCT with and without contrast reportedly revealed a left frontal gyriform enhancing lesion. An MRI brain scan on 2/20/96 revealed nonspecific white matter changes in the right periventricular region. EEG reportedly showed diffuse slowing. CRP was reportedly &amp;quot;too high&amp;quot; to calibrate.\\n \\n &lt;B&gt;MEDS:&lt;/B&gt; Ortho-Novum 7-7-7 (started 2/3/96), and ASA (started 2/20/96).\\n \\n &lt;B&gt;PMH:&lt;/B&gt; 1)ventral hernia repair 10 years ago, 2)mild &amp;quot;concussion&amp;quot; suffered during a MVA; without loss of consciousness, 5/93, 3) Anxiety disorder, 4) One childbirth.\\n \\n &lt;B&gt;FHX: &lt;/B&gt;She did not know her father and was not in contact with her mother.\\n \\n &lt;B&gt;SHX:&lt;/B&gt; Lives with boyfriend. Smokes one pack of cigarettes every three days and has done so for 10 years. Consumes 6 bottles of beers, one day a week. Unemployed and formerly worked at an herbicide plant.\\n \\n &lt;B&gt;EXAM: &lt;/B&gt;BP150/79, HR77, RR22, 37.4C.\\n \\n MS: A&amp;O to person, place and time. Speech was dysarthric with mild decreased fluency marked by occasional phonemic paraphasic errors. Comprehension, naming and reading were intact. She was able to repeat, though her repetition was occasionally marked by phonemic paraphasic errors. She had no difficulty with calculation.\\n \\n CN: VFFTC, Pupils 5/5 decreasing to 3/3. EOM intact. No papilledema or hemorrhages seen on fundoscopy. No RAPD or INO. There was right lower facial weakness. Facial sensation was intact, bilaterally. The rest of the CN exam was unremarkable.\\n \\n MOTOR: 5/5 strength throughout with normal muscle bulk and tone.\\n \\n Sensory: No deficits.\\n \\n Coord/Station/Gait: unremarkable.\\n \\n Reflexes 2/2 throughout. Plantar responses were flexor, bilaterally.\\n \\n Gen Exam: unremarkable.\\n \\n &lt;B&gt;COURSE:&lt;/B&gt; CRP 1.2 (elevated), ESR 10, RF 20, ANA 1:40, ANCA &amp;lt;1:40, TSH 2.0, FT4 1.73, Anticardiolipin antibody IgM 10.8GPL units (normal &amp;lt;10.9), Anticardiolipin antibody IgG 14.8GPL (normal&amp;lt;22.9), SSA and SSB were normal. Urine beta-hCG pregnancy and drug screen were negative. EKG, CXR and UA were negative.\\n \\n MRI brain, 2/21/96 revealed increased signal on T2 imaging in the periventricular white matter region of the right hemisphere. In addition, there were subtle T2 signal changes in the right frontal, right parietal, and left parietal regions as seen previously on her local MRI can. In addition, special FLAIR imaging showed increased signal in the right frontal region consistent with ischemia.\\n \\n She underwent Cerebral Angiography on 2/22/96. This revealed decreased flow and vessel narrowing the candelabra branches of the RMCA supplying the right frontal lobe. These changes corresponded to the areas of ischemic changes seen on MRI. There was also segmental narrowing of the caliber of the vessels in the circle of Willis. There was a small aneurysm at the origin of the LPCA. There was narrowing in the supraclinoid portion of the RICA and the proximal M1 and A1 segments. The study was highly suggestive of vasculitis.\\n \\n 2/23/96, Neuro-ophthalmology evaluation revealed no evidence of retinal vasculitic change. Neuropsychologic testing the same day revealed slight impairment of complex attention only. She was started on Prednisone 60mg qd and Tagamet 400mg qhs.\\n \\n On 2/26/96, she underwent a right frontal brain biopsy. Pathologic evaluation revealed evidence of focal necrosis (stroke/infarct), but no evidence of vasculitis. Immediately following the brain biopsy, while still in the recovery room, she experienced sudden onset right hemiparesis and transcortical motor type aphasia. Initial HCT was unremarkable. An EEG was consistent with a focal lesion in the left hemisphere. However, a 2/28/96 MRI brain scan revealed new increased signal on T2 weighted images in a gyriform pattern from the left precentral gyrus to the superior frontal gyrus. This was felt consistent with vasculitis.\\n \\n She began q2month cycles of Cytoxan (1,575mg IV on 2/29/96. She became pregnant after her 4th cycle of Cytoxan, despite warnings to the contrary. After extensive discussions with OB/GYN it was recommended she abort the pregnancy. She underwent neuropsychologic testing which revealed no significant cognitive deficits. She later agreed to the abortion. She has undergone 9 cycles of Cytoxan ( one cycle every 2 months) as of 4/97. She had complained of one episode of paresthesias of the LUE in 1/97. MRI then showed no new signs ischemia.\\n \\n \\n \\n \\n \\n \\n \\n</td>\n",
       "      <td>Neurology</td>\n",
       "    </tr>\n",
       "    <tr>\n",
       "      <th>1</th>\n",
       "      <td>\\n \\n \\n \\n \\n &lt;B&gt;PREOPERATIVE DIAGNOSIS: &lt;/B&gt; Ganglion of the left wrist.\\n \\n &lt;B&gt;POSTOPERATIVE DIAGNOSIS: &lt;/B&gt; Ganglion of the left wrist.\\n \\n &lt;B&gt;OPERATION: &lt;/B&gt; Excision of ganglion.\\n \\n &lt;B&gt;ANESTHESIA: &lt;/B&gt; General.\\n \\n &lt;B&gt;ESTIMATED BLOOD LOSS: &lt;/B&gt; Less than 5 mL.\\n \\n &lt;B&gt;OPERATION: &lt;/B&gt; After a successful anesthetic, the patient was positioned on the operating table.  A tourniquet applied to the upper arm.  The extremity was prepped in a usual manner for a surgical procedure and draped off.  The superficial vessels were exsanguinated with an elastic wrap and the tourniquet was then inflated to the usual arm pressure.  A curved incision was made over the presenting ganglion over the dorsal aspect of the wrist.  By blunt and sharp dissection, it was dissected out from underneath the extensor tendons and the stalk appeared to arise from the distal radiocapitellar joint and the dorsal capsule was excised along with the ganglion and the specimen was removed and submitted.  The small superficial vessels were electrocoagulated and instilled after closing the skin with 4-0 Prolene, into the area was approximately 6 to 7 mL of 0.25 Marcaine with epinephrine.  A Jackson-Pratt drain was inserted and then after the tourniquet was released, it was kept deflated until at least 5 to 10 minutes had passed and then it was activated and then removed in the recovery room.  The dressings applied to the hand were that of Xeroform, 4x4s, ABD, Kerlix, and elastic wrap over a volar fiberglass splint.  The tourniquet was released.  Circulation returned to the fingers.  The patient then was allowed to awaken and left the operating room in good condition.\\n \\n \\n \\n \\n \\n \\n \\n</td>\n",
       "      <td>Orthopedic</td>\n",
       "    </tr>\n",
       "    <tr>\n",
       "      <th>2</th>\n",
       "      <td>\\n \\n \\n \\n \\n &lt;B&gt;PREOPERATIVE DIAGNOSIS: &lt;/B&gt; Cervical myelopathy, C3-4, secondary to stenosis from herniated nucleus pulposus, C3-4.\\n \\n &lt;B&gt;POSTOPERATIVE DIAGNOSES: &lt;/B&gt; Cervical myelopathy, C3-4, secondary to stenosis from herniated nucleus pulposus, C3-4.\\n \\n &lt;B&gt;OPERATIVE PROCEDURES&lt;/B&gt;\\n 1.  Anterior cervical discectomy with decompression, C3-4.\\n 2.  Arthrodesis with anterior interbody fusion, C3-4.\\n 3.  Spinal instrumentation using Pioneer 18-mm plate and four 14 x 4.3 mm screws (all titanium).\\n 4.  Implant using PEEK 7 mm.\\n 5.  Allograft using Vitoss.\\n \\n &lt;B&gt;DRAINS: &lt;/B&gt; Round French 10 JP drain.\\n \\n &lt;B&gt;FLUIDS: &lt;/B&gt; 1800 mL of crystalloids.\\n \\n &lt;B&gt;URINE OUTPUT:  &lt;/B&gt;1000 mL.\\n \\n &lt;B&gt;SPECIMENS: &lt;/B&gt; None.\\n \\n &lt;B&gt;COMPLICATIONS:  &lt;/B&gt;None.\\n \\n &lt;B&gt;ANESTHESIA: &lt;/B&gt; General endotracheal anesthesia.\\n \\n &lt;B&gt;ESTIMATED BLOOD LOSS:  &lt;/B&gt;Less than 100 mL.\\n \\n &lt;B&gt;CONDITION:  &lt;/B&gt;To postanesthesia care unit extubated with stable vital signs.\\n \\n &lt;B&gt;INDICATIONS FOR THE OPERATION:  &lt;/B&gt;This is a case of a very pleasant 32-year-old Caucasian male who had been experiencing posterior neck discomfort and was shooting basketball last week, during which time he felt a pop.  Since then, the patient started complaining of acute right arm and right leg weakness, which had been progressively worsening.  About two days ago, he started noticing weakness on the left arm.  The patient also noted shuffling gait.  The patient presented to a family physician and was referred to Dr. X for further evaluation.  Dr. X could not attempt to this, so he called me at the office and the patient was sent to the emergency room, where an MRI of the brain was essentially unremarkable as well as MRI of the thoracic spine.  MRI of the cervical spine, however, revealed an acute disk herniation at C3-C4 with evidence of stenosis and cord changes.  Based on these findings, I recommended decompression.  The patient was started on Decadron at 10 mg IV q.6h.  Operation, expected outcome, risks, and benefits were discussed with him.  Risks to include but not exclusive of bleeding and infection.  Bleeding can be superficial, but can compromise airway, for which he has been told that he may be brought emergently back to the operating room for evacuation of said hematoma.  The hematoma could also be an epidural hematoma, which may compress the spinal cord and result in weakness of all four extremities, numbness of all four extremities, and impairment of bowel and bladder function.  Should this happen, he needs to be brought emergently back to the operating room for evacuation of said hematoma.  There is also the risk by removing the hematoma that he can deteriorate as far as neurological condition, but this hopefully with the steroid prep will be prevented or if present will only be transient.  There is also the possibility of infection, which can be superficial and treated with IV and p.o. antibiotics.  However, should the infection be extensive or be deep, he may require return to the operating room for debridement and irrigation.  This may pose a medical problem since in the presence of infection, the graft as well as spinal instrumentation may have to be removed.  There is also the possibility of dural tear with its attendant complaints of headache, nausea, vomiting, photophobia, as well as the development of pseudomeningocele.  This too can compromise airway and may require return to the operating room for repair of the dural tear.  There is also potential risk of injury to the esophagus, the trachea, as well as the carotid.  The patient can also have a stroke on the right cerebral circulation should the plaque be propelled into the right circulation.  The patient understood all these risks together with the risk associated with anesthesia and agreed to have the procedure performed.\\n \\n &lt;B&gt;DESCRIPTION OF PROCEDURE:  &lt;/B&gt;The patient was brought to the operating room, awake, alert and not in any form of distress.  After smooth induction and intubation, a Foley catheter was inserted.  No monitoring leads were placed.  The patient was then positioned supine on the operating table with the head supported on a foam doughnut and the neck placed on hyperextension with a shoulder roll under both shoulders.  Localizing x-ray verified the marker to be right at the C3-4 interspace.  Proceeded to mark an incision along the anterior border of the sternocleidomastoid with the central point at the area of the marker measuring about 3 cm in length.  The area was then prepped with DuraPrep.\\n \\n After sterile drapes were laid out, an incision was made using a scalpel blade #10.  Wound edge bleeders were controlled with bipolar coagulation and a hot knife was utilized to cut the platysma in a similar fashion.  The anterior border of the sternocleidomastoid was identified and dissection was carried superior to and lateral to the esophagus and trachea, but medial to the carotid sheath.  The prevertebral fascia was identified.  Localizing x-ray verified another marker to be at the C3-4 interspace.  Proceeded to strip the longus colli muscles off the vertebral body of C3 and C4 and a self-retaining retractor was then laid out.  There was some degree of anterior osteophyte and this was carefully drilled down with a Midas 5-mm bur.  The disk was then cut through the annulus and removal of the disk was done with the use of the Midas 5-mm bur and later a 3-mm bur.  The inferior endplate of C3 and the superior endplate of C4 were likewise drilled out together with posterior inferior osteophyte at the C3 and the posterior superior osteophyte at C4.  There was note of a central disk herniation centrally, but more marked displacement of the cord on the left side.  By careful dissection of this disk, posterior longitudinal ligament was removed and pressure on the cord was removed.  Hemostasis of the epidural bleeders was done with a combination of bipolar coagulation, but we needed to put a small piece of Gelfoam on the patient's left because of profuse venous bleeder.  With this completed, the Valsalva maneuver showed no evidence of any CSF leakage.  A 7-mm implant with its interior packed with Vitoss was then tapped into place.  An 18-mm plate was then screwed down with four 14 x 4.0 mm screws.  The area was irrigated with saline, with bacitracin solution.  Postoperative x-ray showed excellent placement of the graft and spinal instrumentation.  A round French 10 JP drain was laid over the construct and exteriorized though a separate stab incision on the patient's right inferiorly.  The wound was then closed in layers with Vicryl 3-0 inverted interrupted sutures for the platysma, Vicryl 4-0 subcuticular stitch for the dermis and Dermabond.  The catheter was anchored to the skin with a nylon 3-0 stitch.  Dressing was placed only on the exit site of the drain.  C-collar was placed, and the patient was transferred to the recovery awake and moving all four extremities.\\n \\n \\n \\n \\n \\n \\n \\n</td>\n",
       "      <td>Orthopedic</td>\n",
       "    </tr>\n",
       "    <tr>\n",
       "      <th>3</th>\n",
       "      <td>\\n \\n \\n \\n \\n &lt;B&gt;EXAM:&lt;/B&gt;MRI LEFT SHOULDER\\n \\n &lt;B&gt;CLINICAL:&lt;/B&gt;This is a 69-year-old male with pain in the shoulder. Evaluate for rotator cuff tear.\\n \\n &lt;B&gt;FINDINGS:&lt;/B&gt;\\n \\n Examination was performed on 9/1/05.\\n \\n There is marked supraspinatus tendinosis and extensive tearing of the substance of the tendon and articular surface, extending into the myotendinous junction as well. There is still a small rim of tendon along the bursal surface, although there may be a small tear at the level of the rotator interval. There is no retracted tendon or muscular atrophy (series #6 images #6-17).\\n \\n Normal infraspinatus tendon.\\n \\n There is subscapularis tendinosis with fraying and partial tearing of the superior most fibers extending to the level of the rotator interval (series #9 images #8-13; series #3 images #8-14). There is no complete tear, gap or fiber retraction and there is no muscular atrophy.\\n \\n There is tendinosis and superficial tearing of the long biceps tendon within the bicipital groove, and there is high grade (near complete) partial tearing of the intracapsular portion of the tendon. The biceps anchor is intact. There are degenerative changes in the greater tuberosity of the humerus but there is no fracture or subluxation.\\n \\n There is degeneration of the superior labrum and there is a small nondisplaced tear in the posterior superior labrum at the one to two o’clock position (series #6 images #12-14; series #3 images #8-10; series #9 images #5-8). There is a small sublabral foramen at the eleven o’clock position (series #9 image #6). There is no osseous Bankart lesion.\\n \\n Normal superior, middle and inferior glenohumeral ligaments.\\n \\n There is hypertrophic osteoarthropathy of the acromioclavicular joint with narrowing of the subacromial space and flattening of the superior surface of the supraspinatus musculotendinous junction, which in the appropriate clinical setting is an MRI manifestation of an impinging lesion (series #8 images #3-12).\\n \\n Normal coracoacromial, coracohumeral and coracoclavicular ligaments. There is minimal fluid within the glenohumeral joint. There is no atrophy of the deltoid muscle.\\n \\n &lt;B&gt;IMPRESSION:&lt;/B&gt;  There is extensive supraspinatus tendinosis and partial tearing as described. There is no retracted tendon or muscular atrophy, but there may be a small tear along the anterior edge of the tendon at the level of the rotator interval, and this associated partial tearing of the superior most fibers of the subscapularis tendon.  There is also a high-grade partial tear of the long biceps tendon as it courses under the transverse humeral ligament. There is no evidence of a complete tear or retracted tendon. Small nondisplaced posterior superior labral tear. Outlet narrowing from the acromioclavicular joint, which in the appropriate clinical setting is an MRI manifestation of an impinging lesion.\\n \\n \\n \\n \\n \\n \\n \\n</td>\n",
       "      <td>Radiology</td>\n",
       "    </tr>\n",
       "    <tr>\n",
       "      <th>4</th>\n",
       "      <td>\\n \\n \\n \\n \\n &lt;B&gt;HISTORY OF PRESENT ILLNESS: &lt;/B&gt; The patient is a 57-year-old female being seen today for evaluation of pain and symptoms related to a recurrent bunion deformity in bilateral feet, right greater than left.  The patient states she is having increasing symptoms of pain and discomfort associated with recurrence of bunion deformity on the right foot and pain localized to the second toe and MTP joint of the right foot as well.  The patient had prior surgery performed approximately 13 years ago.  She states that since the time of the original surgery the deformity has slowly recurred, and she has noticed progressive deformity in the lesser toes at the second and third toes of the left foot and involving the second toe of the right foot.  The patient is employed on her feet as a hospital employee and states that she does wear a functional orthotic which does provide some relief of forefoot pain although not complete.\\n \\n &lt;B&gt;PAST MEDICAL HISTORY, FAMILY HISTORY, SOCIAL HISTORY &amp; REVIEW OF SYSTEMS:&lt;/B&gt;  See Patient History sheet, which was reviewed with the patient and is signed in the chart.  Past medical history on the patient, past surgical history, current medications, drug-related allergies and social history have all been updated and reviewed, and enclosed in the chart.\\n \\n &lt;B&gt;PHYSICAL EXAMINATION: &lt;/B&gt; Physical exam reveals a pleasant, 57-year-old female who is 5 feet 4 inches and 150 pounds.  She has palpable pulses.  Neurologic sensation is intact.  Examination of the extremities shows the patient as having well-healed surgical sites from her arthroplasty, second digits bilaterally and prior bunionectomy.  There is a recurrence of bunion deformity noted on both great toes although the patient notes to have reasonably good range of movement.  She has particular pain in the second MTP joint of the right foot and demonstrates a mild claw-toe deformity of the second and third toes to the left foot, and to a lesser degree the second toe to the right.  Gait analysis:  The patient stands and walks with a rather severe pes planus and has generalized hypermobility noted in the feet.\\n \\n &lt;B&gt;X-RAY INTERPRETATION:&lt;/B&gt;  X-rays taken today; three views to the right foot shows presence of internal K-wire and wire from prior bunionectomy.  Biomechanical analysis shows 15 degree intermetatarsal angle and approximately 45 degree hallux abducto valgus angle.  No evidence of arthrosis in the joint is noted.  Significant shift to the fibular sesamoid is present.\\n \\n &lt;B&gt;ASSESSMENT:&lt;/B&gt;\\n 1.  Recurrent bunion deformity, right forefoot.\\n 2.  Pes planovalgus deformity, bilateral feet.\\n \\n &lt;B&gt;PLAN/TREATMENT:&lt;/B&gt;\\n 1.  Today, we did review remaining treatment options with the patient including the feasibility of conservative versus surgical treatment.  The patient would require an open wedge osteotomy to reduce the intermetatarsal angle with the lateral release and a decompression osteotomy  at the second metatarsal.  Anticipated length of healing was noted for the patient as were potential risks and complications.  The patient ultimately would probably require surgery on her left foot at a later date as well.\\n 2.  The patient will explore her ability to get out of work for the above-mentioned period of time and will be in touch with regards regarding scheduling at a later date.\\n 3.  All questions were answered.\\n \\n \\n \\n \\n \\n \\n \\n</td>\n",
       "      <td>Orthopedic</td>\n",
       "    </tr>\n",
       "  </tbody>\n",
       "</table>\n",
       "</div>"
      ],
      "text/plain": [
       "                                                                                                                                                                                                                                                                                                                                                                                                                                                                                                                                                                                                                                                                                                                                                                                                                                                                                                                                                                                                                                                                                                                                                                                                                                                                                                                                                                                                                                                                                                                                                                                                                                                                                                                                                                                                                                                                                                                                                                                                                                                                                                                                                                                                                                                                                                                                                                                                                                                                                                                                                                                                                                                                                                                                                                                                                                                                                                                                                                                                                                                                                                                                                                                                                                                                                                                                                                                                                                                                                                                                                                                                                                                                                                                                                                                                                                                                                                                                                                                                                                                                                                                                                                                                                                                                                                                                                                                                                                                                                                                                                                                                                                                                                                                                                                                                                                                                                                                                                                                                                                                                                                                                                                                                                                                                                                                                                                                                                                                                                                                                                                                                                                                                                                                                                                                                                                                                                                                                                                                                                                                                                                                                                                                                                                                                                                                                                                                                                                                                                                                                                                                                                                                                                                                                                                                                                                                                                                                                                                                                                                                                                                                                                                                                                                             text  \\\n",
       "0  \\n \\n \\n \\n \\n <B>CC:</B> Difficulty with word finding.\\n \\n <B>HX: </B>This 27y/o RHF experienced sudden onset word finding difficulty and slurred speech on the evening of 2/19/96. She denied any associated dysphagia, diplopia, numbness or weakness of her extremities. She went to sleep with her symptoms on 2/19/96, and awoke with them on 2/20/96. She also awoke with a headache (HA) and mild neck stiffness. She took a shower and her HA and neck stiffness resolved. Throughout the day she continued to have difficulty with word finding and had worsening of her slurred speech. That evening, she began to experience numbness and weakness in the lower right face. She felt like there was a &quot;rubber-band&quot; wrapped around her tongue.\\n \\n For 3 weeks prior to presentation, she experienced transient episodes of a &quot;boomerang&quot; shaped field cut in the left eye. The episodes were not associated with any other symptoms. One week prior to presentation, she went to a local ER for menorrhagia. She had just resumed taking oral birth control pills one week prior to the ER visit after having stopped their use for several months. Local evaluation included an unremarkable carotid duplex scan. However, a HCT with and without contrast reportedly revealed a left frontal gyriform enhancing lesion. An MRI brain scan on 2/20/96 revealed nonspecific white matter changes in the right periventricular region. EEG reportedly showed diffuse slowing. CRP was reportedly &quot;too high&quot; to calibrate.\\n \\n <B>MEDS:</B> Ortho-Novum 7-7-7 (started 2/3/96), and ASA (started 2/20/96).\\n \\n <B>PMH:</B> 1)ventral hernia repair 10 years ago, 2)mild &quot;concussion&quot; suffered during a MVA; without loss of consciousness, 5/93, 3) Anxiety disorder, 4) One childbirth.\\n \\n <B>FHX: </B>She did not know her father and was not in contact with her mother.\\n \\n <B>SHX:</B> Lives with boyfriend. Smokes one pack of cigarettes every three days and has done so for 10 years. Consumes 6 bottles of beers, one day a week. Unemployed and formerly worked at an herbicide plant.\\n \\n <B>EXAM: </B>BP150/79, HR77, RR22, 37.4C.\\n \\n MS: A&O to person, place and time. Speech was dysarthric with mild decreased fluency marked by occasional phonemic paraphasic errors. Comprehension, naming and reading were intact. She was able to repeat, though her repetition was occasionally marked by phonemic paraphasic errors. She had no difficulty with calculation.\\n \\n CN: VFFTC, Pupils 5/5 decreasing to 3/3. EOM intact. No papilledema or hemorrhages seen on fundoscopy. No RAPD or INO. There was right lower facial weakness. Facial sensation was intact, bilaterally. The rest of the CN exam was unremarkable.\\n \\n MOTOR: 5/5 strength throughout with normal muscle bulk and tone.\\n \\n Sensory: No deficits.\\n \\n Coord/Station/Gait: unremarkable.\\n \\n Reflexes 2/2 throughout. Plantar responses were flexor, bilaterally.\\n \\n Gen Exam: unremarkable.\\n \\n <B>COURSE:</B> CRP 1.2 (elevated), ESR 10, RF 20, ANA 1:40, ANCA &lt;1:40, TSH 2.0, FT4 1.73, Anticardiolipin antibody IgM 10.8GPL units (normal &lt;10.9), Anticardiolipin antibody IgG 14.8GPL (normal&lt;22.9), SSA and SSB were normal. Urine beta-hCG pregnancy and drug screen were negative. EKG, CXR and UA were negative.\\n \\n MRI brain, 2/21/96 revealed increased signal on T2 imaging in the periventricular white matter region of the right hemisphere. In addition, there were subtle T2 signal changes in the right frontal, right parietal, and left parietal regions as seen previously on her local MRI can. In addition, special FLAIR imaging showed increased signal in the right frontal region consistent with ischemia.\\n \\n She underwent Cerebral Angiography on 2/22/96. This revealed decreased flow and vessel narrowing the candelabra branches of the RMCA supplying the right frontal lobe. These changes corresponded to the areas of ischemic changes seen on MRI. There was also segmental narrowing of the caliber of the vessels in the circle of Willis. There was a small aneurysm at the origin of the LPCA. There was narrowing in the supraclinoid portion of the RICA and the proximal M1 and A1 segments. The study was highly suggestive of vasculitis.\\n \\n 2/23/96, Neuro-ophthalmology evaluation revealed no evidence of retinal vasculitic change. Neuropsychologic testing the same day revealed slight impairment of complex attention only. She was started on Prednisone 60mg qd and Tagamet 400mg qhs.\\n \\n On 2/26/96, she underwent a right frontal brain biopsy. Pathologic evaluation revealed evidence of focal necrosis (stroke/infarct), but no evidence of vasculitis. Immediately following the brain biopsy, while still in the recovery room, she experienced sudden onset right hemiparesis and transcortical motor type aphasia. Initial HCT was unremarkable. An EEG was consistent with a focal lesion in the left hemisphere. However, a 2/28/96 MRI brain scan revealed new increased signal on T2 weighted images in a gyriform pattern from the left precentral gyrus to the superior frontal gyrus. This was felt consistent with vasculitis.\\n \\n She began q2month cycles of Cytoxan (1,575mg IV on 2/29/96. She became pregnant after her 4th cycle of Cytoxan, despite warnings to the contrary. After extensive discussions with OB/GYN it was recommended she abort the pregnancy. She underwent neuropsychologic testing which revealed no significant cognitive deficits. She later agreed to the abortion. She has undergone 9 cycles of Cytoxan ( one cycle every 2 months) as of 4/97. She had complained of one episode of paresthesias of the LUE in 1/97. MRI then showed no new signs ischemia.\\n \\n \\n \\n \\n \\n \\n \\n                                                                                                                                                                                                                                                                                                                                                                                                                                                                                                                                                                                                                                                                                                                                                                                                                                                                                                                                                                                                                                                                                                                                                                                                                                                                                                                                                                  \n",
       "1  \\n \\n \\n \\n \\n <B>PREOPERATIVE DIAGNOSIS: </B> Ganglion of the left wrist.\\n \\n <B>POSTOPERATIVE DIAGNOSIS: </B> Ganglion of the left wrist.\\n \\n <B>OPERATION: </B> Excision of ganglion.\\n \\n <B>ANESTHESIA: </B> General.\\n \\n <B>ESTIMATED BLOOD LOSS: </B> Less than 5 mL.\\n \\n <B>OPERATION: </B> After a successful anesthetic, the patient was positioned on the operating table.  A tourniquet applied to the upper arm.  The extremity was prepped in a usual manner for a surgical procedure and draped off.  The superficial vessels were exsanguinated with an elastic wrap and the tourniquet was then inflated to the usual arm pressure.  A curved incision was made over the presenting ganglion over the dorsal aspect of the wrist.  By blunt and sharp dissection, it was dissected out from underneath the extensor tendons and the stalk appeared to arise from the distal radiocapitellar joint and the dorsal capsule was excised along with the ganglion and the specimen was removed and submitted.  The small superficial vessels were electrocoagulated and instilled after closing the skin with 4-0 Prolene, into the area was approximately 6 to 7 mL of 0.25 Marcaine with epinephrine.  A Jackson-Pratt drain was inserted and then after the tourniquet was released, it was kept deflated until at least 5 to 10 minutes had passed and then it was activated and then removed in the recovery room.  The dressings applied to the hand were that of Xeroform, 4x4s, ABD, Kerlix, and elastic wrap over a volar fiberglass splint.  The tourniquet was released.  Circulation returned to the fingers.  The patient then was allowed to awaken and left the operating room in good condition.\\n \\n \\n \\n \\n \\n \\n \\n                                                                                                                                                                                                                                                                                                                                                                                                                                                                                                                                                                                                                                                                                                                                                                                                                                                                                                                                                                                                                                                                                                                                                                                                                                                                                                                                                                                                                                                                                                                                                                                                                                                                                                                                                                                                                                                                                                                                                                                                                                                                                                                                                                                                                                                                                                                                                                                                                                                                                                                                                                                                                                                                                                                                                                                                                                                                                                                                                                                                                                                                                                                                                                                                                                                                                                                                                                                                                                                                                                                                                                                                                                                                                                                                                                                                                                                                                                                                                                                                                                                                                                                                                                                                                                                                                                                                                                                                                                                                                                                                                                                                                                                                                                                                                                                                                                                                                                                                                                                                                                                                                                                                                                                                                                                                                                                                                                                                                                                                                          \n",
       "2  \\n \\n \\n \\n \\n <B>PREOPERATIVE DIAGNOSIS: </B> Cervical myelopathy, C3-4, secondary to stenosis from herniated nucleus pulposus, C3-4.\\n \\n <B>POSTOPERATIVE DIAGNOSES: </B> Cervical myelopathy, C3-4, secondary to stenosis from herniated nucleus pulposus, C3-4.\\n \\n <B>OPERATIVE PROCEDURES</B>\\n 1.  Anterior cervical discectomy with decompression, C3-4.\\n 2.  Arthrodesis with anterior interbody fusion, C3-4.\\n 3.  Spinal instrumentation using Pioneer 18-mm plate and four 14 x 4.3 mm screws (all titanium).\\n 4.  Implant using PEEK 7 mm.\\n 5.  Allograft using Vitoss.\\n \\n <B>DRAINS: </B> Round French 10 JP drain.\\n \\n <B>FLUIDS: </B> 1800 mL of crystalloids.\\n \\n <B>URINE OUTPUT:  </B>1000 mL.\\n \\n <B>SPECIMENS: </B> None.\\n \\n <B>COMPLICATIONS:  </B>None.\\n \\n <B>ANESTHESIA: </B> General endotracheal anesthesia.\\n \\n <B>ESTIMATED BLOOD LOSS:  </B>Less than 100 mL.\\n \\n <B>CONDITION:  </B>To postanesthesia care unit extubated with stable vital signs.\\n \\n <B>INDICATIONS FOR THE OPERATION:  </B>This is a case of a very pleasant 32-year-old Caucasian male who had been experiencing posterior neck discomfort and was shooting basketball last week, during which time he felt a pop.  Since then, the patient started complaining of acute right arm and right leg weakness, which had been progressively worsening.  About two days ago, he started noticing weakness on the left arm.  The patient also noted shuffling gait.  The patient presented to a family physician and was referred to Dr. X for further evaluation.  Dr. X could not attempt to this, so he called me at the office and the patient was sent to the emergency room, where an MRI of the brain was essentially unremarkable as well as MRI of the thoracic spine.  MRI of the cervical spine, however, revealed an acute disk herniation at C3-C4 with evidence of stenosis and cord changes.  Based on these findings, I recommended decompression.  The patient was started on Decadron at 10 mg IV q.6h.  Operation, expected outcome, risks, and benefits were discussed with him.  Risks to include but not exclusive of bleeding and infection.  Bleeding can be superficial, but can compromise airway, for which he has been told that he may be brought emergently back to the operating room for evacuation of said hematoma.  The hematoma could also be an epidural hematoma, which may compress the spinal cord and result in weakness of all four extremities, numbness of all four extremities, and impairment of bowel and bladder function.  Should this happen, he needs to be brought emergently back to the operating room for evacuation of said hematoma.  There is also the risk by removing the hematoma that he can deteriorate as far as neurological condition, but this hopefully with the steroid prep will be prevented or if present will only be transient.  There is also the possibility of infection, which can be superficial and treated with IV and p.o. antibiotics.  However, should the infection be extensive or be deep, he may require return to the operating room for debridement and irrigation.  This may pose a medical problem since in the presence of infection, the graft as well as spinal instrumentation may have to be removed.  There is also the possibility of dural tear with its attendant complaints of headache, nausea, vomiting, photophobia, as well as the development of pseudomeningocele.  This too can compromise airway and may require return to the operating room for repair of the dural tear.  There is also potential risk of injury to the esophagus, the trachea, as well as the carotid.  The patient can also have a stroke on the right cerebral circulation should the plaque be propelled into the right circulation.  The patient understood all these risks together with the risk associated with anesthesia and agreed to have the procedure performed.\\n \\n <B>DESCRIPTION OF PROCEDURE:  </B>The patient was brought to the operating room, awake, alert and not in any form of distress.  After smooth induction and intubation, a Foley catheter was inserted.  No monitoring leads were placed.  The patient was then positioned supine on the operating table with the head supported on a foam doughnut and the neck placed on hyperextension with a shoulder roll under both shoulders.  Localizing x-ray verified the marker to be right at the C3-4 interspace.  Proceeded to mark an incision along the anterior border of the sternocleidomastoid with the central point at the area of the marker measuring about 3 cm in length.  The area was then prepped with DuraPrep.\\n \\n After sterile drapes were laid out, an incision was made using a scalpel blade #10.  Wound edge bleeders were controlled with bipolar coagulation and a hot knife was utilized to cut the platysma in a similar fashion.  The anterior border of the sternocleidomastoid was identified and dissection was carried superior to and lateral to the esophagus and trachea, but medial to the carotid sheath.  The prevertebral fascia was identified.  Localizing x-ray verified another marker to be at the C3-4 interspace.  Proceeded to strip the longus colli muscles off the vertebral body of C3 and C4 and a self-retaining retractor was then laid out.  There was some degree of anterior osteophyte and this was carefully drilled down with a Midas 5-mm bur.  The disk was then cut through the annulus and removal of the disk was done with the use of the Midas 5-mm bur and later a 3-mm bur.  The inferior endplate of C3 and the superior endplate of C4 were likewise drilled out together with posterior inferior osteophyte at the C3 and the posterior superior osteophyte at C4.  There was note of a central disk herniation centrally, but more marked displacement of the cord on the left side.  By careful dissection of this disk, posterior longitudinal ligament was removed and pressure on the cord was removed.  Hemostasis of the epidural bleeders was done with a combination of bipolar coagulation, but we needed to put a small piece of Gelfoam on the patient's left because of profuse venous bleeder.  With this completed, the Valsalva maneuver showed no evidence of any CSF leakage.  A 7-mm implant with its interior packed with Vitoss was then tapped into place.  An 18-mm plate was then screwed down with four 14 x 4.0 mm screws.  The area was irrigated with saline, with bacitracin solution.  Postoperative x-ray showed excellent placement of the graft and spinal instrumentation.  A round French 10 JP drain was laid over the construct and exteriorized though a separate stab incision on the patient's right inferiorly.  The wound was then closed in layers with Vicryl 3-0 inverted interrupted sutures for the platysma, Vicryl 4-0 subcuticular stitch for the dermis and Dermabond.  The catheter was anchored to the skin with a nylon 3-0 stitch.  Dressing was placed only on the exit site of the drain.  C-collar was placed, and the patient was transferred to the recovery awake and moving all four extremities.\\n \\n \\n \\n \\n \\n \\n \\n   \n",
       "3  \\n \\n \\n \\n \\n <B>EXAM:</B>MRI LEFT SHOULDER\\n \\n <B>CLINICAL:</B>This is a 69-year-old male with pain in the shoulder. Evaluate for rotator cuff tear.\\n \\n <B>FINDINGS:</B>\\n \\n Examination was performed on 9/1/05.\\n \\n There is marked supraspinatus tendinosis and extensive tearing of the substance of the tendon and articular surface, extending into the myotendinous junction as well. There is still a small rim of tendon along the bursal surface, although there may be a small tear at the level of the rotator interval. There is no retracted tendon or muscular atrophy (series #6 images #6-17).\\n \\n Normal infraspinatus tendon.\\n \\n There is subscapularis tendinosis with fraying and partial tearing of the superior most fibers extending to the level of the rotator interval (series #9 images #8-13; series #3 images #8-14). There is no complete tear, gap or fiber retraction and there is no muscular atrophy.\\n \\n There is tendinosis and superficial tearing of the long biceps tendon within the bicipital groove, and there is high grade (near complete) partial tearing of the intracapsular portion of the tendon. The biceps anchor is intact. There are degenerative changes in the greater tuberosity of the humerus but there is no fracture or subluxation.\\n \\n There is degeneration of the superior labrum and there is a small nondisplaced tear in the posterior superior labrum at the one to two o’clock position (series #6 images #12-14; series #3 images #8-10; series #9 images #5-8). There is a small sublabral foramen at the eleven o’clock position (series #9 image #6). There is no osseous Bankart lesion.\\n \\n Normal superior, middle and inferior glenohumeral ligaments.\\n \\n There is hypertrophic osteoarthropathy of the acromioclavicular joint with narrowing of the subacromial space and flattening of the superior surface of the supraspinatus musculotendinous junction, which in the appropriate clinical setting is an MRI manifestation of an impinging lesion (series #8 images #3-12).\\n \\n Normal coracoacromial, coracohumeral and coracoclavicular ligaments. There is minimal fluid within the glenohumeral joint. There is no atrophy of the deltoid muscle.\\n \\n <B>IMPRESSION:</B>  There is extensive supraspinatus tendinosis and partial tearing as described. There is no retracted tendon or muscular atrophy, but there may be a small tear along the anterior edge of the tendon at the level of the rotator interval, and this associated partial tearing of the superior most fibers of the subscapularis tendon.  There is also a high-grade partial tear of the long biceps tendon as it courses under the transverse humeral ligament. There is no evidence of a complete tear or retracted tendon. Small nondisplaced posterior superior labral tear. Outlet narrowing from the acromioclavicular joint, which in the appropriate clinical setting is an MRI manifestation of an impinging lesion.\\n \\n \\n \\n \\n \\n \\n \\n                                                                                                                                                                                                                                                                                                                                                                                                                                                                                                                                                                                                                                                                                                                                                                                                                                                                                                                                                                                                                                                                                                                                                                                                                                                                                                                                                                                                                                                                                                                                                                                                                                                                                                                                                                                                                                                                                                                                                                                                                                                                                                                                                                                                                                                                                                                                                                                                                                                                                                                                                                                                                                                                                                                                                                                                                                                                                                                                                                                                                                                                                                                                                                                                                                                                                                                                                                                                                                                                                                                                                                                                                                                                                                                                                                                                                                                                                                                                                                                                                                                                                                                                                                                                            \n",
       "4  \\n \\n \\n \\n \\n <B>HISTORY OF PRESENT ILLNESS: </B> The patient is a 57-year-old female being seen today for evaluation of pain and symptoms related to a recurrent bunion deformity in bilateral feet, right greater than left.  The patient states she is having increasing symptoms of pain and discomfort associated with recurrence of bunion deformity on the right foot and pain localized to the second toe and MTP joint of the right foot as well.  The patient had prior surgery performed approximately 13 years ago.  She states that since the time of the original surgery the deformity has slowly recurred, and she has noticed progressive deformity in the lesser toes at the second and third toes of the left foot and involving the second toe of the right foot.  The patient is employed on her feet as a hospital employee and states that she does wear a functional orthotic which does provide some relief of forefoot pain although not complete.\\n \\n <B>PAST MEDICAL HISTORY, FAMILY HISTORY, SOCIAL HISTORY & REVIEW OF SYSTEMS:</B>  See Patient History sheet, which was reviewed with the patient and is signed in the chart.  Past medical history on the patient, past surgical history, current medications, drug-related allergies and social history have all been updated and reviewed, and enclosed in the chart.\\n \\n <B>PHYSICAL EXAMINATION: </B> Physical exam reveals a pleasant, 57-year-old female who is 5 feet 4 inches and 150 pounds.  She has palpable pulses.  Neurologic sensation is intact.  Examination of the extremities shows the patient as having well-healed surgical sites from her arthroplasty, second digits bilaterally and prior bunionectomy.  There is a recurrence of bunion deformity noted on both great toes although the patient notes to have reasonably good range of movement.  She has particular pain in the second MTP joint of the right foot and demonstrates a mild claw-toe deformity of the second and third toes to the left foot, and to a lesser degree the second toe to the right.  Gait analysis:  The patient stands and walks with a rather severe pes planus and has generalized hypermobility noted in the feet.\\n \\n <B>X-RAY INTERPRETATION:</B>  X-rays taken today; three views to the right foot shows presence of internal K-wire and wire from prior bunionectomy.  Biomechanical analysis shows 15 degree intermetatarsal angle and approximately 45 degree hallux abducto valgus angle.  No evidence of arthrosis in the joint is noted.  Significant shift to the fibular sesamoid is present.\\n \\n <B>ASSESSMENT:</B>\\n 1.  Recurrent bunion deformity, right forefoot.\\n 2.  Pes planovalgus deformity, bilateral feet.\\n \\n <B>PLAN/TREATMENT:</B>\\n 1.  Today, we did review remaining treatment options with the patient including the feasibility of conservative versus surgical treatment.  The patient would require an open wedge osteotomy to reduce the intermetatarsal angle with the lateral release and a decompression osteotomy  at the second metatarsal.  Anticipated length of healing was noted for the patient as were potential risks and complications.  The patient ultimately would probably require surgery on her left foot at a later date as well.\\n 2.  The patient will explore her ability to get out of work for the above-mentioned period of time and will be in touch with regards regarding scheduling at a later date.\\n 3.  All questions were answered.\\n \\n \\n \\n \\n \\n \\n \\n                                                                                                                                                                                                                                                                                                                                                                                                                                                                                                                                                                                                                                                                                                                                                                                                                                                                                                                                                                                                                                                                                                                                                                                                                                                                                                                                                                                                                                                                                                                                                                                                                                                                                                                                                                                                                                                                                                                                                                                                                                                                                                                                                                                                                                                                                                                                                                                                                                                                                                                                                                                                                                                                                                                                                                                                                                                                                                                                                                                                                                                                                                                                                                                                                                                                                                                                                                                                                                                                                                                                                                                                                                                                                                              \n",
       "\n",
       "        label  \n",
       "0  Neurology   \n",
       "1  Orthopedic  \n",
       "2  Orthopedic  \n",
       "3  Radiology   \n",
       "4  Orthopedic  "
      ]
     },
     "execution_count": 7,
     "metadata": {},
     "output_type": "execute_result"
    }
   ],
   "source": [
    "data.head(5)"
   ]
  },
  {
   "cell_type": "markdown",
   "metadata": {},
   "source": [
    "<a id='regex'></a>\n",
    "\n",
    "### Basic data cleaning\n",
    "\n",
    "Natural language in its pure form can bring lot of noise. We need to clean the data in order to use any statistical/machine learning model. Below are the few techniques for cleaning the text data.\n",
    "\n",
    "* Using RegEx (regular expressions) to identify the irrelevant text sections for removal\n",
    "* Standardizing/normalizing texts like - abbreviations, spelling mistakes\n",
    "* For social media data - remove smileys, email ids if these information are not relevant for downstream analysis\n"
   ]
  },
  {
   "cell_type": "code",
   "execution_count": 8,
   "metadata": {},
   "outputs": [
    {
     "name": "stdout",
     "output_type": "stream",
     "text": [
      "\n",
      " \n",
      " \n",
      " \n",
      " \n",
      " <B>PREOPERATIVE DIAGNOSIS: </B> Ganglion of the left wrist.\n",
      " \n",
      " <B>POSTOPERATIVE DIAGNOSIS: </B> Ganglion of the left wrist.\n",
      " \n",
      " <B>OPERATION: </B> Excision of ganglion.\n",
      " \n",
      " <B>ANESTHESIA: </B> General.\n",
      " \n",
      " <B>ESTIMATED BLOOD LOSS: </B> Less than 5 mL.\n",
      " \n",
      " <B>OPERATION: </B> After a successful anesthetic, the patient was positioned on the operating table.  A tourniquet applied to the upper arm.  The extremity was prepped in a usual manner for a surgical procedure and draped off.  The superficial vessels were exsanguinated with an elastic wrap and the tourniquet was then inflated to the usual arm pressure.  A curved incision was made over the presenting ganglion over the dorsal aspect of the wrist.  By blunt and sharp dissection, it was dissected out from underneath the extensor tendons and the stalk appeared to arise from the distal radiocapitellar joint and the dorsal capsule was excised along with the ganglion and the specimen was removed and submitted.  The small superficial vessels were electrocoagulated and instilled after closing the skin with 4-0 Prolene, into the area was approximately 6 to 7 mL of 0.25 Marcaine with epinephrine.  A Jackson-Pratt drain was inserted and then after the tourniquet was released, it was kept deflated until at least 5 to 10 minutes had passed and then it was activated and then removed in the recovery room.  The dressings applied to the hand were that of Xeroform, 4x4s, ABD, Kerlix, and elastic wrap over a volar fiberglass splint.  The tourniquet was released.  Circulation returned to the fingers.  The patient then was allowed to awaken and left the operating room in good condition.\n",
      " \n",
      " \n",
      " \n",
      " \n",
      " \n",
      " \n",
      " \n",
      "\n"
     ]
    }
   ],
   "source": [
    "sample_text = data.text.iloc[1]\n",
    "print (sample_text)"
   ]
  },
  {
   "cell_type": "code",
   "execution_count": 9,
   "metadata": {},
   "outputs": [],
   "source": [
    "import re"
   ]
  },
  {
   "cell_type": "markdown",
   "metadata": {},
   "source": [
    "We remove all the special characters like - \"\\n\", HTML tags from the texts"
   ]
  },
  {
   "cell_type": "code",
   "execution_count": 10,
   "metadata": {},
   "outputs": [],
   "source": [
    "def remove_html(text):\n",
    "    text = text.replace(\"\\n\",\" \")\n",
    "    pattern = re.compile('<.*?>') #all the HTML tags\n",
    "    return pattern.sub(r'', text)"
   ]
  },
  {
   "cell_type": "code",
   "execution_count": 11,
   "metadata": {},
   "outputs": [
    {
     "name": "stdout",
     "output_type": "stream",
     "text": [
      "          PREOPERATIVE DIAGNOSIS:  Ganglion of the left wrist.    POSTOPERATIVE DIAGNOSIS:  Ganglion of the left wrist.    OPERATION:  Excision of ganglion.    ANESTHESIA:  General.    ESTIMATED BLOOD LOSS:  Less than 5 mL.    OPERATION:  After a successful anesthetic, the patient was positioned on the operating table.  A tourniquet applied to the upper arm.  The extremity was prepped in a usual manner for a surgical procedure and draped off.  The superficial vessels were exsanguinated with an elastic wrap and the tourniquet was then inflated to the usual arm pressure.  A curved incision was made over the presenting ganglion over the dorsal aspect of the wrist.  By blunt and sharp dissection, it was dissected out from underneath the extensor tendons and the stalk appeared to arise from the distal radiocapitellar joint and the dorsal capsule was excised along with the ganglion and the specimen was removed and submitted.  The small superficial vessels were electrocoagulated and instilled after closing the skin with 4-0 Prolene, into the area was approximately 6 to 7 mL of 0.25 Marcaine with epinephrine.  A Jackson-Pratt drain was inserted and then after the tourniquet was released, it was kept deflated until at least 5 to 10 minutes had passed and then it was activated and then removed in the recovery room.  The dressings applied to the hand were that of Xeroform, 4x4s, ABD, Kerlix, and elastic wrap over a volar fiberglass splint.  The tourniquet was released.  Circulation returned to the fingers.  The patient then was allowed to awaken and left the operating room in good condition.               \n"
     ]
    }
   ],
   "source": [
    "sample_text_processed = remove_html(sample_text)\n",
    "print (sample_text_processed)"
   ]
  },
  {
   "cell_type": "markdown",
   "metadata": {},
   "source": [
    "Remove all the headings from text"
   ]
  },
  {
   "cell_type": "code",
   "execution_count": 12,
   "metadata": {},
   "outputs": [],
   "source": [
    "def remove_headings(text):\n",
    "    pattern = re.compile('\\w+:')\n",
    "    return pattern.sub(r'', text)"
   ]
  },
  {
   "cell_type": "code",
   "execution_count": 13,
   "metadata": {},
   "outputs": [
    {
     "name": "stdout",
     "output_type": "stream",
     "text": [
      "          PREOPERATIVE   Ganglion of the left wrist.    POSTOPERATIVE   Ganglion of the left wrist.      Excision of ganglion.      General.    ESTIMATED BLOOD   Less than 5 mL.      After a successful anesthetic, the patient was positioned on the operating table.  A tourniquet applied to the upper arm.  The extremity was prepped in a usual manner for a surgical procedure and draped off.  The superficial vessels were exsanguinated with an elastic wrap and the tourniquet was then inflated to the usual arm pressure.  A curved incision was made over the presenting ganglion over the dorsal aspect of the wrist.  By blunt and sharp dissection, it was dissected out from underneath the extensor tendons and the stalk appeared to arise from the distal radiocapitellar joint and the dorsal capsule was excised along with the ganglion and the specimen was removed and submitted.  The small superficial vessels were electrocoagulated and instilled after closing the skin with 4-0 Prolene, into the area was approximately 6 to 7 mL of 0.25 Marcaine with epinephrine.  A Jackson-Pratt drain was inserted and then after the tourniquet was released, it was kept deflated until at least 5 to 10 minutes had passed and then it was activated and then removed in the recovery room.  The dressings applied to the hand were that of Xeroform, 4x4s, ABD, Kerlix, and elastic wrap over a volar fiberglass splint.  The tourniquet was released.  Circulation returned to the fingers.  The patient then was allowed to awaken and left the operating room in good condition.               \n"
     ]
    }
   ],
   "source": [
    "sample_text_processed = remove_headings(sample_text_processed)\n",
    "print (sample_text_processed)"
   ]
  },
  {
   "cell_type": "markdown",
   "metadata": {},
   "source": [
    "Remove &quot marks and other characters. Replace multiple spaces with single space"
   ]
  },
  {
   "cell_type": "code",
   "execution_count": 14,
   "metadata": {},
   "outputs": [],
   "source": [
    "def replace_mult_spaces(text):\n",
    "    text = text.replace(\"&quot\",\"\")\n",
    "    pattern = re.compile(' +')\n",
    "    text = pattern.sub(r' ', text)\n",
    "    text = text.strip()\n",
    "    return text"
   ]
  },
  {
   "cell_type": "code",
   "execution_count": 15,
   "metadata": {},
   "outputs": [
    {
     "name": "stdout",
     "output_type": "stream",
     "text": [
      "PREOPERATIVE Ganglion of the left wrist. POSTOPERATIVE Ganglion of the left wrist. Excision of ganglion. General. ESTIMATED BLOOD Less than 5 mL. After a successful anesthetic, the patient was positioned on the operating table. A tourniquet applied to the upper arm. The extremity was prepped in a usual manner for a surgical procedure and draped off. The superficial vessels were exsanguinated with an elastic wrap and the tourniquet was then inflated to the usual arm pressure. A curved incision was made over the presenting ganglion over the dorsal aspect of the wrist. By blunt and sharp dissection, it was dissected out from underneath the extensor tendons and the stalk appeared to arise from the distal radiocapitellar joint and the dorsal capsule was excised along with the ganglion and the specimen was removed and submitted. The small superficial vessels were electrocoagulated and instilled after closing the skin with 4-0 Prolene, into the area was approximately 6 to 7 mL of 0.25 Marcaine with epinephrine. A Jackson-Pratt drain was inserted and then after the tourniquet was released, it was kept deflated until at least 5 to 10 minutes had passed and then it was activated and then removed in the recovery room. The dressings applied to the hand were that of Xeroform, 4x4s, ABD, Kerlix, and elastic wrap over a volar fiberglass splint. The tourniquet was released. Circulation returned to the fingers. The patient then was allowed to awaken and left the operating room in good condition.\n"
     ]
    }
   ],
   "source": [
    "sample_text_processed = replace_mult_spaces(sample_text_processed)\n",
    "print (sample_text_processed)"
   ]
  },
  {
   "cell_type": "markdown",
   "metadata": {},
   "source": [
    "remove multiple consecutive spaces and replace with single space"
   ]
  },
  {
   "cell_type": "code",
   "execution_count": 16,
   "metadata": {},
   "outputs": [],
   "source": [
    "def replace_other_chars(text):\n",
    "    pattern = re.compile(r'[()!@&;]')\n",
    "    text = pattern.sub(r'', text)\n",
    "    return text"
   ]
  },
  {
   "cell_type": "code",
   "execution_count": 17,
   "metadata": {},
   "outputs": [
    {
     "name": "stdout",
     "output_type": "stream",
     "text": [
      "PREOPERATIVE Ganglion of the left wrist. POSTOPERATIVE Ganglion of the left wrist. Excision of ganglion. General. ESTIMATED BLOOD Less than 5 mL. After a successful anesthetic, the patient was positioned on the operating table. A tourniquet applied to the upper arm. The extremity was prepped in a usual manner for a surgical procedure and draped off. The superficial vessels were exsanguinated with an elastic wrap and the tourniquet was then inflated to the usual arm pressure. A curved incision was made over the presenting ganglion over the dorsal aspect of the wrist. By blunt and sharp dissection, it was dissected out from underneath the extensor tendons and the stalk appeared to arise from the distal radiocapitellar joint and the dorsal capsule was excised along with the ganglion and the specimen was removed and submitted. The small superficial vessels were electrocoagulated and instilled after closing the skin with 4-0 Prolene, into the area was approximately 6 to 7 mL of 0.25 Marcaine with epinephrine. A Jackson-Pratt drain was inserted and then after the tourniquet was released, it was kept deflated until at least 5 to 10 minutes had passed and then it was activated and then removed in the recovery room. The dressings applied to the hand were that of Xeroform, 4x4s, ABD, Kerlix, and elastic wrap over a volar fiberglass splint. The tourniquet was released. Circulation returned to the fingers. The patient then was allowed to awaken and left the operating room in good condition.\n"
     ]
    }
   ],
   "source": [
    "sample_text_processed = replace_other_chars(sample_text_processed)\n",
    "print (sample_text_processed)"
   ]
  },
  {
   "cell_type": "markdown",
   "metadata": {},
   "source": [
    "Putting everything together in a function and apply the cleaning on all the texts. Further, convert everything into lower case."
   ]
  },
  {
   "cell_type": "code",
   "execution_count": 18,
   "metadata": {},
   "outputs": [],
   "source": [
    "def clean_text(text):\n",
    "    text = remove_html(text)\n",
    "    text = remove_headings(text)\n",
    "    text = replace_mult_spaces(text)\n",
    "    text = replace_other_chars(text)\n",
    "    text = text.lower()\n",
    "    return text"
   ]
  },
  {
   "cell_type": "code",
   "execution_count": 19,
   "metadata": {},
   "outputs": [],
   "source": [
    "data['clean_text'] = data.text.apply(clean_text)"
   ]
  },
  {
   "cell_type": "markdown",
   "metadata": {},
   "source": [
    "<a id='eda'></a>\n",
    "\n",
    "### Basic descriptive analysis on the texts"
   ]
  },
  {
   "cell_type": "code",
   "execution_count": 20,
   "metadata": {},
   "outputs": [
    {
     "data": {
      "image/png": "[encoded data removed]",
      "text/plain": [
       "<Figure size 432x288 with 1 Axes>"
      ]
     },
     "metadata": {},
     "output_type": "display_data"
    }
   ],
   "source": [
    "import matplotlib.pyplot as plt\n",
    "\n",
    "data.clean_text.apply(len).plot.hist()\n",
    "data.text.apply(len).plot.hist()\n",
    "plt.title(\"Distribution of total number of characters in the clinical notes\")\n",
    "plt.legend([\"before cleaning\",\"after cleaning\"])\n",
    "plt.show()"
   ]
  },
  {
   "cell_type": "code",
   "execution_count": 21,
   "metadata": {},
   "outputs": [
    {
     "data": {
      "image/png": "[encoded data removed]",
      "text/plain": [
       "<Figure size 432x288 with 1 Axes>"
      ]
     },
     "metadata": {},
     "output_type": "display_data"
    }
   ],
   "source": [
    "data.clean_text.apply(lambda x: len(x.split())).plot.hist()\n",
    "data.text.apply(lambda x: len(x.split())).plot.hist()\n",
    "plt.title(\"Distribution of total number of words in the clinical notes\")\n",
    "plt.legend([\"before cleaning\",\"after cleaning\"])\n",
    "plt.show()"
   ]
  },
  {
   "cell_type": "markdown",
   "metadata": {},
   "source": [
    "<a id='stemming'></a>\n",
    "\n",
    "### Stemming and Lemmatization\n",
    "\n",
    "Stemming changes word into its root stem. \n",
    "\n",
    "<img src = https://miro.medium.com/max/359/1*l65c30sY9fQsWPKIckqmCQ.png>\n",
    "\n",
    "However, the root stem may not be lexicographically a correct word. Lemmatization on the other hand standardizes a word into its root word. Lemmatization deals with higher level of abstraction.\n",
    "\n",
    "<img src = https://devopedia.org/images/article/227/6785.1570815200.png>\n"
   ]
  },
  {
   "cell_type": "code",
   "execution_count": 22,
   "metadata": {},
   "outputs": [
    {
     "name": "stdout",
     "output_type": "stream",
     "text": [
      "preoperative ganglion of the left wrist. postoperative ganglion of the left wrist. excision of ganglion. general. estimated blood less than 5 ml. after a successful anesthetic, the patient was positioned on the operating table. a tourniquet applied to the upper arm. the extremity was prepped in a usual manner for a surgical procedure and draped off. the superficial vessels were exsanguinated with an elastic wrap and the tourniquet was then inflated to the usual arm pressure. a curved incision was made over the presenting ganglion over the dorsal aspect of the wrist. by blunt and sharp dissection, it was dissected out from underneath the extensor tendons and the stalk appeared to arise from the distal radiocapitellar joint and the dorsal capsule was excised along with the ganglion and the specimen was removed and submitted. the small superficial vessels were electrocoagulated and instilled after closing the skin with 4-0 prolene, into the area was approximately 6 to 7 ml of 0.25 marcaine with epinephrine. a jackson-pratt drain was inserted and then after the tourniquet was released, it was kept deflated until at least 5 to 10 minutes had passed and then it was activated and then removed in the recovery room. the dressings applied to the hand were that of xeroform, 4x4s, abd, kerlix, and elastic wrap over a volar fiberglass splint. the tourniquet was released. circulation returned to the fingers. the patient then was allowed to awaken and left the operating room in good condition.\n"
     ]
    }
   ],
   "source": [
    "sample_text = data.clean_text.iloc[1]\n",
    "print (sample_text)"
   ]
  },
  {
   "cell_type": "code",
   "execution_count": 23,
   "metadata": {},
   "outputs": [],
   "source": [
    "import nltk\n",
    "\n",
    "def simple_stemmer(text):\n",
    "    ps = nltk.stem.SnowballStemmer('english')\n",
    "    text = ' '.join([ps.stem(word) for word in text.split()])\n",
    "    return text"
   ]
  },
  {
   "cell_type": "code",
   "execution_count": 36,
   "metadata": {},
   "outputs": [
    {
     "data": {
      "text/plain": [
       "'meet'"
      ]
     },
     "execution_count": 36,
     "metadata": {},
     "output_type": "execute_result"
    }
   ],
   "source": [
    "simple_stemmer(\"meeting\")"
   ]
  },
  {
   "cell_type": "code",
   "execution_count": 24,
   "metadata": {},
   "outputs": [
    {
     "name": "stdout",
     "output_type": "stream",
     "text": [
      "preoper ganglion of the left wrist. postop ganglion of the left wrist. excis of ganglion. general. estim blood less than 5 ml. after a success anesthetic, the patient was posit on the oper table. a tourniquet appli to the upper arm. the extrem was prep in a usual manner for a surgic procedur and drape off. the superfici vessel were exsanguin with an elast wrap and the tourniquet was then inflat to the usual arm pressure. a curv incis was made over the present ganglion over the dorsal aspect of the wrist. by blunt and sharp dissection, it was dissect out from underneath the extensor tendon and the stalk appear to aris from the distal radiocapitellar joint and the dorsal capsul was excis along with the ganglion and the specimen was remov and submitted. the small superfici vessel were electrocoagul and instil after close the skin with 4-0 prolene, into the area was approxim 6 to 7 ml of 0.25 marcain with epinephrine. a jackson-pratt drain was insert and then after the tourniquet was released, it was kept deflat until at least 5 to 10 minut had pass and then it was activ and then remov in the recoveri room. the dress appli to the hand were that of xeroform, 4x4s, abd, kerlix, and elast wrap over a volar fiberglass splint. the tourniquet was released. circul return to the fingers. the patient then was allow to awaken and left the oper room in good condition.\n"
     ]
    }
   ],
   "source": [
    "stemmed_text = simple_stemmer(sample_text)\n",
    "print (stemmed_text)"
   ]
  },
  {
   "cell_type": "code",
   "execution_count": 25,
   "metadata": {},
   "outputs": [],
   "source": [
    "import spacy\n",
    "import en_core_med7_lg #en_core_web_sm\n",
    "\n",
    "nlp = spacy.load('en_core_med7_lg', parse=True, tag=True, entity=True)\n",
    "\n",
    "def simple_lemmatizer(text):\n",
    "    text = nlp(text)\n",
    "    text = ' '.join([word.lemma_ if word.lemma_ != '-PRON-' else word.text for word in text])\n",
    "    return text"
   ]
  },
  {
   "cell_type": "code",
   "execution_count": 26,
   "metadata": {},
   "outputs": [
    {
     "name": "stdout",
     "output_type": "stream",
     "text": [
      "preoperative ganglion of the left wrist . postoperative ganglion of the left wrist . excision of ganglion . general . estimate blood less than 5 ml . after a successful anesthetic , the patient be position on the operating table . a tourniquet apply to the upper arm . the extremity be preppe in a usual manner for a surgical procedure and drape off . the superficial vessel be exsanguinate with an elastic wrap and the tourniquet be then inflate to the usual arm pressure . a curved incision be make over the present ganglion over the dorsal aspect of the wrist . by blunt and sharp dissection , it be dissect out from underneath the extensor tendon and the stalk appear to arise from the distal radiocapitellar joint and the dorsal capsule be excise along with the ganglion and the specimen be remove and submit . the small superficial vessel be electrocoagulate and instill after close the skin with 4 - 0 prolene , into the area be approximately 6 to 7 ml of 0.25 marcaine with epinephrine . a jackson - pratt drain be insert and then after the tourniquet be release , it be keep deflate until at least 5 to 10 minute have pass and then it be activate and then remove in the recovery room . the dressing apply to the hand be that of xeroform , 4x4s , abd , kerlix , and elastic wrap over a volar fiberglass splint . the tourniquet be release . circulation return to the finger . the patient then be allow to awaken and leave the operating room in good condition .\n"
     ]
    }
   ],
   "source": [
    "lemmatized_text = simple_lemmatizer(sample_text)\n",
    "print (lemmatized_text)"
   ]
  },
  {
   "cell_type": "markdown",
   "metadata": {},
   "source": [
    "<a id='tokenization'></a>\n",
    "\n",
    "### Tokenization\n",
    "\n",
    "Tokenization splits a text into tokens or, words. Typically, words are splitted based on blank spaces. But tokenizations can also split words joined by other characters."
   ]
  },
  {
   "cell_type": "code",
   "execution_count": 37,
   "metadata": {},
   "outputs": [
    {
     "data": {
      "text/plain": [
       "['preoperative',\n",
       " 'ganglion',\n",
       " 'of',\n",
       " 'the',\n",
       " 'left',\n",
       " 'wrist.',\n",
       " 'postoperative',\n",
       " 'ganglion',\n",
       " 'of',\n",
       " 'the',\n",
       " 'left',\n",
       " 'wrist.',\n",
       " 'excision',\n",
       " 'of',\n",
       " 'ganglion.',\n",
       " 'general.',\n",
       " 'estimated',\n",
       " 'blood',\n",
       " 'less',\n",
       " 'than',\n",
       " '5',\n",
       " 'ml.',\n",
       " 'after',\n",
       " 'a',\n",
       " 'successful',\n",
       " 'anesthetic,',\n",
       " 'the',\n",
       " 'patient',\n",
       " 'was',\n",
       " 'positioned',\n",
       " 'on',\n",
       " 'the',\n",
       " 'operating',\n",
       " 'table.',\n",
       " 'a',\n",
       " 'tourniquet',\n",
       " 'applied',\n",
       " 'to',\n",
       " 'the',\n",
       " 'upper',\n",
       " 'arm.',\n",
       " 'the',\n",
       " 'extremity',\n",
       " 'was',\n",
       " 'prepped',\n",
       " 'in',\n",
       " 'a',\n",
       " 'usual',\n",
       " 'manner',\n",
       " 'for',\n",
       " 'a',\n",
       " 'surgical',\n",
       " 'procedure',\n",
       " 'and',\n",
       " 'draped',\n",
       " 'off.',\n",
       " 'the',\n",
       " 'superficial',\n",
       " 'vessels',\n",
       " 'were',\n",
       " 'exsanguinated',\n",
       " 'with',\n",
       " 'an',\n",
       " 'elastic',\n",
       " 'wrap',\n",
       " 'and',\n",
       " 'the',\n",
       " 'tourniquet',\n",
       " 'was',\n",
       " 'then',\n",
       " 'inflated',\n",
       " 'to',\n",
       " 'the',\n",
       " 'usual',\n",
       " 'arm',\n",
       " 'pressure.',\n",
       " 'a',\n",
       " 'curved',\n",
       " 'incision',\n",
       " 'was',\n",
       " 'made',\n",
       " 'over',\n",
       " 'the',\n",
       " 'presenting',\n",
       " 'ganglion',\n",
       " 'over',\n",
       " 'the',\n",
       " 'dorsal',\n",
       " 'aspect',\n",
       " 'of',\n",
       " 'the',\n",
       " 'wrist.',\n",
       " 'by',\n",
       " 'blunt',\n",
       " 'and',\n",
       " 'sharp',\n",
       " 'dissection,',\n",
       " 'it',\n",
       " 'was',\n",
       " 'dissected',\n",
       " 'out',\n",
       " 'from',\n",
       " 'underneath',\n",
       " 'the',\n",
       " 'extensor',\n",
       " 'tendons',\n",
       " 'and',\n",
       " 'the',\n",
       " 'stalk',\n",
       " 'appeared',\n",
       " 'to',\n",
       " 'arise',\n",
       " 'from',\n",
       " 'the',\n",
       " 'distal',\n",
       " 'radiocapitellar',\n",
       " 'joint',\n",
       " 'and',\n",
       " 'the',\n",
       " 'dorsal',\n",
       " 'capsule',\n",
       " 'was',\n",
       " 'excised',\n",
       " 'along',\n",
       " 'with',\n",
       " 'the',\n",
       " 'ganglion',\n",
       " 'and',\n",
       " 'the',\n",
       " 'specimen',\n",
       " 'was',\n",
       " 'removed',\n",
       " 'and',\n",
       " 'submitted.',\n",
       " 'the',\n",
       " 'small',\n",
       " 'superficial',\n",
       " 'vessels',\n",
       " 'were',\n",
       " 'electrocoagulated',\n",
       " 'and',\n",
       " 'instilled',\n",
       " 'after',\n",
       " 'closing',\n",
       " 'the',\n",
       " 'skin',\n",
       " 'with',\n",
       " '4-0',\n",
       " 'prolene,',\n",
       " 'into',\n",
       " 'the',\n",
       " 'area',\n",
       " 'was',\n",
       " 'approximately',\n",
       " '6',\n",
       " 'to',\n",
       " '7',\n",
       " 'ml',\n",
       " 'of',\n",
       " '0.25',\n",
       " 'marcaine',\n",
       " 'with',\n",
       " 'epinephrine.',\n",
       " 'a',\n",
       " 'jackson-pratt',\n",
       " 'drain',\n",
       " 'was',\n",
       " 'inserted',\n",
       " 'and',\n",
       " 'then',\n",
       " 'after',\n",
       " 'the',\n",
       " 'tourniquet',\n",
       " 'was',\n",
       " 'released,',\n",
       " 'it',\n",
       " 'was',\n",
       " 'kept',\n",
       " 'deflated',\n",
       " 'until',\n",
       " 'at',\n",
       " 'least',\n",
       " '5',\n",
       " 'to',\n",
       " '10',\n",
       " 'minutes',\n",
       " 'had',\n",
       " 'passed',\n",
       " 'and',\n",
       " 'then',\n",
       " 'it',\n",
       " 'was',\n",
       " 'activated',\n",
       " 'and',\n",
       " 'then',\n",
       " 'removed',\n",
       " 'in',\n",
       " 'the',\n",
       " 'recovery',\n",
       " 'room.',\n",
       " 'the',\n",
       " 'dressings',\n",
       " 'applied',\n",
       " 'to',\n",
       " 'the',\n",
       " 'hand',\n",
       " 'were',\n",
       " 'that',\n",
       " 'of',\n",
       " 'xeroform,',\n",
       " '4x4s,',\n",
       " 'abd,',\n",
       " 'kerlix,',\n",
       " 'and',\n",
       " 'elastic',\n",
       " 'wrap',\n",
       " 'over',\n",
       " 'a',\n",
       " 'volar',\n",
       " 'fiberglass',\n",
       " 'splint.',\n",
       " 'the',\n",
       " 'tourniquet',\n",
       " 'was',\n",
       " 'released.',\n",
       " 'circulation',\n",
       " 'returned',\n",
       " 'to',\n",
       " 'the',\n",
       " 'fingers.',\n",
       " 'the',\n",
       " 'patient',\n",
       " 'then',\n",
       " 'was',\n",
       " 'allowed',\n",
       " 'to',\n",
       " 'awaken',\n",
       " 'and',\n",
       " 'left',\n",
       " 'the',\n",
       " 'operating',\n",
       " 'room',\n",
       " 'in',\n",
       " 'good',\n",
       " 'condition.']"
      ]
     },
     "execution_count": 37,
     "metadata": {},
     "output_type": "execute_result"
    }
   ],
   "source": [
    "sample_text.split()"
   ]
  },
  {
   "cell_type": "code",
   "execution_count": 27,
   "metadata": {},
   "outputs": [
    {
     "name": "stdout",
     "output_type": "stream",
     "text": [
      "preoperative ADJ\n",
      "ganglion NOUN\n",
      "of ADP\n",
      "the DET\n",
      "left ADJ\n",
      "wrist NOUN\n",
      ". PUNCT\n",
      "postoperative ADJ\n",
      "ganglion NOUN\n",
      "of ADP\n",
      "the DET\n",
      "left ADJ\n",
      "wrist NOUN\n",
      ". PUNCT\n",
      "excision NOUN\n",
      "of ADP\n",
      "ganglion NOUN\n",
      ". PUNCT\n",
      "general PROPN\n",
      ". PUNCT\n",
      "estimated VERB\n",
      "blood NOUN\n",
      "less ADJ\n",
      "than SCONJ\n",
      "5 NUM\n",
      "ml NOUN\n",
      ". PUNCT\n",
      "after ADP\n",
      "a DET\n",
      "successful ADJ\n",
      "anesthetic NOUN\n",
      ", PUNCT\n",
      "the DET\n",
      "patient NOUN\n",
      "was AUX\n",
      "positioned VERB\n",
      "on ADP\n",
      "the DET\n",
      "operating NOUN\n",
      "table NOUN\n",
      ". PUNCT\n",
      "a DET\n",
      "tourniquet NOUN\n",
      "applied VERB\n",
      "to ADP\n",
      "the DET\n",
      "upper ADJ\n",
      "arm NOUN\n",
      ". PUNCT\n",
      "the DET\n",
      "extremity NOUN\n",
      "was AUX\n",
      "prepped VERB\n",
      "in ADP\n",
      "a DET\n",
      "usual ADJ\n",
      "manner NOUN\n",
      "for ADP\n",
      "a DET\n",
      "surgical ADJ\n",
      "procedure NOUN\n",
      "and CCONJ\n",
      "draped VERB\n",
      "off ADP\n",
      ". PUNCT\n",
      "the DET\n",
      "superficial ADJ\n",
      "vessels NOUN\n",
      "were AUX\n",
      "exsanguinated VERB\n",
      "with ADP\n",
      "an DET\n",
      "elastic ADJ\n",
      "wrap NOUN\n",
      "and CCONJ\n",
      "the DET\n",
      "tourniquet NOUN\n",
      "was AUX\n",
      "then ADV\n",
      "inflated VERB\n",
      "to ADP\n",
      "the DET\n",
      "usual ADJ\n",
      "arm NOUN\n",
      "pressure NOUN\n",
      ". PUNCT\n",
      "a DET\n",
      "curved ADJ\n",
      "incision NOUN\n",
      "was AUX\n",
      "made VERB\n",
      "over ADP\n",
      "the DET\n",
      "presenting VERB\n",
      "ganglion NOUN\n",
      "over ADP\n",
      "the DET\n",
      "dorsal ADJ\n",
      "aspect NOUN\n",
      "of ADP\n",
      "the DET\n",
      "wrist NOUN\n",
      ". PUNCT\n",
      "by ADP\n",
      "blunt ADJ\n",
      "and CCONJ\n",
      "sharp ADJ\n",
      "dissection NOUN\n",
      ", PUNCT\n",
      "it PRON\n",
      "was AUX\n",
      "dissected VERB\n",
      "out ADP\n",
      "from ADP\n",
      "underneath ADP\n",
      "the DET\n",
      "extensor ADJ\n",
      "tendons NOUN\n",
      "and CCONJ\n",
      "the DET\n",
      "stalk NOUN\n",
      "appeared VERB\n",
      "to PART\n",
      "arise VERB\n",
      "from ADP\n",
      "the DET\n",
      "distal ADJ\n",
      "radiocapitellar PROPN\n",
      "joint NOUN\n",
      "and CCONJ\n",
      "the DET\n",
      "dorsal ADJ\n",
      "capsule NOUN\n",
      "was AUX\n",
      "excised VERB\n",
      "along ADP\n",
      "with ADP\n",
      "the DET\n",
      "ganglion NOUN\n",
      "and CCONJ\n",
      "the DET\n",
      "specimen NOUN\n",
      "was AUX\n",
      "removed VERB\n",
      "and CCONJ\n",
      "submitted VERB\n",
      ". PUNCT\n",
      "the DET\n",
      "small ADJ\n",
      "superficial ADJ\n",
      "vessels NOUN\n",
      "were AUX\n",
      "electrocoagulated VERB\n",
      "and CCONJ\n",
      "instilled VERB\n",
      "after ADP\n",
      "closing VERB\n",
      "the DET\n",
      "skin NOUN\n",
      "with ADP\n",
      "4 NUM\n",
      "- SYM\n",
      "0 NUM\n",
      "prolene NOUN\n",
      ", PUNCT\n",
      "into ADP\n",
      "the DET\n",
      "area NOUN\n",
      "was AUX\n",
      "approximately ADV\n",
      "6 NUM\n",
      "to PART\n",
      "7 NUM\n",
      "ml NUM\n",
      "of ADP\n",
      "0.25 NUM\n",
      "marcaine NOUN\n",
      "with ADP\n",
      "epinephrine NOUN\n",
      ". PUNCT\n",
      "a DET\n",
      "jackson PROPN\n",
      "- PUNCT\n",
      "pratt PROPN\n",
      "drain NOUN\n",
      "was AUX\n",
      "inserted VERB\n",
      "and CCONJ\n",
      "then ADV\n",
      "after ADP\n",
      "the DET\n",
      "tourniquet NOUN\n",
      "was AUX\n",
      "released VERB\n",
      ", PUNCT\n",
      "it PRON\n",
      "was AUX\n",
      "kept VERB\n",
      "deflated VERB\n",
      "until ADP\n",
      "at ADP\n",
      "least ADJ\n",
      "5 NUM\n",
      "to PART\n",
      "10 NUM\n",
      "minutes NOUN\n",
      "had AUX\n",
      "passed VERB\n",
      "and CCONJ\n",
      "then ADV\n",
      "it PRON\n",
      "was AUX\n",
      "activated VERB\n",
      "and CCONJ\n",
      "then ADV\n",
      "removed VERB\n",
      "in ADP\n",
      "the DET\n",
      "recovery NOUN\n",
      "room NOUN\n",
      ". PUNCT\n",
      "the DET\n",
      "dressings NOUN\n",
      "applied VERB\n",
      "to ADP\n",
      "the DET\n",
      "hand NOUN\n",
      "were AUX\n",
      "that DET\n",
      "of ADP\n",
      "xeroform PROPN\n",
      ", PUNCT\n",
      "4x4s NUM\n",
      ", PUNCT\n",
      "abd PROPN\n",
      ", PUNCT\n",
      "kerlix PROPN\n",
      ", PUNCT\n",
      "and CCONJ\n",
      "elastic ADJ\n",
      "wrap NOUN\n",
      "over ADP\n",
      "a DET\n",
      "volar ADJ\n",
      "fiberglass NOUN\n",
      "splint NOUN\n",
      ". PUNCT\n",
      "the DET\n",
      "tourniquet NOUN\n",
      "was AUX\n",
      "released VERB\n",
      ". PUNCT\n",
      "circulation NOUN\n",
      "returned VERB\n",
      "to ADP\n",
      "the DET\n",
      "fingers NOUN\n",
      ". PUNCT\n",
      "the DET\n",
      "patient NOUN\n",
      "then ADV\n",
      "was AUX\n",
      "allowed VERB\n",
      "to PART\n",
      "awaken VERB\n",
      "and CCONJ\n",
      "left VERB\n",
      "the DET\n",
      "operating NOUN\n",
      "room NOUN\n",
      "in ADP\n",
      "good ADJ\n",
      "condition NOUN\n",
      ". PUNCT\n"
     ]
    }
   ],
   "source": [
    "sample_text = data.clean_text.iloc[1]\n",
    "doc = nlp(sample_text)\n",
    "for token in doc:\n",
    "    print(token.text, token.pos_)"
   ]
  },
  {
   "cell_type": "markdown",
   "metadata": {},
   "source": [
    "<a id='stopword'></a>\n",
    "\n",
    "### Stop word removal\n",
    "\n",
    "Let us first see the most frequent words in the dataset"
   ]
  },
  {
   "cell_type": "code",
   "execution_count": 28,
   "metadata": {},
   "outputs": [
    {
     "data": {
      "text/plain": [
       "the        25097\n",
       "and        13490\n",
       "was        11400\n",
       "of         10042\n",
       "to         8007 \n",
       "a          6586 \n",
       "with       5734 \n",
       "in         5245 \n",
       "is         3990 \n",
       "patient    3013 \n",
       "were       2665 \n",
       "she        2632 \n",
       "no         2612 \n",
       "on         2588 \n",
       "for        2533 \n",
       "he         2322 \n",
       "at         2222 \n",
       "this       2147 \n",
       "there      2041 \n",
       "then       1995 \n",
       "dtype: int64"
      ]
     },
     "execution_count": 28,
     "metadata": {},
     "output_type": "execute_result"
    }
   ],
   "source": [
    "pd.Series(\" \".join(data.clean_text.values).split()).value_counts().head(20)"
   ]
  },
  {
   "cell_type": "markdown",
   "metadata": {},
   "source": [
    "Top 10 words based on frequency are english words like - articles, conjuctions, prepositions etc. These words often do not play in significant roles in the downstream applications. We need to remove these words to reduce the model complexity."
   ]
  },
  {
   "cell_type": "code",
   "execution_count": 29,
   "metadata": {},
   "outputs": [
    {
     "name": "stdout",
     "output_type": "stream",
     "text": [
      "['i', 'me', 'my', 'myself', 'we', 'our', 'ours', 'ourselves', 'you', \"you're\"]\n"
     ]
    }
   ],
   "source": [
    "stopword_list = nltk.corpus.stopwords.words('english')\n",
    "\n",
    "print (stopword_list[:10])"
   ]
  },
  {
   "cell_type": "code",
   "execution_count": 30,
   "metadata": {},
   "outputs": [],
   "source": [
    "def lemmatize_and_remove_stopwords(text):\n",
    "    doc = nlp(text)\n",
    "    tokens = [word.lemma_ if word.lemma_ != '-PRON-' else word.text for word in doc]\n",
    "    filtered_tokens = [token for token in tokens if token.lower() not in stopword_list]\n",
    "    filtered_text = ' '.join(filtered_tokens)    \n",
    "    return filtered_text"
   ]
  },
  {
   "cell_type": "code",
   "execution_count": 31,
   "metadata": {},
   "outputs": [
    {
     "data": {
      "text/plain": [
       "'preoperative ganglion of the left wrist. postoperative ganglion of the left wrist. excision of ganglion. general. estimated blood less than 5 ml. after a successful anesthetic, the patient was positioned on the operating table. a tourniquet applied to the upper arm. the extremity was prepped in a usual manner for a surgical procedure and draped off. the superficial vessels were exsanguinated with an elastic wrap and the tourniquet was then inflated to the usual arm pressure. a curved incision was made over the presenting ganglion over the dorsal aspect of the wrist. by blunt and sharp dissection, it was dissected out from underneath the extensor tendons and the stalk appeared to arise from the distal radiocapitellar joint and the dorsal capsule was excised along with the ganglion and the specimen was removed and submitted. the small superficial vessels were electrocoagulated and instilled after closing the skin with 4-0 prolene, into the area was approximately 6 to 7 ml of 0.25 marcaine with epinephrine. a jackson-pratt drain was inserted and then after the tourniquet was released, it was kept deflated until at least 5 to 10 minutes had passed and then it was activated and then removed in the recovery room. the dressings applied to the hand were that of xeroform, 4x4s, abd, kerlix, and elastic wrap over a volar fiberglass splint. the tourniquet was released. circulation returned to the fingers. the patient then was allowed to awaken and left the operating room in good condition.'"
      ]
     },
     "execution_count": 31,
     "metadata": {},
     "output_type": "execute_result"
    }
   ],
   "source": [
    "sample_text"
   ]
  },
  {
   "cell_type": "code",
   "execution_count": 32,
   "metadata": {},
   "outputs": [
    {
     "name": "stdout",
     "output_type": "stream",
     "text": [
      "preoperative ganglion left wrist . postoperative ganglion left wrist . excision ganglion . general . estimate blood less 5 ml . successful anesthetic , patient position operating table . tourniquet apply upper arm . extremity preppe usual manner surgical procedure drape . superficial vessel exsanguinate elastic wrap tourniquet inflate usual arm pressure . curved incision make present ganglion dorsal aspect wrist . blunt sharp dissection , dissect underneath extensor tendon stalk appear arise distal radiocapitellar joint dorsal capsule excise along ganglion specimen remove submit . small superficial vessel electrocoagulate instill close skin 4 - 0 prolene , area approximately 6 7 ml 0.25 marcaine epinephrine . jackson - pratt drain insert tourniquet release , keep deflate least 5 10 minute pass activate remove recovery room . dressing apply hand xeroform , 4x4s , abd , kerlix , elastic wrap volar fiberglass splint . tourniquet release . circulation return finger . patient allow awaken leave operating room good condition .\n"
     ]
    }
   ],
   "source": [
    "sample_text_processed = lemmatize_and_remove_stopwords(sample_text)\n",
    "print (sample_text_processed)"
   ]
  },
  {
   "cell_type": "code",
   "execution_count": 33,
   "metadata": {},
   "outputs": [],
   "source": [
    "data.clean_text = data.clean_text.apply(lemmatize_and_remove_stopwords)"
   ]
  },
  {
   "cell_type": "code",
   "execution_count": 34,
   "metadata": {},
   "outputs": [
    {
     "data": {
      "image/png": "[encoded data removed]",
      "text/plain": [
       "<Figure size 432x288 with 1 Axes>"
      ]
     },
     "metadata": {},
     "output_type": "display_data"
    }
   ],
   "source": [
    "data.clean_text.apply(lambda x: len(x.split())).plot.hist()\n",
    "plt.title(\"Distribution of total number of words in the texts\")\n",
    "plt.show()"
   ]
  },
  {
   "cell_type": "code",
   "execution_count": 35,
   "metadata": {},
   "outputs": [],
   "source": [
    "data.to_csv(\"clinical_notes_cleaned.csv\",index=False)"
   ]
  },
  {
   "cell_type": "markdown",
   "metadata": {},
   "source": [
    "### References for further reading\n",
    "\n",
    "<strong> NLP overview - </strong> https://towardsdatascience.com/a-practitioners-guide-to-natural-language-processing-part-i-processing-understanding-text-9f4abfd13e72\n",
    "\n",
    "<strong> Regular Expressions - </strong> https://regex101.com/ \n",
    "\n",
    "<strong> Spacy - </strong> https://spacy.io/usage/spacy-101\n",
    "\n",
    "<strong> NLTK - </strong> https://www.nltk.org/book/\n",
    "\n"
   ]
  },
  {
   "cell_type": "code",
   "execution_count": null,
   "metadata": {},
   "outputs": [],
   "source": []
  }
 ],
 "metadata": {
  "kernelspec": {
   "display_name": "Python 3",
   "language": "python",
   "name": "python3"
  },
  "language_info": {
   "codemirror_mode": {
    "name": "ipython",
    "version": 3
   },
   "file_extension": ".py",
   "mimetype": "text/x-python",
   "name": "python",
   "nbconvert_exporter": "python",
   "pygments_lexer": "ipython3",
   "version": "3.6.6"
  }
 },
 "nbformat": 4,
 "nbformat_minor": 2
}
